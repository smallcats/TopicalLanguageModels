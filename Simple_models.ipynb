{
  "nbformat": 4,
  "nbformat_minor": 0,
  "metadata": {
    "colab": {
      "name": "Simple_models.ipynb",
      "provenance": [],
      "collapsed_sections": [],
      "include_colab_link": true
    },
    "kernelspec": {
      "name": "python3",
      "display_name": "Python 3"
    }
  },
  "cells": [
    {
      "cell_type": "markdown",
      "metadata": {
        "id": "view-in-github",
        "colab_type": "text"
      },
      "source": [
        "<a href=\"https://colab.research.google.com/github/smallcats/TopicalLanguageModels/blob/master/Simple_models.ipynb\" target=\"_parent\"><img src=\"https://colab.research.google.com/assets/colab-badge.svg\" alt=\"Open In Colab\"/></a>"
      ]
    },
    {
      "cell_type": "code",
      "metadata": {
        "id": "2UEx--3XqIRN",
        "colab_type": "code",
        "colab": {}
      },
      "source": [
        "import numpy as np\n",
        "\n",
        "import nltk\n",
        "import re\n",
        "from gensim.corpora.dictionary import Dictionary\n",
        "from gensim.models.ldamodel import LdaModel as LDA"
      ],
      "execution_count": 0,
      "outputs": []
    },
    {
      "cell_type": "code",
      "metadata": {
        "id": "t4XsgYBrORtE",
        "colab_type": "code",
        "colab": {
          "base_uri": "https://localhost:8080/",
          "height": 104
        },
        "outputId": "a74ebea5-4b0d-48e2-b6f0-960213131620"
      },
      "source": [
        "nltk.download('gutenberg')\n",
        "nltk.download('punkt')"
      ],
      "execution_count": 4,
      "outputs": [
        {
          "output_type": "stream",
          "text": [
            "[nltk_data] Downloading package gutenberg to /root/nltk_data...\n",
            "[nltk_data]   Unzipping corpora/gutenberg.zip.\n",
            "[nltk_data] Downloading package punkt to /root/nltk_data...\n",
            "[nltk_data]   Unzipping tokenizers/punkt.zip.\n"
          ],
          "name": "stdout"
        },
        {
          "output_type": "execute_result",
          "data": {
            "text/plain": [
              "True"
            ]
          },
          "metadata": {
            "tags": []
          },
          "execution_count": 4
        }
      ]
    },
    {
      "cell_type": "code",
      "metadata": {
        "id": "YrVruGRIrseo",
        "colab_type": "code",
        "colab": {}
      },
      "source": [
        "def multiples(it, n):\n",
        "  for k in range(len(it)-n+1):\n",
        "    yield it[k:k+n]\n",
        "\n",
        "class SimpleTopicalLM:\n",
        "  \"\"\"\n",
        "  Word-level Topical Language Model using LDA as a topic model, and n-gram\n",
        "    language models.\n",
        "  \"\"\"\n",
        "  def __init__(self, num_topics, window=3, filter_stopwords=True, \n",
        "               stopwords=None, filter_nonalpha=True, lower=True, \n",
        "               min_doc_length=2):\n",
        "    self.num_topics = num_topics\n",
        "    self.window = window\n",
        "    self.filter_stopwords = filter_stopwords\n",
        "    self.filter_nonalpha = filter_nonalpha\n",
        "    self.min_doc_length = min_doc_length\n",
        "    self.lower = lower\n",
        "    if stopwords is None:\n",
        "      self.stopwords = {'a', 'about', 'above', 'after', 'again', 'against', \n",
        "                        'ain', 'all', 'am', 'an', 'and', 'any', 'are', 'aren', \n",
        "                        \"aren't\", 'as', 'at', 'be', 'because', 'been', 'before', \n",
        "                        'being', 'below', 'between', 'both', 'but', 'by', 'can', \n",
        "                        'couldn', \"couldn't\", 'd', 'did', 'didn', \"didn't\", \n",
        "                        'do', 'does', 'doesn', \"doesn't\", 'doing', 'don', \n",
        "                        \"don't\", 'down', 'during', 'each', 'few', 'for', 'from', \n",
        "                        'further', 'had', 'hadn', \"hadn't\", 'has', 'hasn', \n",
        "                        \"hasn't\", 'have', 'haven', \"haven't\", 'having', 'he', \n",
        "                        'her', 'here', 'hers', 'herself', 'him', 'himself', \n",
        "                        'his', 'how', 'i', 'if', 'in', 'into', 'is', 'isn', \n",
        "                        \"isn't\", 'it', \"it's\", 'its', 'itself', 'just', 'll', \n",
        "                        'm', 'ma', 'me', 'mightn', \"mightn't\", 'more', 'most', \n",
        "                        'mustn', \"mustn't\", 'my', 'myself', 'needn', \"needn't\", \n",
        "                        'no', 'nor', 'not', 'now', 'o', 'of', 'off', 'on', \n",
        "                        'once', 'only', 'or', 'other', 'our', 'ours', \n",
        "                        'ourselves', 'out', 'over', 'own', 're', 's', 'same', \n",
        "                        'shan', \"shan't\", 'she', \"she's\", 'should', \"should've\", \n",
        "                        'shouldn', \"shouldn't\", 'so', 'some', 'such', 't', \n",
        "                        'than', 'that', \"that'll\", 'the', 'their', 'theirs', \n",
        "                        'them', 'themselves', 'then', 'there', 'these', 'they', \n",
        "                        'this', 'those', 'through', 'to', 'too', 'under', \n",
        "                        'until', 'up', 've', 'very', 'was', 'wasn', \"wasn't\", \n",
        "                        'we', 'were', 'weren', \"weren't\", 'what', 'when', \n",
        "                        'where', 'which', 'while', 'who', 'whom', 'why', 'will', \n",
        "                        'with', 'won', \"won't\", 'wouldn', \"wouldn't\", 'y', \n",
        "                        'you', \"you'd\", \"you'll\", \"you're\", \"you've\", 'your', \n",
        "                        'yours', 'yourself', 'yourselves'}\n",
        "    else:\n",
        "      self.stopwords = stopwords\n",
        "\n",
        "  def fit(self, documents, verbose=0):\n",
        "    \"\"\"\n",
        "    fit(self, documents)\n",
        "\n",
        "    documents should be a list of sentences, and a sentence a list of words.\n",
        "    \"\"\"\n",
        "    if verbose > 0:\n",
        "      print('Cleaning documents for LDA.')\n",
        "\n",
        "    cleaned_docs = [d for d in documents]\n",
        "    if self.filter_nonalpha:\n",
        "      cleaned_docs = [[w for w in d if re.match(r'^[a-z]+$',w)] for d in cleaned_docs]\n",
        "    if self.filter_stopwords:\n",
        "      cleaned_docs = [[w for w in d if w not in self.stopwords] for d in cleaned_docs]\n",
        "    if self.lower:\n",
        "      cleaned_docs = [[w.lower() for w in d] for d in cleaned_docs]\n",
        "    cleaned_docs = [d for d in documents if len(d)>= self.min_doc_length]\n",
        "\n",
        "    if verbose > 0:\n",
        "      print('Fitting LDA.')\n",
        "\n",
        "    indexer = Dictionary(cleaned_docs)\n",
        "    bow = [indexer.doc2bow(d) for d in cleaned_docs]\n",
        "    self.topic_model = LDA(bow, num_topics=self.num_topics, id2word=indexer)\n",
        "\n",
        "    if verbose > 0:\n",
        "      print('Fitting {}-gram language models'.format(self.window))\n",
        "\n",
        "    ngram_counts = [dict() for t in range(self.num_topics)]\n",
        "    ngram_tots = [dict() for t in range(self.num_topics)]\n",
        "    for k, d in enumerate(documents):\n",
        "      if verbose > 1 and k%100==0:\n",
        "        print('\\rcounting document {}'.format(k), end='')\n",
        "      for t in range(self.num_topics):\n",
        "        topic_dist = dict(self.topic_model[indexer.doc2bow(d)])\n",
        "        topic_dist = [topic_dist.get(k,0) for k in range(self.num_topics)]\n",
        "        tot = sum(topic_dist)\n",
        "        topic_dist = [p/tot for p in topic_dist]\n",
        "        d_pad = ['<start>']*(self.window-1)+d+['<end>']\n",
        "        for gram in multiples(d_pad, self.window):\n",
        "          key = ' '.join(gram[:-1])\n",
        "          word = gram[-1]\n",
        "          ngram_tots[t][key] = ngram_tots[t].get(key, 0) + topic_dist[t]\n",
        "          if key in ngram_counts[t]:\n",
        "            ngram_counts[t][key][word] = ngram_counts[t][key].get(word,0) + topic_dist[t]\n",
        "          else:\n",
        "            ngram_counts[t][key] = {word:topic_dist[t]}\n",
        "\n",
        "    self.ngram_probs = [dict() for t in range(self.num_topics)]\n",
        "    for t in range(self.num_topics):\n",
        "      for key in ngram_counts[t].keys():\n",
        "        self.ngram_probs[t][key] = []\n",
        "        for word in ngram_counts[t][key].keys():\n",
        "          p_tot = ngram_tots[t][key]\n",
        "          if p_tot > 0:\n",
        "            self.ngram_probs[t][key].append((word, ngram_counts[t][key][word]/p_tot))\n",
        "\n",
        "  def predict(self, init_doc, topic, method='sample'):\n",
        "    pad_doc = ['<start>']*(self.window-1) + init_doc\n",
        "    key = ' '.join(pad_doc[-self.window+1:])\n",
        "    if method == 'sample':\n",
        "      return np.random.choice([w for w,p in self.ngram_probs[topic][key]],\n",
        "                              p=[p for w,p in self.ngram_probs[topic][key]])\n",
        "    elif method == 'max':\n",
        "      return self.ngram_prob[topic][key][np.argmax([p for p in self.ngram_prob[topic][key]])][0]\n",
        "\n",
        "    elif method == 'distribution':\n",
        "      return self.ngram_prob[topic][key]\n",
        "\n",
        "    else:\n",
        "      raise ValueError('Unknown method.')\n",
        "\n",
        "  def rollout(self, init_doc, topic, method='monte-carlo', maxlen=100):\n",
        "    pred_method = 'sample' if method=='monte-carlo' else 'max' if method=='greedy' else ''\n",
        "    \n",
        "    for k in range(maxlen-len(init_doc)):\n",
        "      predicted = self.predict(init_doc, topic, pred_method)\n",
        "      if predicted == '<end>': break\n",
        "      init_doc.append(predicted)\n",
        "\n",
        "    return init_doc"
      ],
      "execution_count": 0,
      "outputs": []
    },
    {
      "cell_type": "code",
      "metadata": {
        "id": "5ZlCuZ-LLdU1",
        "colab_type": "code",
        "colab": {}
      },
      "source": [
        "thurs = nltk.corpus.gutenberg.sents('chesterton-thursday.txt')\n",
        "hamlet = nltk.corpus.gutenberg.sents('shakespeare-hamlet.txt')\n",
        "\n",
        "docs = list(thurs)\n",
        "docs.extend(list(hamlet))\n",
        "\n",
        "p = np.random.permutation(np.arange(len(docs)))\n",
        "docs = [docs[k] for k in p]"
      ],
      "execution_count": 0,
      "outputs": []
    },
    {
      "cell_type": "code",
      "metadata": {
        "id": "QwETfJoeSOBw",
        "colab_type": "code",
        "colab": {
          "base_uri": "https://localhost:8080/",
          "height": 87
        },
        "outputId": "19909eed-dd31-4396-b510-fd0ec49337b1"
      },
      "source": [
        "stlm = SimpleTopicalLM(num_topics=2)\n",
        "stlm.fit(docs[:1000], verbose=2)"
      ],
      "execution_count": 30,
      "outputs": [
        {
          "output_type": "stream",
          "text": [
            "Cleaning documents for LDA.\n",
            "Fitting LDA.\n",
            "Fitting 3-gram language models\n",
            "counting document 900"
          ],
          "name": "stdout"
        }
      ]
    },
    {
      "cell_type": "code",
      "metadata": {
        "id": "I3auLH1PSWOA",
        "colab_type": "code",
        "colab": {
          "base_uri": "https://localhost:8080/",
          "height": 35
        },
        "outputId": "11cd20a6-bcc3-462d-e627-023a5d5fdc6b"
      },
      "source": [
        "stlm.predict(['The'], topic=0)"
      ],
      "execution_count": 31,
      "outputs": [
        {
          "output_type": "execute_result",
          "data": {
            "text/plain": [
              "'unpardonable'"
            ]
          },
          "metadata": {
            "tags": []
          },
          "execution_count": 31
        }
      ]
    },
    {
      "cell_type": "code",
      "metadata": {
        "id": "uGHZ7CN2ScgR",
        "colab_type": "code",
        "colab": {
          "base_uri": "https://localhost:8080/",
          "height": 35
        },
        "outputId": "5f8f3760-73b3-4cd6-f95c-2682c282dde7"
      },
      "source": [
        "stlm.predict(['Oh'], topic=1)"
      ],
      "execution_count": 32,
      "outputs": [
        {
          "output_type": "execute_result",
          "data": {
            "text/plain": [
              "'my'"
            ]
          },
          "metadata": {
            "tags": []
          },
          "execution_count": 32
        }
      ]
    },
    {
      "cell_type": "code",
      "metadata": {
        "id": "hW_yogeTUs5R",
        "colab_type": "code",
        "colab": {
          "base_uri": "https://localhost:8080/",
          "height": 35
        },
        "outputId": "79937fd8-72b1-4451-8149-93831dc82e6e"
      },
      "source": [
        "' '.join(stlm.rollout([], topic=0))"
      ],
      "execution_count": 36,
      "outputs": [
        {
          "output_type": "execute_result",
          "data": {
            "text/plain": [
              "'Is it a free visitation ?'"
            ]
          },
          "metadata": {
            "tags": []
          },
          "execution_count": 36
        }
      ]
    },
    {
      "cell_type": "code",
      "metadata": {
        "id": "DlBBiyFTVk9e",
        "colab_type": "code",
        "colab": {
          "base_uri": "https://localhost:8080/",
          "height": 55
        },
        "outputId": "dbeb9ea2-1994-456f-b415-98c568800cb4"
      },
      "source": [
        "' '.join(stlm.rollout([], topic=1))"
      ],
      "execution_count": 37,
      "outputs": [
        {
          "output_type": "execute_result",
          "data": {
            "text/plain": [
              "'\" Into what sort of devils \\' parliament have you entrapped me , Least with this pitteous action you conuert My sterne effects : then will I follow it'"
            ]
          },
          "metadata": {
            "tags": []
          },
          "execution_count": 37
        }
      ]
    },
    {
      "cell_type": "code",
      "metadata": {
        "id": "mmpS6qf3VpwO",
        "colab_type": "code",
        "colab": {}
      },
      "source": [
        ""
      ],
      "execution_count": 0,
      "outputs": []
    }
  ]
}