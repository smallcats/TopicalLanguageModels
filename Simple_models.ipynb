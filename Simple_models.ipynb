{
  "nbformat": 4,
  "nbformat_minor": 0,
  "metadata": {
    "colab": {
      "name": "Simple_models.ipynb",
      "provenance": [],
      "collapsed_sections": [],
      "include_colab_link": true
    },
    "kernelspec": {
      "name": "python3",
      "display_name": "Python 3"
    }
  },
  "cells": [
    {
      "cell_type": "markdown",
      "metadata": {
        "id": "view-in-github",
        "colab_type": "text"
      },
      "source": [
        "<a href=\"https://colab.research.google.com/github/smallcats/TopicalLanguageModels/blob/master/Simple_models.ipynb\" target=\"_parent\"><img src=\"https://colab.research.google.com/assets/colab-badge.svg\" alt=\"Open In Colab\"/></a>"
      ]
    },
    {
      "cell_type": "code",
      "metadata": {
        "id": "2UEx--3XqIRN",
        "colab_type": "code",
        "colab": {}
      },
      "source": [
        "import numpy as np\n",
        "\n",
        "import nltk\n",
        "import re\n",
        "from gensim.corpora.dictionary import Dictionary\n",
        "from gensim.models.ldamodel import LdaModel as LDA\n",
        "\n",
        "from matplotlib import pyplot as plt"
      ],
      "execution_count": 0,
      "outputs": []
    },
    {
      "cell_type": "code",
      "metadata": {
        "id": "t4XsgYBrORtE",
        "colab_type": "code",
        "outputId": "8b6c321a-e260-4b59-9b10-1d24a2fbfa5d",
        "colab": {
          "base_uri": "https://localhost:8080/",
          "height": 104
        }
      },
      "source": [
        "nltk.download('gutenberg')\n",
        "nltk.download('punkt')"
      ],
      "execution_count": 2,
      "outputs": [
        {
          "output_type": "stream",
          "text": [
            "[nltk_data] Downloading package gutenberg to /root/nltk_data...\n",
            "[nltk_data]   Unzipping corpora/gutenberg.zip.\n",
            "[nltk_data] Downloading package punkt to /root/nltk_data...\n",
            "[nltk_data]   Unzipping tokenizers/punkt.zip.\n"
          ],
          "name": "stdout"
        },
        {
          "output_type": "execute_result",
          "data": {
            "text/plain": [
              "True"
            ]
          },
          "metadata": {
            "tags": []
          },
          "execution_count": 2
        }
      ]
    },
    {
      "cell_type": "code",
      "metadata": {
        "id": "YrVruGRIrseo",
        "colab_type": "code",
        "colab": {}
      },
      "source": [
        "def multiples(it, n):\n",
        "  for k in range(len(it)-n+1):\n",
        "    yield it[k:k+n]\n",
        "\n",
        "class SimpleTopicalLM:\n",
        "  \"\"\"\n",
        "  Word-level Topical Language Model using LDA as a topic model, and n-gram\n",
        "    language models.\n",
        "  \"\"\"\n",
        "  def __init__(self, num_topics, window=3, filter_stopwords=True, \n",
        "               stopwords=None, filter_nonalpha=True, lower=True, \n",
        "               min_doc_length=2):\n",
        "    self.num_topics = num_topics\n",
        "    self.window = window\n",
        "    self.filter_stopwords = filter_stopwords\n",
        "    self.filter_nonalpha = filter_nonalpha\n",
        "    self.min_doc_length = min_doc_length\n",
        "    self.lower = lower\n",
        "    if stopwords is None:\n",
        "      self.stopwords = {'a', 'about', 'above', 'after', 'again', 'against', \n",
        "                        'ain', 'all', 'am', 'an', 'and', 'any', 'are', 'aren', \n",
        "                        \"aren't\", 'as', 'at', 'be', 'because', 'been', 'before', \n",
        "                        'being', 'below', 'between', 'both', 'but', 'by', 'can', \n",
        "                        'couldn', \"couldn't\", 'd', 'did', 'didn', \"didn't\", \n",
        "                        'do', 'does', 'doesn', \"doesn't\", 'doing', 'don', \n",
        "                        \"don't\", 'down', 'during', 'each', 'few', 'for', 'from', \n",
        "                        'further', 'had', 'hadn', \"hadn't\", 'has', 'hasn', \n",
        "                        \"hasn't\", 'have', 'haven', \"haven't\", 'having', 'he', \n",
        "                        'her', 'here', 'hers', 'herself', 'him', 'himself', \n",
        "                        'his', 'how', 'i', 'if', 'in', 'into', 'is', 'isn', \n",
        "                        \"isn't\", 'it', \"it's\", 'its', 'itself', 'just', 'll', \n",
        "                        'm', 'ma', 'me', 'mightn', \"mightn't\", 'more', 'most', \n",
        "                        'mustn', \"mustn't\", 'my', 'myself', 'needn', \"needn't\", \n",
        "                        'no', 'nor', 'not', 'now', 'o', 'of', 'off', 'on', \n",
        "                        'once', 'only', 'or', 'other', 'our', 'ours', \n",
        "                        'ourselves', 'out', 'over', 'own', 're', 's', 'same', \n",
        "                        'shan', \"shan't\", 'she', \"she's\", 'should', \"should've\", \n",
        "                        'shouldn', \"shouldn't\", 'so', 'some', 'such', 't', \n",
        "                        'than', 'that', \"that'll\", 'the', 'their', 'theirs', \n",
        "                        'them', 'themselves', 'then', 'there', 'these', 'they', \n",
        "                        'this', 'those', 'through', 'to', 'too', 'under', \n",
        "                        'until', 'up', 've', 'very', 'was', 'wasn', \"wasn't\", \n",
        "                        'we', 'were', 'weren', \"weren't\", 'what', 'when', \n",
        "                        'where', 'which', 'while', 'who', 'whom', 'why', 'will', \n",
        "                        'with', 'won', \"won't\", 'wouldn', \"wouldn't\", 'y', \n",
        "                        'you', \"you'd\", \"you'll\", \"you're\", \"you've\", 'your', \n",
        "                        'yours', 'yourself', 'yourselves'}\n",
        "    else:\n",
        "      self.stopwords = stopwords\n",
        "\n",
        "  def clean(self, documents):\n",
        "    cleaned_docs = [d for d in documents]\n",
        "\n",
        "    if self.filter_nonalpha:\n",
        "      cleaned_docs = [[w for w in d if re.match(r'^[a-z]+$',w)] for d in cleaned_docs]\n",
        "    if self.filter_stopwords:\n",
        "      cleaned_docs = [[w for w in d if w not in self.stopwords] for d in cleaned_docs]\n",
        "    if self.lower:\n",
        "      cleaned_docs = [[w.lower() for w in d] for d in cleaned_docs]\n",
        "\n",
        "    return cleaned_docs\n",
        "\n",
        "\n",
        "  def fit(self, documents, verbose=0):\n",
        "    \"\"\"\n",
        "    fit(self, documents)\n",
        "\n",
        "    documents should be a list of sentences, and a sentence a list of words.\n",
        "    \"\"\"\n",
        "    if verbose > 0:\n",
        "      print('Cleaning documents for LDA.')\n",
        "\n",
        "    cleaned_docs = self.clean(documents)\n",
        "    cleaned_docs = [d for d in documents if len(d)>= self.min_doc_length]\n",
        "\n",
        "    if verbose > 0:\n",
        "      print('Fitting LDA.')\n",
        "\n",
        "    indexer = Dictionary(cleaned_docs)\n",
        "    bow = [indexer.doc2bow(d) for d in cleaned_docs]\n",
        "    self.topic_model = LDA(bow, num_topics=self.num_topics, id2word=indexer)\n",
        "\n",
        "    if verbose > 0:\n",
        "      print('Fitting {}-gram language models'.format(self.window))\n",
        "\n",
        "    ngram_counts = [dict() for t in range(self.num_topics)]\n",
        "    ngram_tots = [dict() for t in range(self.num_topics)]\n",
        "    for k, d in enumerate(documents):\n",
        "      if verbose > 1 and k%100==0:\n",
        "        print('\\rcounting document {}'.format(k), end='')\n",
        "      for t in range(self.num_topics):\n",
        "        topic_dist = dict(self.topic_model[indexer.doc2bow(d)])\n",
        "        topic_dist = [topic_dist.get(k,0) for k in range(self.num_topics)]\n",
        "        tot = sum(topic_dist)\n",
        "        topic_dist = [p/tot for p in topic_dist]\n",
        "        d_pad = ['<start>']*(self.window-1)+d+['<end>']\n",
        "        for gram in multiples(d_pad, self.window):\n",
        "          key = ' '.join(gram[:-1])\n",
        "          word = gram[-1]\n",
        "          ngram_tots[t][key] = ngram_tots[t].get(key, 0) + topic_dist[t]\n",
        "          if key in ngram_counts[t]:\n",
        "            ngram_counts[t][key][word] = ngram_counts[t][key].get(word,0) + topic_dist[t]\n",
        "          else:\n",
        "            ngram_counts[t][key] = {word:topic_dist[t]}\n",
        "\n",
        "    self.ngram_probs = [dict() for t in range(self.num_topics)]\n",
        "    for t in range(self.num_topics):\n",
        "      for key in ngram_counts[t].keys():\n",
        "        self.ngram_probs[t][key] = []\n",
        "        for word in ngram_counts[t][key].keys():\n",
        "          p_tot = ngram_tots[t][key]\n",
        "          if p_tot > 0:\n",
        "            self.ngram_probs[t][key].append((word, ngram_counts[t][key][word]/p_tot))\n",
        "\n",
        "  def predict(self, init_doc, topic, method='sample'):\n",
        "    pad_doc = ['<start>']*(self.window-1) + init_doc\n",
        "    key = ' '.join(pad_doc[-self.window+1:])\n",
        "    if method == 'sample':\n",
        "      return np.random.choice([w for w,p in self.ngram_probs[topic][key]],\n",
        "                              p=[p for w,p in self.ngram_probs[topic][key]])\n",
        "    elif method == 'max':\n",
        "      return self.ngram_probs[topic][key][np.argmax([p for w,p in self.ngram_probs[topic][key]])][0]\n",
        "\n",
        "    elif method == 'distribution':\n",
        "      return self.ngram_probs[topic][key]\n",
        "\n",
        "    else:\n",
        "      raise ValueError('Unknown method.')\n",
        "\n",
        "  def rollout(self, init_doc, topic, method='monte-carlo', maxlen=100):\n",
        "    pred_method = 'sample' if method=='monte-carlo' else 'max' if method=='greedy' else ''\n",
        "    \n",
        "    for k in range(maxlen-len(init_doc)):\n",
        "      predicted = self.predict(init_doc, topic, pred_method)\n",
        "      if predicted == '<end>': break\n",
        "      init_doc.append(predicted)\n",
        "\n",
        "    return init_doc\n",
        "\n",
        "  def get_topics(self, doc):\n",
        "    cleaned = self.clean([doc])[0]\n",
        "    bow = self.topic_model.id2word.doc2bow(cleaned)\n",
        "    return [dict(self.topic_model[bow]).get(k,0) for k in range(self.num_topics)]"
      ],
      "execution_count": 0,
      "outputs": []
    },
    {
      "cell_type": "code",
      "metadata": {
        "id": "5ZlCuZ-LLdU1",
        "colab_type": "code",
        "colab": {}
      },
      "source": [
        "thurs = nltk.corpus.gutenberg.sents('chesterton-thursday.txt')\n",
        "hamlet = nltk.corpus.gutenberg.sents('shakespeare-hamlet.txt')\n",
        "\n",
        "docs = [('thurs', d) for d in thurs]\n",
        "docs.extend([('hamlet', d) for d in hamlet])\n",
        "\n",
        "p = np.random.permutation(np.arange(len(docs)))\n",
        "docs = [docs[k] for k in p]"
      ],
      "execution_count": 0,
      "outputs": []
    },
    {
      "cell_type": "code",
      "metadata": {
        "id": "QwETfJoeSOBw",
        "colab_type": "code",
        "outputId": "10a34472-ab81-497e-a1eb-c4c79d9ee9ad",
        "colab": {
          "base_uri": "https://localhost:8080/",
          "height": 87
        }
      },
      "source": [
        "stlm = SimpleTopicalLM(num_topics=2)\n",
        "stlm.fit([d for t, d in docs[:4000]], verbose=2)"
      ],
      "execution_count": 48,
      "outputs": [
        {
          "output_type": "stream",
          "text": [
            "Cleaning documents for LDA.\n",
            "Fitting LDA.\n",
            "Fitting 3-gram language models\n",
            "counting document 3900"
          ],
          "name": "stdout"
        }
      ]
    },
    {
      "cell_type": "code",
      "metadata": {
        "id": "M8NtadJ7gB1V",
        "colab_type": "code",
        "colab": {
          "base_uri": "https://localhost:8080/",
          "height": 72
        },
        "outputId": "be65c80f-c08a-4e10-97ba-1e88552f1151"
      },
      "source": [
        "docs[4000][0], ' '.join(docs[4000][1])"
      ],
      "execution_count": 49,
      "outputs": [
        {
          "output_type": "execute_result",
          "data": {
            "text/plain": [
              "('thurs',\n",
              " 'He walked up to a long mirror with the ordinary instinct of his class , to pull his tie straight or to smooth his hair ; and there he saw the frightful figure that he was -- blood running down his face from where the bough had struck him , his hair standing out like yellow rags of rank grass , his clothes torn into long , wavering tatters .')"
            ]
          },
          "metadata": {
            "tags": []
          },
          "execution_count": 49
        }
      ]
    },
    {
      "cell_type": "code",
      "metadata": {
        "id": "I3auLH1PSWOA",
        "colab_type": "code",
        "outputId": "fd2fcfdb-75c2-4f74-b6c0-4ea5699c70da",
        "colab": {
          "base_uri": "https://localhost:8080/",
          "height": 35
        }
      },
      "source": [
        "stlm.get_topics(docs[4000][1])"
      ],
      "execution_count": 50,
      "outputs": [
        {
          "output_type": "execute_result",
          "data": {
            "text/plain": [
              "[0.8137511, 0.18625888]"
            ]
          },
          "metadata": {
            "tags": []
          },
          "execution_count": 50
        }
      ]
    },
    {
      "cell_type": "code",
      "metadata": {
        "id": "uGHZ7CN2ScgR",
        "colab_type": "code",
        "outputId": "e447db4e-d551-452c-88a1-489665e0d113",
        "colab": {
          "base_uri": "https://localhost:8080/",
          "height": 35
        }
      },
      "source": [
        "' '.join(stlm.rollout([], topic=0, method='monte-carlo'))"
      ],
      "execution_count": 67,
      "outputs": [
        {
          "output_type": "execute_result",
          "data": {
            "text/plain": [
              "'To the Celestiall , and then smaller with distance , and I rattled in my heart : but thou wouldest flye death .'"
            ]
          },
          "metadata": {
            "tags": []
          },
          "execution_count": 67
        }
      ]
    },
    {
      "cell_type": "code",
      "metadata": {
        "id": "tKmDsM97i_n9",
        "colab_type": "code",
        "colab": {
          "base_uri": "https://localhost:8080/",
          "height": 35
        },
        "outputId": "13fd613a-2942-4f91-82db-fbcb923542c7"
      },
      "source": [
        "' '.join(stlm.rollout([], topic=1, method='monte-carlo'))"
      ],
      "execution_count": 61,
      "outputs": [
        {
          "output_type": "execute_result",
          "data": {
            "text/plain": [
              "'Yet he rambled and dodged for a my behoue , O me thought there were other touches .'"
            ]
          },
          "metadata": {
            "tags": []
          },
          "execution_count": 61
        }
      ]
    },
    {
      "cell_type": "code",
      "metadata": {
        "id": "LobIU_UXkMSc",
        "colab_type": "code",
        "colab": {
          "base_uri": "https://localhost:8080/",
          "height": 392
        },
        "outputId": "e5b49ef9-c728-4e35-ee00-47971f9c28df"
      },
      "source": [
        "thurs_preds = [stlm.get_topics(d)[0] for t,d in docs[4000:] if t == 'thurs']\n",
        "hamlet_preds = [stlm.get_topics(d)[0] for t,d in docs[4000:] if t == 'hamlet']\n",
        "\n",
        "fig, ax = plt.subplots()\n",
        "ax.hist(thurs_preds, bins = np.linspace(0,1,100), histtype='step', label='chesterton')\n",
        "ax.hist(hamlet_preds, bins=np.linspace(0,1,100), histtype='step', label='shakespeare')\n",
        "\n",
        "ax.legend()\n",
        "ax.set_xlabel('Topic 0 fraction')\n",
        "ax.set_ylabel('Number of observations')\n",
        "\n",
        "fig.set_size_inches(10,6)\n",
        "plt.show()"
      ],
      "execution_count": 53,
      "outputs": [
        {
          "output_type": "display_data",
          "data": {
            "image/png": "[encoded data removed]",
            "text/plain": [
              "<Figure size 720x432 with 1 Axes>"
            ]
          },
          "metadata": {
            "tags": []
          }
        }
      ]
    },
    {
      "cell_type": "code",
      "metadata": {
        "id": "iJHKCWzynmVd",
        "colab_type": "code",
        "colab": {}
      },
      "source": [
        ""
      ],
      "execution_count": 0,
      "outputs": []
    }
  ]
}