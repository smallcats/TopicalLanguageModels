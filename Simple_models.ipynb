{
  "nbformat": 4,
  "nbformat_minor": 0,
  "metadata": {
    "colab": {
      "name": "Simple_models.ipynb",
      "provenance": [],
      "collapsed_sections": [],
      "include_colab_link": true
    },
    "kernelspec": {
      "name": "python3",
      "display_name": "Python 3"
    }
  },
  "cells": [
    {
      "cell_type": "markdown",
      "metadata": {
        "id": "view-in-github",
        "colab_type": "text"
      },
      "source": [
        "<a href=\"https://colab.research.google.com/github/smallcats/TopicalLanguageModels/blob/master/Simple_models.ipynb\" target=\"_parent\"><img src=\"https://colab.research.google.com/assets/colab-badge.svg\" alt=\"Open In Colab\"/></a>"
      ]
    },
    {
      "cell_type": "code",
      "metadata": {
        "id": "2UEx--3XqIRN",
        "colab_type": "code",
        "colab": {}
      },
      "source": [
        "import numpy as np\n",
        "\n",
        "import nltk\n",
        "import re\n",
        "from gensim.corpora.dictionary import Dictionary\n",
        "from gensim.models.ldamodel import LdaModel as LDA"
      ],
      "execution_count": 0,
      "outputs": []
    },
    {
      "cell_type": "code",
      "metadata": {
        "id": "YrVruGRIrseo",
        "colab_type": "code",
        "colab": {}
      },
      "source": [
        "def multiples(it, n):\n",
        "  for k in range(len(it)-n+1):\n",
        "    yield it[k:k+n]\n",
        "\n",
        "class SimpleTopicalLM:\n",
        "  \"\"\"\n",
        "  Word-level Topical Language Model using LDA as a topic model, and n-gram\n",
        "    language models.\n",
        "  \"\"\"\n",
        "  def __init__(self, num_topics, window=3, filter_stopwords=True, \n",
        "               stopwords=None, filter_nonalpha=True, min_doc_length=2):\n",
        "    self.num_topics = num_topics\n",
        "    self.window = window\n",
        "    self.filter_stopwords = filter_stopwords\n",
        "    self.filter_nonalpha = filter_nonalpha\n",
        "    self.min_doc_length = min_doc_length\n",
        "    if stopwords is None:\n",
        "      self.stopwords = {'a', 'about', 'above', 'after', 'again', 'against', \n",
        "                        'ain', 'all', 'am', 'an', 'and', 'any', 'are', 'aren', \n",
        "                        \"aren't\", 'as', 'at', 'be', 'because', 'been', 'before', \n",
        "                        'being', 'below', 'between', 'both', 'but', 'by', 'can', \n",
        "                        'couldn', \"couldn't\", 'd', 'did', 'didn', \"didn't\", \n",
        "                        'do', 'does', 'doesn', \"doesn't\", 'doing', 'don', \n",
        "                        \"don't\", 'down', 'during', 'each', 'few', 'for', 'from', \n",
        "                        'further', 'had', 'hadn', \"hadn't\", 'has', 'hasn', \n",
        "                        \"hasn't\", 'have', 'haven', \"haven't\", 'having', 'he', \n",
        "                        'her', 'here', 'hers', 'herself', 'him', 'himself', \n",
        "                        'his', 'how', 'i', 'if', 'in', 'into', 'is', 'isn', \n",
        "                        \"isn't\", 'it', \"it's\", 'its', 'itself', 'just', 'll', \n",
        "                        'm', 'ma', 'me', 'mightn', \"mightn't\", 'more', 'most', \n",
        "                        'mustn', \"mustn't\", 'my', 'myself', 'needn', \"needn't\", \n",
        "                        'no', 'nor', 'not', 'now', 'o', 'of', 'off', 'on', \n",
        "                        'once', 'only', 'or', 'other', 'our', 'ours', \n",
        "                        'ourselves', 'out', 'over', 'own', 're', 's', 'same', \n",
        "                        'shan', \"shan't\", 'she', \"she's\", 'should', \"should've\", \n",
        "                        'shouldn', \"shouldn't\", 'so', 'some', 'such', 't', \n",
        "                        'than', 'that', \"that'll\", 'the', 'their', 'theirs', \n",
        "                        'them', 'themselves', 'then', 'there', 'these', 'they', \n",
        "                        'this', 'those', 'through', 'to', 'too', 'under', \n",
        "                        'until', 'up', 've', 'very', 'was', 'wasn', \"wasn't\", \n",
        "                        'we', 'were', 'weren', \"weren't\", 'what', 'when', \n",
        "                        'where', 'which', 'while', 'who', 'whom', 'why', 'will', \n",
        "                        'with', 'won', \"won't\", 'wouldn', \"wouldn't\", 'y', \n",
        "                        'you', \"you'd\", \"you'll\", \"you're\", \"you've\", 'your', \n",
        "                        'yours', 'yourself', 'yourselves'}\n",
        "    else:\n",
        "      self.stopwords = stopwords\n",
        "\n",
        "  def fit(self, documents, verbose=0):\n",
        "    \"\"\"\n",
        "    fit(self, documents)\n",
        "\n",
        "    documents should be a list of sentences, and a sentence a list of words.\n",
        "    \"\"\"\n",
        "    if verbose > 0:\n",
        "      print('Cleaning documents for LDA.')\n",
        "\n",
        "    cleaned_docs = [d for d in documents]\n",
        "    if self.filter_nonalpha:\n",
        "      cleaned_docs = [[w for w in d if re.match(r'^[a-z]+$',w)] for d in cleaned_docs]\n",
        "    if self.filter_stopwords:\n",
        "      cleaned_docs = [[w for w in d if w not in self.stopwords]]\n",
        "    cleaned_docs = [d for d in documents if len(d)>= self.min_doc_length]\n",
        "\n",
        "    if verbose > 0:\n",
        "      print('Fitting LDA.')\n",
        "\n",
        "    indexer = Dictionary(cleaned_docs)\n",
        "    bow = [indexer.doc2bow(d) for d in cleaned_docs]\n",
        "    self.topic_model = LDA(bow, num_topics=self.num_topics, id2word=indexer)\n",
        "\n",
        "    if verbose > 0:\n",
        "      print('Fitting {}-gram language models'.format(self.window))\n",
        "\n",
        "    ngram_counts = [dict() for t in range(self.num_topics)]\n",
        "    ngram_tots = [dict() for t in range(self.num_topics)]\n",
        "    for k, d in enumerate(documents):\n",
        "      if verbose > 1 and k%100==0:\n",
        "        print('\\rcounting document {}'.format(k), end='')\n",
        "      for t in range(self.num_topics):\n",
        "        topic_dist = dict(self.topic_model[indexer.doc2bow(d)])\n",
        "        topic_dist = [topic_dist.get(k,0) for k in range(self.num_topics)]\n",
        "        tot = sum(topic_dist)\n",
        "        topic_dist = [p/tot for p in topic_dist]\n",
        "        for gram in multiples(it, self.window):\n",
        "          key = ' '.join(gram[:-1])\n",
        "          word = gram[-1]\n",
        "          ngram_tots[t][key] = ngram_tots[t].get(key, 0) + topic_dist[t]\n",
        "          if key in ngram_counts[t]:\n",
        "            ngram_counts[t][key][word] += topic_dist[t]\n",
        "          else:\n",
        "            ngram_counts[t][key] = {word:topic_dist[t]}\n",
        "\n",
        "    self.ngram_probs = [dict() for t in range(self.num_topics)]\n",
        "    for t in range(self.num_topics):\n",
        "      for key in ngram_counts.keys():\n",
        "        self.ngram_probs[t][key] = dict()\n",
        "        for word in ngram_counts[key].keys():        \n",
        "          self.ngram_probs[t][key][word] = ngram_counts[t][key][word]/ngram_tots[t][key]\n",
        "\n",
        "  def predict(self, init_sent, method='sample'):\n",
        "    pass\n",
        "\n",
        "  def rollout(self, init_sent, method='monte-carlo', maxlen=100):\n",
        "    pass"
      ],
      "execution_count": 0,
      "outputs": []
    },
    {
      "cell_type": "code",
      "metadata": {
        "id": "vKdmgcmYuCVW",
        "colab_type": "code",
        "colab": {}
      },
      "source": [
        ""
      ],
      "execution_count": 0,
      "outputs": []
    }
  ]
}