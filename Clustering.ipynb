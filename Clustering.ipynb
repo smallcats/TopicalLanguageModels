{
  "nbformat": 4,
  "nbformat_minor": 0,
  "metadata": {
    "colab": {
      "name": "Clustering.ipynb",
      "provenance": [],
      "include_colab_link": true
    },
    "kernelspec": {
      "name": "python3",
      "display_name": "Python 3"
    }
  },
  "cells": [
    {
      "cell_type": "markdown",
      "metadata": {
        "id": "view-in-github",
        "colab_type": "text"
      },
      "source": [
        "<a href=\"https://colab.research.google.com/github/smallcats/TopicalLanguageModels/blob/master/Clustering.ipynb\" target=\"_parent\"><img src=\"https://colab.research.google.com/assets/colab-badge.svg\" alt=\"Open In Colab\"/></a>"
      ]
    },
    {
      "cell_type": "code",
      "metadata": {
        "id": "EwNFSMjL-7t8",
        "colab_type": "code",
        "colab": {
          "base_uri": "https://localhost:8080/",
          "height": 35
        },
        "outputId": "3fc54398-6de7-4853-bef7-34a1ca2169e0"
      },
      "source": [
        "%tensorflow_version 1.x\n",
        "\n",
        "import numpy as np\n",
        "\n",
        "from keras.layers import Input, Layer, Dense\n",
        "from keras.models import Model\n",
        "from keras.losses import mean_squared_error\n",
        "from keras.initializers import Constant\n",
        "from keras.optimizers import SGD\n",
        "from keras.callbacks import Callback\n",
        "import keras.backend as K\n",
        "\n",
        "from matplotlib import pyplot as plt"
      ],
      "execution_count": 1,
      "outputs": [
        {
          "output_type": "stream",
          "text": [
            "Using TensorFlow backend.\n"
          ],
          "name": "stderr"
        }
      ]
    },
    {
      "cell_type": "markdown",
      "metadata": {
        "id": "Dy5ajs_5__g3",
        "colab_type": "text"
      },
      "source": [
        "### Adding homoscedastic error to loss"
      ]
    },
    {
      "cell_type": "code",
      "metadata": {
        "id": "BkC1LfLrARyQ",
        "colab_type": "code",
        "colab": {}
      },
      "source": [
        "x = np.random.randn(100000, 5)\n",
        "y = x.max(axis=1) + 0.01*np.random.randn(100000)"
      ],
      "execution_count": 0,
      "outputs": []
    },
    {
      "cell_type": "code",
      "metadata": {
        "id": "dLn8YgafAiCd",
        "colab_type": "code",
        "colab": {}
      },
      "source": [
        "class ConstSqLayer(Layer):\n",
        "  def __init__(self, **kwargs):\n",
        "    super(ConstSqLayer, self).__init__(**kwargs)\n",
        "\n",
        "  def build(self, input_shape):\n",
        "    self.sig = self.add_weight(name='sigma', shape=(1,), initializer=Constant(value=1), trainable=True)\n",
        "    super(ConstSqLayer, self).build(input_shape)\n",
        "\n",
        "  def call(self, x):\n",
        "    const = K.ones_like(x)\n",
        "    sig_arr = self.sig*const\n",
        "    return K.square(sig_arr)\n",
        "\n",
        "  def compute_output_shape(self, input_shape):\n",
        "    return input_shape"
      ],
      "execution_count": 0,
      "outputs": []
    },
    {
      "cell_type": "code",
      "metadata": {
        "id": "GThpjDo3BlOJ",
        "colab_type": "code",
        "colab": {}
      },
      "source": [
        "def noise_loss_factory(sig2, original_loss):\n",
        "  def loss(y_true, y_pred):\n",
        "    return original_loss(y_true, y_pred)/sig2 + K.log(sig2)\n",
        "  return loss"
      ],
      "execution_count": 0,
      "outputs": []
    },
    {
      "cell_type": "code",
      "metadata": {
        "id": "tiU7YvdDB0Jb",
        "colab_type": "code",
        "colab": {}
      },
      "source": [
        "K.clear_session()\n",
        "\n",
        "inp_layer = Input(shape=(5,))\n",
        "h = Dense(5, activation='relu')(inp_layer)\n",
        "out = Dense(1, name='main_output')(h)\n",
        "\n",
        "sig2 = ConstSqLayer(name='sig2_output')(out)\n",
        "\n",
        "mdl = Model(inputs=[inp_layer], outputs=[out,sig2])"
      ],
      "execution_count": 0,
      "outputs": []
    },
    {
      "cell_type": "code",
      "metadata": {
        "id": "3XBb3hGpCMeV",
        "colab_type": "code",
        "colab": {
          "base_uri": "https://localhost:8080/",
          "height": 141
        },
        "outputId": "69e3942d-fa16-40fd-c3e1-4ed34c08daed"
      },
      "source": [
        "mdl.compile('sgd', loss={'main_output':noise_loss_factory(sig2, mean_squared_error)})"
      ],
      "execution_count": 9,
      "outputs": [
        {
          "output_type": "stream",
          "text": [
            "WARNING:tensorflow:From /usr/local/lib/python3.6/dist-packages/keras/optimizers.py:793: The name tf.train.Optimizer is deprecated. Please use tf.compat.v1.train.Optimizer instead.\n",
            "\n",
            "WARNING:tensorflow:From /usr/local/lib/python3.6/dist-packages/keras/backend/tensorflow_backend.py:1702: The name tf.log is deprecated. Please use tf.math.log instead.\n",
            "\n"
          ],
          "name": "stdout"
        },
        {
          "output_type": "stream",
          "text": [
            "/usr/local/lib/python3.6/dist-packages/ipykernel_launcher.py:1: UserWarning: Output \"sig2_output\" missing from loss dictionary. We assume this was done on purpose, and we will not be expecting any data to be passed to \"sig2_output\" during training.\n",
            "  \"\"\"Entry point for launching an IPython kernel.\n"
          ],
          "name": "stderr"
        }
      ]
    },
    {
      "cell_type": "code",
      "metadata": {
        "id": "wirRPpHoCiEi",
        "colab_type": "code",
        "colab": {
          "base_uri": "https://localhost:8080/",
          "height": 679
        },
        "outputId": "37866a3e-712a-4c52-f781-a3b2452f1786"
      },
      "source": [
        "mdl.fit(x=x, y=y, batch_size=100, epochs=10)"
      ],
      "execution_count": 10,
      "outputs": [
        {
          "output_type": "stream",
          "text": [
            "WARNING:tensorflow:From /usr/local/lib/python3.6/dist-packages/keras/backend/tensorflow_backend.py:1033: The name tf.assign_add is deprecated. Please use tf.compat.v1.assign_add instead.\n",
            "\n",
            "WARNING:tensorflow:From /usr/local/lib/python3.6/dist-packages/keras/backend/tensorflow_backend.py:1020: The name tf.assign is deprecated. Please use tf.compat.v1.assign instead.\n",
            "\n",
            "WARNING:tensorflow:From /usr/local/lib/python3.6/dist-packages/keras/backend/tensorflow_backend.py:3005: The name tf.Session is deprecated. Please use tf.compat.v1.Session instead.\n",
            "\n",
            "Epoch 1/10\n",
            "WARNING:tensorflow:From /usr/local/lib/python3.6/dist-packages/keras/backend/tensorflow_backend.py:190: The name tf.get_default_session is deprecated. Please use tf.compat.v1.get_default_session instead.\n",
            "\n",
            "WARNING:tensorflow:From /usr/local/lib/python3.6/dist-packages/keras/backend/tensorflow_backend.py:197: The name tf.ConfigProto is deprecated. Please use tf.compat.v1.ConfigProto instead.\n",
            "\n",
            "WARNING:tensorflow:From /usr/local/lib/python3.6/dist-packages/keras/backend/tensorflow_backend.py:207: The name tf.global_variables is deprecated. Please use tf.compat.v1.global_variables instead.\n",
            "\n",
            "WARNING:tensorflow:From /usr/local/lib/python3.6/dist-packages/keras/backend/tensorflow_backend.py:216: The name tf.is_variable_initialized is deprecated. Please use tf.compat.v1.is_variable_initialized instead.\n",
            "\n",
            "WARNING:tensorflow:From /usr/local/lib/python3.6/dist-packages/keras/backend/tensorflow_backend.py:223: The name tf.variables_initializer is deprecated. Please use tf.compat.v1.variables_initializer instead.\n",
            "\n",
            "100000/100000 [==============================] - 2s 18us/step - loss: -0.8468 - main_output_loss: -0.8468\n",
            "Epoch 2/10\n",
            "100000/100000 [==============================] - 1s 11us/step - loss: -1.2290 - main_output_loss: -1.2290\n",
            "Epoch 3/10\n",
            "100000/100000 [==============================] - 1s 11us/step - loss: -1.3211 - main_output_loss: -1.3211\n",
            "Epoch 4/10\n",
            "100000/100000 [==============================] - 1s 11us/step - loss: -1.3431 - main_output_loss: -1.3431\n",
            "Epoch 5/10\n",
            "100000/100000 [==============================] - 1s 11us/step - loss: -1.3467 - main_output_loss: -1.3467\n",
            "Epoch 6/10\n",
            "100000/100000 [==============================] - 1s 11us/step - loss: -1.3450 - main_output_loss: -1.3450\n",
            "Epoch 7/10\n",
            "100000/100000 [==============================] - 1s 11us/step - loss: -1.3417 - main_output_loss: -1.3417\n",
            "Epoch 8/10\n",
            "100000/100000 [==============================] - 1s 11us/step - loss: -1.3450 - main_output_loss: -1.3450\n",
            "Epoch 9/10\n",
            "100000/100000 [==============================] - 1s 11us/step - loss: -1.3443 - main_output_loss: -1.3443\n",
            "Epoch 10/10\n",
            "100000/100000 [==============================] - 1s 12us/step - loss: -1.3465 - main_output_loss: -1.3465\n"
          ],
          "name": "stdout"
        },
        {
          "output_type": "execute_result",
          "data": {
            "text/plain": [
              "<keras.callbacks.History at 0x7fccbfb6ac18>"
            ]
          },
          "metadata": {
            "tags": []
          },
          "execution_count": 10
        }
      ]
    },
    {
      "cell_type": "code",
      "metadata": {
        "id": "zyU6bLO3Co4m",
        "colab_type": "code",
        "colab": {
          "base_uri": "https://localhost:8080/",
          "height": 52
        },
        "outputId": "745f0fc3-6d82-4afa-a02b-e941b008c976"
      },
      "source": [
        "a = np.random.randn(1,5)\n",
        "a, mdl.predict(a)"
      ],
      "execution_count": 11,
      "outputs": [
        {
          "output_type": "execute_result",
          "data": {
            "text/plain": [
              "(array([[ 1.56976762, -0.69525888, -0.19254441, -0.96528685,  0.23699563]]),\n",
              " [array([[1.2647722]], dtype=float32), array([[0.09538909]], dtype=float32)])"
            ]
          },
          "metadata": {
            "tags": []
          },
          "execution_count": 11
        }
      ]
    },
    {
      "cell_type": "code",
      "metadata": {
        "id": "xv9ePhtWCxzV",
        "colab_type": "code",
        "colab": {
          "base_uri": "https://localhost:8080/",
          "height": 381
        },
        "outputId": "1ddde35d-c856-4774-df3b-86e2d9d73032"
      },
      "source": [
        "K.clear_session()\n",
        "\n",
        "inp_layer = Input(shape=(5,))\n",
        "h = Dense(5, activation='relu')(inp_layer)\n",
        "out = Dense(1, name='main_output')(h)\n",
        "\n",
        "mdl = Model(inputs=[inp_layer], outputs=out)\n",
        "mdl.compile('sgd', loss='mse')\n",
        "mdl.fit(x=x, y=y, batch_size=100, epochs=10)"
      ],
      "execution_count": 12,
      "outputs": [
        {
          "output_type": "stream",
          "text": [
            "Epoch 1/10\n",
            "100000/100000 [==============================] - 1s 11us/step - loss: 0.2534\n",
            "Epoch 2/10\n",
            "100000/100000 [==============================] - 1s 10us/step - loss: 0.1266\n",
            "Epoch 3/10\n",
            "100000/100000 [==============================] - 1s 9us/step - loss: 0.0932\n",
            "Epoch 4/10\n",
            "100000/100000 [==============================] - 1s 9us/step - loss: 0.0774\n",
            "Epoch 5/10\n",
            "100000/100000 [==============================] - 1s 10us/step - loss: 0.0748\n",
            "Epoch 6/10\n",
            "100000/100000 [==============================] - 1s 10us/step - loss: 0.0735\n",
            "Epoch 7/10\n",
            "100000/100000 [==============================] - 1s 9us/step - loss: 0.0724\n",
            "Epoch 8/10\n",
            "100000/100000 [==============================] - 1s 9us/step - loss: 0.0716\n",
            "Epoch 9/10\n",
            "100000/100000 [==============================] - 1s 9us/step - loss: 0.0710\n",
            "Epoch 10/10\n",
            "100000/100000 [==============================] - 1s 9us/step - loss: 0.0704\n"
          ],
          "name": "stdout"
        },
        {
          "output_type": "execute_result",
          "data": {
            "text/plain": [
              "<keras.callbacks.History at 0x7fccba561eb8>"
            ]
          },
          "metadata": {
            "tags": []
          },
          "execution_count": 12
        }
      ]
    },
    {
      "cell_type": "code",
      "metadata": {
        "id": "_2RjMJnMDQoN",
        "colab_type": "code",
        "colab": {
          "base_uri": "https://localhost:8080/",
          "height": 52
        },
        "outputId": "4fb8e982-d461-4510-8fff-b7b582b0db87"
      },
      "source": [
        "a = np.random.randn(1,5)\n",
        "a, mdl.predict(a)"
      ],
      "execution_count": 13,
      "outputs": [
        {
          "output_type": "execute_result",
          "data": {
            "text/plain": [
              "(array([[-0.5729907 ,  1.23293485, -1.08772103, -0.38531663, -0.95405958]]),\n",
              " array([[0.95663047]], dtype=float32))"
            ]
          },
          "metadata": {
            "tags": []
          },
          "execution_count": 13
        }
      ]
    },
    {
      "cell_type": "markdown",
      "metadata": {
        "id": "XGtJCqP2DXlB",
        "colab_type": "text"
      },
      "source": [
        "### Mixed entropy loss"
      ]
    },
    {
      "cell_type": "code",
      "metadata": {
        "id": "W9dlw1GZDfys",
        "colab_type": "code",
        "colab": {
          "base_uri": "https://localhost:8080/",
          "height": 265
        },
        "outputId": "ad6da75f-cd5f-4752-e9b9-d330137f4578"
      },
      "source": [
        "def mixed_entropy_loss(y_true, y_pred):\n",
        "  eps=1e-10\n",
        "  mean = K.mean(y_pred, axis=0)\n",
        "\n",
        "  nentropy_mean = K.mean(K.sum(y_pred*K.log(y_pred+eps), axis=1))\n",
        "  mean_nentropy = K.sum(mean*K.log(mean+eps))\n",
        "\n",
        "  return mean_nentropy - nentropy_mean\n",
        "\n",
        "def get_data(n, clusters=list('abc'), dist=5, cluster_weight=None):\n",
        "  cluster_shift_dict = {c:np.array([np.cos(2*k*np.pi/len(clusters)), np.sin(2*k*np.pi/len(clusters))]) for k, c in enumerate(clusters)}\n",
        "  if cluster_weight is None:\n",
        "    cluster_id = np.random.choice(clusters, n)\n",
        "  else:\n",
        "    cluster_id = np.random.choice(clusters, n, p=np.array(cluster_weight)/sum(cluster_weight))\n",
        "  cluster_shift = np.array([cluster_shift_dict[c] for c in cluster_id])\n",
        "  \n",
        "  x = np.random.randn(n,2) + dist*cluster_shift\n",
        "\n",
        "  return x\n",
        "\n",
        "x = get_data(10000, clusters=list('abcde'), cluster_weight=[1,2,4,8,16])\n",
        "plt.scatter(x[:,0], x[:,1])\n",
        "plt.show()"
      ],
      "execution_count": 4,
      "outputs": [
        {
          "output_type": "display_data",
          "data": {
            "image/png": "[encoded data removed]",
            "text/plain": [
              "<Figure size 432x288 with 1 Axes>"
            ]
          },
          "metadata": {
            "tags": []
          }
        }
      ]
    },
    {
      "cell_type": "code",
      "metadata": {
        "id": "rEpDCK-nD5KH",
        "colab_type": "code",
        "colab": {
          "base_uri": "https://localhost:8080/",
          "height": 265
        },
        "outputId": "34670b4a-e929-4ac0-8d10-85c49e689f30"
      },
      "source": [
        "x = get_data(10000, clusters=list('ab'))\n",
        "y = np.zeros((10000,2))\n",
        "\n",
        "plt.scatter(x[:,0], x[:,1])\n",
        "plt.show()"
      ],
      "execution_count": 36,
      "outputs": [
        {
          "output_type": "display_data",
          "data": {
            "image/png": "[encoded data removed]",
            "text/plain": [
              "<Figure size 432x288 with 1 Axes>"
            ]
          },
          "metadata": {
            "tags": []
          }
        }
      ]
    },
    {
      "cell_type": "code",
      "metadata": {
        "id": "x37n9dbXFZRa",
        "colab_type": "code",
        "colab": {}
      },
      "source": [
        "inp_layer = Input(shape=(2,))\n",
        "h = Dense(5, activation='relu')(inp_layer)\n",
        "out = Dense(2, activation='softmax')(h)\n",
        "\n",
        "mdl = Model(inputs=[inp_layer], outputs=out)\n",
        "mdl.compile('sgd', loss=mixed_entropy_loss)"
      ],
      "execution_count": 0,
      "outputs": []
    },
    {
      "cell_type": "code",
      "metadata": {
        "id": "oMhnqGz_Fuow",
        "colab_type": "code",
        "colab": {
          "base_uri": "https://localhost:8080/",
          "height": 364
        },
        "outputId": "9f33ab79-fbae-4de4-a169-3ba566ef2054"
      },
      "source": [
        "hist = mdl.fit(x,y, epochs=10, verbose=1)"
      ],
      "execution_count": 39,
      "outputs": [
        {
          "output_type": "stream",
          "text": [
            "Epoch 1/10\n",
            "10000/10000 [==============================] - 0s 45us/step - loss: -0.5927\n",
            "Epoch 2/10\n",
            "10000/10000 [==============================] - 0s 28us/step - loss: -0.6699\n",
            "Epoch 3/10\n",
            "10000/10000 [==============================] - 0s 30us/step - loss: -0.6751\n",
            "Epoch 4/10\n",
            "10000/10000 [==============================] - 0s 29us/step - loss: -0.6741\n",
            "Epoch 5/10\n",
            "10000/10000 [==============================] - 0s 29us/step - loss: -0.6740\n",
            "Epoch 6/10\n",
            "10000/10000 [==============================] - 0s 31us/step - loss: -0.6764\n",
            "Epoch 7/10\n",
            "10000/10000 [==============================] - 0s 29us/step - loss: -0.6760\n",
            "Epoch 8/10\n",
            "10000/10000 [==============================] - 0s 28us/step - loss: -0.6741\n",
            "Epoch 9/10\n",
            "10000/10000 [==============================] - 0s 32us/step - loss: -0.6732\n",
            "Epoch 10/10\n",
            "10000/10000 [==============================] - 0s 29us/step - loss: -0.6749\n"
          ],
          "name": "stdout"
        }
      ]
    },
    {
      "cell_type": "code",
      "metadata": {
        "id": "16rVY9NzF3jy",
        "colab_type": "code",
        "colab": {}
      },
      "source": [
        "x_test = get_data(10000, clusters=list('ab'))\n",
        "out_test = mdl.predict(x_test)"
      ],
      "execution_count": 0,
      "outputs": []
    },
    {
      "cell_type": "code",
      "metadata": {
        "id": "sGklnMrDGGt_",
        "colab_type": "code",
        "colab": {
          "base_uri": "https://localhost:8080/",
          "height": 191
        },
        "outputId": "ad931fc1-06eb-4708-b6f8-998601b7f23f"
      },
      "source": [
        "for k in range(10):\n",
        "  sgn = '+' if x_test[k,0]>0 else '-'\n",
        "  print('{0} --> {1:1.5f}'.format(sgn,out_test[k,0]))"
      ],
      "execution_count": 41,
      "outputs": [
        {
          "output_type": "stream",
          "text": [
            "+ --> 0.00001\n",
            "- --> 1.00000\n",
            "- --> 1.00000\n",
            "+ --> 0.00000\n",
            "- --> 1.00000\n",
            "+ --> 0.00024\n",
            "- --> 0.99999\n",
            "+ --> 0.00001\n",
            "- --> 0.99987\n",
            "- --> 1.00000\n"
          ],
          "name": "stdout"
        }
      ]
    },
    {
      "cell_type": "code",
      "metadata": {
        "id": "YZEu9NoFGbjI",
        "colab_type": "code",
        "colab": {
          "base_uri": "https://localhost:8080/",
          "height": 265
        },
        "outputId": "80adc28c-e12b-490e-e333-ece4b952815f"
      },
      "source": [
        "plusses = x_test[:,0]>0\n",
        "\n",
        "fig, ax = plt.subplots()\n",
        "\n",
        "ax.hist(out_test[plusses,0], bins=np.linspace(0,1,50), label='+')\n",
        "ax.hist(out_test[~plusses,0], bins=np.linspace(0,1,50), label='-', histtype='step')\n",
        "\n",
        "plt.legend()\n",
        "plt.show()"
      ],
      "execution_count": 43,
      "outputs": [
        {
          "output_type": "display_data",
          "data": {
            "image/png": "[encoded data removed]",
            "text/plain": [
              "<Figure size 432x288 with 1 Axes>"
            ]
          },
          "metadata": {
            "tags": []
          }
        }
      ]
    },
    {
      "cell_type": "markdown",
      "metadata": {
        "colab_type": "text",
        "id": "bk0hqjPbJdA1"
      },
      "source": [
        "### Mixed entropy loss with imbalanced classes"
      ]
    },
    {
      "cell_type": "markdown",
      "metadata": {
        "id": "srdsqQklJsyk",
        "colab_type": "text"
      },
      "source": [
        "#### 90/10"
      ]
    },
    {
      "cell_type": "code",
      "metadata": {
        "id": "wVe_Y0woJdBl",
        "colab_type": "code",
        "colab": {
          "base_uri": "https://localhost:8080/",
          "height": 268
        },
        "outputId": "8819c575-a1c3-4e43-b87f-fa3bc8bae9e9"
      },
      "source": [
        "x = get_data(10000, clusters=list('ab'), cluster_weight=[90,10])\n",
        "y = np.zeros((10000,2))\n",
        "\n",
        "plt.scatter(x[:,0], x[:,1])\n",
        "plt.show()"
      ],
      "execution_count": 44,
      "outputs": [
        {
          "output_type": "display_data",
          "data": {
            "image/png": "[encoded data removed]",
            "text/plain": [
              "<Figure size 432x288 with 1 Axes>"
            ]
          },
          "metadata": {
            "tags": []
          }
        }
      ]
    },
    {
      "cell_type": "code",
      "metadata": {
        "colab_type": "code",
        "id": "5i1fCCgGJdBs",
        "colab": {}
      },
      "source": [
        "inp_layer = Input(shape=(2,))\n",
        "h = Dense(5, activation='relu')(inp_layer)\n",
        "out = Dense(2, activation='softmax')(h)\n",
        "\n",
        "mdl = Model(inputs=[inp_layer], outputs=out)\n",
        "mdl.compile('sgd', loss=mixed_entropy_loss)"
      ],
      "execution_count": 0,
      "outputs": []
    },
    {
      "cell_type": "code",
      "metadata": {
        "colab_type": "code",
        "outputId": "992b5778-dc4b-4448-8d20-e785ced5e135",
        "id": "UHIAgdmtJdBz",
        "colab": {
          "base_uri": "https://localhost:8080/",
          "height": 364
        }
      },
      "source": [
        "hist = mdl.fit(x,y, epochs=10, verbose=1)"
      ],
      "execution_count": 46,
      "outputs": [
        {
          "output_type": "stream",
          "text": [
            "Epoch 1/10\n",
            "10000/10000 [==============================] - 1s 51us/step - loss: -0.1273\n",
            "Epoch 2/10\n",
            "10000/10000 [==============================] - 0s 30us/step - loss: -0.2832\n",
            "Epoch 3/10\n",
            "10000/10000 [==============================] - 0s 30us/step - loss: -0.3056\n",
            "Epoch 4/10\n",
            "10000/10000 [==============================] - 0s 32us/step - loss: -0.3059\n",
            "Epoch 5/10\n",
            "10000/10000 [==============================] - 0s 29us/step - loss: -0.3083\n",
            "Epoch 6/10\n",
            "10000/10000 [==============================] - 0s 30us/step - loss: -0.3062\n",
            "Epoch 7/10\n",
            "10000/10000 [==============================] - 0s 30us/step - loss: -0.3116\n",
            "Epoch 8/10\n",
            "10000/10000 [==============================] - 0s 30us/step - loss: -0.3100\n",
            "Epoch 9/10\n",
            "10000/10000 [==============================] - 0s 30us/step - loss: -0.3112\n",
            "Epoch 10/10\n",
            "10000/10000 [==============================] - 0s 33us/step - loss: -0.3143\n"
          ],
          "name": "stdout"
        }
      ]
    },
    {
      "cell_type": "code",
      "metadata": {
        "colab_type": "code",
        "id": "T1oc5YQIJdB7",
        "colab": {}
      },
      "source": [
        "x_test = get_data(10000, clusters=list('ab'))\n",
        "out_test = mdl.predict(x_test)"
      ],
      "execution_count": 0,
      "outputs": []
    },
    {
      "cell_type": "code",
      "metadata": {
        "colab_type": "code",
        "outputId": "2b466ece-0984-4295-9a66-5581bc8a18bc",
        "id": "jOrrkCmoJdCF",
        "colab": {
          "base_uri": "https://localhost:8080/",
          "height": 191
        }
      },
      "source": [
        "for k in range(10):\n",
        "  sgn = '+' if x_test[k,0]>0 else '-'\n",
        "  print('{0} --> {1:1.5f}'.format(sgn,out_test[k,0]))"
      ],
      "execution_count": 48,
      "outputs": [
        {
          "output_type": "stream",
          "text": [
            "- --> 0.99939\n",
            "- --> 0.99998\n",
            "+ --> 0.00071\n",
            "+ --> 0.00000\n",
            "- --> 0.99997\n",
            "+ --> 0.00001\n",
            "+ --> 0.00001\n",
            "- --> 0.99962\n",
            "+ --> 0.00000\n",
            "- --> 0.99991\n"
          ],
          "name": "stdout"
        }
      ]
    },
    {
      "cell_type": "markdown",
      "metadata": {
        "id": "QgT3mii2KEc_",
        "colab_type": "text"
      },
      "source": [
        "Still accurate!"
      ]
    },
    {
      "cell_type": "code",
      "metadata": {
        "id": "gGPYT1GxKLEy",
        "colab_type": "code",
        "colab": {}
      },
      "source": [
        "x_test = get_data(10000, clusters=list('ab'), cluster_weight=[90,10])\n",
        "out_test = mdl.predict(x_test)"
      ],
      "execution_count": 0,
      "outputs": []
    },
    {
      "cell_type": "code",
      "metadata": {
        "colab_type": "code",
        "outputId": "94a80eab-edfd-40a7-fc6d-aedb8d28b040",
        "id": "LJsbYBqGJdCM",
        "colab": {
          "base_uri": "https://localhost:8080/",
          "height": 265
        }
      },
      "source": [
        "plusses = x_test[:,0]>0\n",
        "\n",
        "fig, ax = plt.subplots()\n",
        "\n",
        "ax.hist(out_test[plusses,0], bins=np.linspace(0,1,50), label='+')\n",
        "ax.hist(out_test[~plusses,0], bins=np.linspace(0,1,50), label='-', histtype='step')\n",
        "\n",
        "plt.legend()\n",
        "plt.show()"
      ],
      "execution_count": 51,
      "outputs": [
        {
          "output_type": "display_data",
          "data": {
            "image/png": "[encoded data removed]",
            "text/plain": [
              "<Figure size 432x288 with 1 Axes>"
            ]
          },
          "metadata": {
            "tags": []
          }
        }
      ]
    },
    {
      "cell_type": "markdown",
      "metadata": {
        "colab_type": "text",
        "id": "dAthXfpLKz6O"
      },
      "source": [
        "#### 99/1"
      ]
    },
    {
      "cell_type": "code",
      "metadata": {
        "colab_type": "code",
        "outputId": "0e506a42-32de-4c5d-e240-1ea417a1428d",
        "id": "4HCPn1tXKz6Z",
        "colab": {
          "base_uri": "https://localhost:8080/",
          "height": 265
        }
      },
      "source": [
        "x = get_data(10000, clusters=list('ab'), cluster_weight=[99,1])\n",
        "y = np.zeros((10000,2))\n",
        "\n",
        "plt.scatter(x[:,0], x[:,1])\n",
        "plt.show()"
      ],
      "execution_count": 52,
      "outputs": [
        {
          "output_type": "display_data",
          "data": {
            "image/png": "[encoded data removed]",
            "text/plain": [
              "<Figure size 432x288 with 1 Axes>"
            ]
          },
          "metadata": {
            "tags": []
          }
        }
      ]
    },
    {
      "cell_type": "code",
      "metadata": {
        "colab_type": "code",
        "id": "M_5Te1LjKz6n",
        "colab": {}
      },
      "source": [
        "inp_layer = Input(shape=(2,))\n",
        "h = Dense(5, activation='relu')(inp_layer)\n",
        "out = Dense(2, activation='softmax')(h)\n",
        "\n",
        "mdl = Model(inputs=[inp_layer], outputs=out)\n",
        "mdl.compile('sgd', loss=mixed_entropy_loss)"
      ],
      "execution_count": 0,
      "outputs": []
    },
    {
      "cell_type": "code",
      "metadata": {
        "colab_type": "code",
        "outputId": "8f5a275f-1ebc-4853-9b28-6984e589d0bb",
        "id": "DhERQL-YKz60",
        "colab": {
          "base_uri": "https://localhost:8080/",
          "height": 364
        }
      },
      "source": [
        "hist = mdl.fit(x,y, epochs=10, verbose=1)"
      ],
      "execution_count": 54,
      "outputs": [
        {
          "output_type": "stream",
          "text": [
            "Epoch 1/10\n",
            "10000/10000 [==============================] - 1s 53us/step - loss: -0.0871\n",
            "Epoch 2/10\n",
            "10000/10000 [==============================] - 0s 30us/step - loss: -0.1538\n",
            "Epoch 3/10\n",
            "10000/10000 [==============================] - 0s 29us/step - loss: -0.2248\n",
            "Epoch 4/10\n",
            "10000/10000 [==============================] - 0s 32us/step - loss: -0.2956\n",
            "Epoch 5/10\n",
            "10000/10000 [==============================] - 0s 28us/step - loss: -0.3575\n",
            "Epoch 6/10\n",
            "10000/10000 [==============================] - 0s 30us/step - loss: -0.4076\n",
            "Epoch 7/10\n",
            "10000/10000 [==============================] - 0s 30us/step - loss: -0.4448\n",
            "Epoch 8/10\n",
            "10000/10000 [==============================] - 0s 32us/step - loss: -0.4723\n",
            "Epoch 9/10\n",
            "10000/10000 [==============================] - 0s 31us/step - loss: -0.4937\n",
            "Epoch 10/10\n",
            "10000/10000 [==============================] - 0s 30us/step - loss: -0.5130\n"
          ],
          "name": "stdout"
        }
      ]
    },
    {
      "cell_type": "code",
      "metadata": {
        "colab_type": "code",
        "id": "HUyKQJdVKz69",
        "colab": {}
      },
      "source": [
        "x_test = get_data(10000, clusters=list('ab'))\n",
        "out_test = mdl.predict(x_test)"
      ],
      "execution_count": 0,
      "outputs": []
    },
    {
      "cell_type": "code",
      "metadata": {
        "colab_type": "code",
        "outputId": "edbc2cc5-e115-426a-e5ad-a16186fd22e5",
        "id": "SJoUu-iWKz7I",
        "colab": {
          "base_uri": "https://localhost:8080/",
          "height": 191
        }
      },
      "source": [
        "for k in range(10):\n",
        "  sgn = '+' if x_test[k,0]>0 else '-'\n",
        "  print('{0} --> {1:1.5f}'.format(sgn,out_test[k,0]))"
      ],
      "execution_count": 56,
      "outputs": [
        {
          "output_type": "stream",
          "text": [
            "+ --> 0.00175\n",
            "- --> 0.10043\n",
            "- --> 0.00000\n",
            "+ --> 0.97365\n",
            "- --> 0.03527\n",
            "+ --> 0.97365\n",
            "- --> 0.01687\n",
            "- --> 0.01136\n",
            "+ --> 0.00000\n",
            "- --> 0.07835\n"
          ],
          "name": "stdout"
        }
      ]
    },
    {
      "cell_type": "markdown",
      "metadata": {
        "colab_type": "text",
        "id": "BV7eN80ZKz7Q"
      },
      "source": [
        "fairly accurate on minority class - not accurate on majority"
      ]
    },
    {
      "cell_type": "code",
      "metadata": {
        "colab_type": "code",
        "id": "Kg7oz3KXKz7T",
        "colab": {}
      },
      "source": [
        "x_test = get_data(10000, clusters=list('ab'), cluster_weight=[99,1])\n",
        "out_test = mdl.predict(x_test)"
      ],
      "execution_count": 0,
      "outputs": []
    },
    {
      "cell_type": "code",
      "metadata": {
        "colab_type": "code",
        "outputId": "f4b5e0d6-3c88-4d68-9ced-0b9e11850485",
        "id": "lbJMiTHpKz7f",
        "colab": {
          "base_uri": "https://localhost:8080/",
          "height": 265
        }
      },
      "source": [
        "plusses = x_test[:,0]>0\n",
        "\n",
        "fig, ax = plt.subplots()\n",
        "\n",
        "ax.hist(out_test[plusses,0], bins=np.linspace(0,1,50), label='+')\n",
        "ax.hist(out_test[~plusses,0], bins=np.linspace(0,1,50), label='-', histtype='step')\n",
        "\n",
        "plt.legend()\n",
        "plt.show()"
      ],
      "execution_count": 58,
      "outputs": [
        {
          "output_type": "display_data",
          "data": {
            "image/png": "[encoded data removed]",
            "text/plain": [
              "<Figure size 432x288 with 1 Axes>"
            ]
          },
          "metadata": {
            "tags": []
          }
        }
      ]
    },
    {
      "cell_type": "markdown",
      "metadata": {
        "id": "PXlH1wBSKlNy",
        "colab_type": "text"
      },
      "source": [
        "### With extra classes in the model"
      ]
    },
    {
      "cell_type": "markdown",
      "metadata": {
        "id": "SjaHVw1pRSD5",
        "colab_type": "text"
      },
      "source": [
        "#### Three classes"
      ]
    },
    {
      "cell_type": "code",
      "metadata": {
        "id": "M7AeKYuUOM1R",
        "colab_type": "code",
        "colab": {}
      },
      "source": [
        "x = get_data(10000, clusters=list('ab'))\n",
        "y = np.zeros((10000,2))"
      ],
      "execution_count": 0,
      "outputs": []
    },
    {
      "cell_type": "code",
      "metadata": {
        "id": "cW4WDFlUOZVK",
        "colab_type": "code",
        "colab": {}
      },
      "source": [
        "inp_layer = Input(shape=(2,))\n",
        "h = Dense(5, activation='relu')(inp_layer)\n",
        "out=Dense(3, activation='softmax')(h)\n",
        "\n",
        "mdl = Model(inputs=[inp_layer], outputs=out)\n",
        "mdl.compile('sgd', loss=mixed_entropy_loss)"
      ],
      "execution_count": 0,
      "outputs": []
    },
    {
      "cell_type": "code",
      "metadata": {
        "id": "slNzS8cAO0JX",
        "colab_type": "code",
        "colab": {
          "base_uri": "https://localhost:8080/",
          "height": 364
        },
        "outputId": "a78b9d16-4085-46a3-bb29-35077ed26a10"
      },
      "source": [
        "hist = mdl.fit(x,y, epochs=10, verbose=1)"
      ],
      "execution_count": 61,
      "outputs": [
        {
          "output_type": "stream",
          "text": [
            "Epoch 1/10\n",
            "10000/10000 [==============================] - 1s 59us/step - loss: -0.5962\n",
            "Epoch 2/10\n",
            "10000/10000 [==============================] - 0s 31us/step - loss: -0.6698\n",
            "Epoch 3/10\n",
            "10000/10000 [==============================] - 0s 34us/step - loss: -0.6746\n",
            "Epoch 4/10\n",
            "10000/10000 [==============================] - 0s 33us/step - loss: -0.6746\n",
            "Epoch 5/10\n",
            "10000/10000 [==============================] - 0s 35us/step - loss: -0.6788\n",
            "Epoch 6/10\n",
            "10000/10000 [==============================] - 0s 35us/step - loss: -0.6772\n",
            "Epoch 7/10\n",
            "10000/10000 [==============================] - 0s 34us/step - loss: -0.6790\n",
            "Epoch 8/10\n",
            "10000/10000 [==============================] - 0s 35us/step - loss: -0.6797\n",
            "Epoch 9/10\n",
            "10000/10000 [==============================] - 0s 36us/step - loss: -0.6805\n",
            "Epoch 10/10\n",
            "10000/10000 [==============================] - 0s 33us/step - loss: -0.6807\n"
          ],
          "name": "stdout"
        }
      ]
    },
    {
      "cell_type": "code",
      "metadata": {
        "id": "T0exu4-MO3xy",
        "colab_type": "code",
        "colab": {}
      },
      "source": [
        "x_test = get_data(10000, clusters=list('ab'))\n",
        "out_test = mdl.predict(x_test)"
      ],
      "execution_count": 0,
      "outputs": []
    },
    {
      "cell_type": "code",
      "metadata": {
        "id": "xHlWc0YjPA-I",
        "colab_type": "code",
        "colab": {
          "base_uri": "https://localhost:8080/",
          "height": 295
        },
        "outputId": "ffb86cdb-8325-4de4-ba8f-46bfe4aa7e2c"
      },
      "source": [
        "print(' '*10+'0'+' '*7+'1'+' '*7+'2')\n",
        "for k in range(15):\n",
        "  sgn = '+' if x_test[k,0]>0 else '-'\n",
        "  print('{0} --> {1:1.5f} {2:1.5f} {3:1.5f}'.format(sgn,out_test[k,0],out_test[k,1],out_test[k,2]))"
      ],
      "execution_count": 63,
      "outputs": [
        {
          "output_type": "stream",
          "text": [
            "          0       1       2\n",
            "+ --> 0.00005 0.08762 0.91233\n",
            "- --> 0.99998 0.00001 0.00001\n",
            "- --> 1.00000 0.00000 0.00000\n",
            "- --> 0.99999 0.00001 0.00001\n",
            "+ --> 0.00250 0.22076 0.77674\n",
            "+ --> 0.00029 0.11834 0.88137\n",
            "- --> 0.99997 0.00001 0.00001\n",
            "- --> 0.99950 0.00024 0.00026\n",
            "- --> 0.99999 0.00000 0.00001\n",
            "- --> 1.00000 0.00000 0.00000\n",
            "+ --> 0.00031 0.13406 0.86563\n",
            "+ --> 0.00110 0.11600 0.88290\n",
            "+ --> 0.00027 0.12328 0.87644\n",
            "+ --> 0.00002 0.06284 0.93714\n",
            "+ --> 0.00010 0.05926 0.94064\n"
          ],
          "name": "stdout"
        }
      ]
    },
    {
      "cell_type": "code",
      "metadata": {
        "id": "Q51d5jLIP1CF",
        "colab_type": "code",
        "colab": {
          "base_uri": "https://localhost:8080/",
          "height": 537
        },
        "outputId": "0a6ac2a3-25e9-4f82-8f20-001992c2ba5a"
      },
      "source": [
        "plusses = x_test[:,0]>0\n",
        "\n",
        "fig, axs = plt.subplots(3)\n",
        "\n",
        "for k, ax in enumerate(axs):\n",
        "  ax.hist(out_test[plusses,k], bins=np.linspace(0,1,50), label='+')\n",
        "  ax.hist(out_test[~plusses,k], bins=np.linspace(0,1,50), label='-', histtype='step')\n",
        "  if k == 1: ax.legend(loc='center right')\n",
        "\n",
        "fig.set_size_inches(4,9)\n",
        "plt.show()"
      ],
      "execution_count": 66,
      "outputs": [
        {
          "output_type": "display_data",
          "data": {
            "image/png": "[encoded data removed]",
            "text/plain": [
              "<Figure size 288x648 with 3 Axes>"
            ]
          },
          "metadata": {
            "tags": []
          }
        }
      ]
    },
    {
      "cell_type": "markdown",
      "metadata": {
        "colab_type": "text",
        "id": "fkTGwOo1Rg1l"
      },
      "source": [
        "#### Four classes"
      ]
    },
    {
      "cell_type": "code",
      "metadata": {
        "colab_type": "code",
        "id": "b0b9XRPxRg19",
        "colab": {}
      },
      "source": [
        "x = get_data(10000, clusters=list('ab'))\n",
        "y = np.zeros((10000,2))"
      ],
      "execution_count": 0,
      "outputs": []
    },
    {
      "cell_type": "code",
      "metadata": {
        "colab_type": "code",
        "id": "6TeP05jrRg2N",
        "colab": {}
      },
      "source": [
        "inp_layer = Input(shape=(2,))\n",
        "h = Dense(5, activation='relu')(inp_layer)\n",
        "out=Dense(4, activation='softmax')(h)\n",
        "\n",
        "mdl = Model(inputs=[inp_layer], outputs=out)\n",
        "mdl.compile('sgd', loss=mixed_entropy_loss)"
      ],
      "execution_count": 0,
      "outputs": []
    },
    {
      "cell_type": "code",
      "metadata": {
        "colab_type": "code",
        "outputId": "9c71ee32-7615-4214-b39a-9e6e0a94b22a",
        "id": "h3bVqpDrRg2Z",
        "colab": {
          "base_uri": "https://localhost:8080/",
          "height": 364
        }
      },
      "source": [
        "hist = mdl.fit(x,y, epochs=10, verbose=1)"
      ],
      "execution_count": 69,
      "outputs": [
        {
          "output_type": "stream",
          "text": [
            "Epoch 1/10\n",
            "10000/10000 [==============================] - 1s 62us/step - loss: -0.5800\n",
            "Epoch 2/10\n",
            "10000/10000 [==============================] - 0s 31us/step - loss: -0.6654\n",
            "Epoch 3/10\n",
            "10000/10000 [==============================] - 0s 31us/step - loss: -0.6727\n",
            "Epoch 4/10\n",
            "10000/10000 [==============================] - 0s 32us/step - loss: -0.6762\n",
            "Epoch 5/10\n",
            "10000/10000 [==============================] - 0s 31us/step - loss: -0.6760\n",
            "Epoch 6/10\n",
            "10000/10000 [==============================] - 0s 30us/step - loss: -0.6768\n",
            "Epoch 7/10\n",
            "10000/10000 [==============================] - 0s 30us/step - loss: -0.6770\n",
            "Epoch 8/10\n",
            "10000/10000 [==============================] - 0s 30us/step - loss: -0.6792\n",
            "Epoch 9/10\n",
            "10000/10000 [==============================] - 0s 30us/step - loss: -0.6807\n",
            "Epoch 10/10\n",
            "10000/10000 [==============================] - 0s 29us/step - loss: -0.6849\n"
          ],
          "name": "stdout"
        }
      ]
    },
    {
      "cell_type": "code",
      "metadata": {
        "colab_type": "code",
        "id": "a_CTG9u0Rg2q",
        "colab": {}
      },
      "source": [
        "x_test = get_data(10000, clusters=list('ab'))\n",
        "out_test = mdl.predict(x_test)"
      ],
      "execution_count": 0,
      "outputs": []
    },
    {
      "cell_type": "code",
      "metadata": {
        "colab_type": "code",
        "outputId": "38d802dc-359b-409f-f332-577aaea5dc3e",
        "id": "fU_D5AmyRg21",
        "colab": {
          "base_uri": "https://localhost:8080/",
          "height": 295
        }
      },
      "source": [
        "print(' '*10+'0'+' '*7+'1'+' '*7+'2'+' '*7+'3')\n",
        "for k in range(15):\n",
        "  sgn = '+' if x_test[k,0]>0 else '-'\n",
        "  print('{0} --> {1:1.5f} {2:1.5f} {3:1.5f} {4:1.5f}'.format(sgn,out_test[k,0],out_test[k,1],out_test[k,2],out_test[k,3]))"
      ],
      "execution_count": 71,
      "outputs": [
        {
          "output_type": "stream",
          "text": [
            "          0       1       2       3\n",
            "- --> 0.00000 0.00000 0.00002 0.99998\n",
            "+ --> 0.02831 0.97142 0.00015 0.00012\n",
            "- --> 0.00005 0.00000 0.00022 0.99974\n",
            "+ --> 0.01130 0.98787 0.00048 0.00036\n",
            "+ --> 0.02542 0.97424 0.00019 0.00015\n",
            "+ --> 0.06063 0.93926 0.00006 0.00005\n",
            "+ --> 0.02315 0.97658 0.00015 0.00012\n",
            "- --> 0.00007 0.00000 0.00024 0.99968\n",
            "+ --> 0.17327 0.82048 0.00328 0.00297\n",
            "+ --> 0.00359 0.99640 0.00001 0.00001\n",
            "+ --> 0.10702 0.89184 0.00061 0.00053\n",
            "+ --> 0.07108 0.92862 0.00016 0.00014\n",
            "+ --> 0.20575 0.79367 0.00030 0.00028\n",
            "- --> 0.00002 0.00000 0.00009 0.99989\n",
            "+ --> 0.01825 0.98158 0.00009 0.00007\n"
          ],
          "name": "stdout"
        }
      ]
    },
    {
      "cell_type": "code",
      "metadata": {
        "colab_type": "code",
        "outputId": "222af672-b235-4d13-df41-6ece105b3e9a",
        "id": "XQuOZ4SERg2-",
        "colab": {
          "base_uri": "https://localhost:8080/",
          "height": 374
        }
      },
      "source": [
        "plusses = x_test[:,0]>0\n",
        "\n",
        "fig, axs = plt.subplots(2,2)\n",
        "\n",
        "for k, ax in enumerate(axs.flatten()):\n",
        "  ax.hist(out_test[plusses,k], bins=np.linspace(0,1,50), label='+')\n",
        "  ax.hist(out_test[~plusses,k], bins=np.linspace(0,1,50), label='-', histtype='step')\n",
        "  if k == 1: ax.legend(loc='center right')\n",
        "\n",
        "fig.set_size_inches(8,6)\n",
        "plt.show()"
      ],
      "execution_count": 78,
      "outputs": [
        {
          "output_type": "display_data",
          "data": {
            "image/png": "[encoded data removed]",
            "text/plain": [
              "<Figure size 576x432 with 4 Axes>"
            ]
          },
          "metadata": {
            "tags": []
          }
        }
      ]
    },
    {
      "cell_type": "markdown",
      "metadata": {
        "colab_type": "text",
        "id": "PldmSkVnSpJm"
      },
      "source": [
        "#### Six classes"
      ]
    },
    {
      "cell_type": "code",
      "metadata": {
        "colab_type": "code",
        "id": "Zr3SgAsQSpJ2",
        "colab": {}
      },
      "source": [
        "x = get_data(10000, clusters=list('ab'))\n",
        "y = np.zeros((10000,2))"
      ],
      "execution_count": 0,
      "outputs": []
    },
    {
      "cell_type": "code",
      "metadata": {
        "colab_type": "code",
        "id": "R7ADImqhSpKC",
        "colab": {}
      },
      "source": [
        "inp_layer = Input(shape=(2,))\n",
        "h = Dense(5, activation='relu')(inp_layer)\n",
        "out=Dense(6, activation='softmax')(h)\n",
        "\n",
        "mdl = Model(inputs=[inp_layer], outputs=out)\n",
        "mdl.compile('sgd', loss=mixed_entropy_loss)"
      ],
      "execution_count": 0,
      "outputs": []
    },
    {
      "cell_type": "code",
      "metadata": {
        "colab_type": "code",
        "outputId": "6321f417-08bc-4d61-a5ba-8cb94530c260",
        "id": "sZTnlGiiSpKP",
        "colab": {
          "base_uri": "https://localhost:8080/",
          "height": 364
        }
      },
      "source": [
        "hist = mdl.fit(x,y, epochs=10, verbose=1)"
      ],
      "execution_count": 81,
      "outputs": [
        {
          "output_type": "stream",
          "text": [
            "Epoch 1/10\n",
            "10000/10000 [==============================] - 1s 91us/step - loss: -0.6489\n",
            "Epoch 2/10\n",
            "10000/10000 [==============================] - 0s 37us/step - loss: -0.6822\n",
            "Epoch 3/10\n",
            "10000/10000 [==============================] - 0s 34us/step - loss: -0.6874\n",
            "Epoch 4/10\n",
            "10000/10000 [==============================] - 0s 37us/step - loss: -0.6896\n",
            "Epoch 5/10\n",
            "10000/10000 [==============================] - 0s 35us/step - loss: -0.6898\n",
            "Epoch 6/10\n",
            "10000/10000 [==============================] - 0s 38us/step - loss: -0.6945\n",
            "Epoch 7/10\n",
            "10000/10000 [==============================] - 0s 35us/step - loss: -0.6999\n",
            "Epoch 8/10\n",
            "10000/10000 [==============================] - 0s 35us/step - loss: -0.7083\n",
            "Epoch 9/10\n",
            "10000/10000 [==============================] - 0s 36us/step - loss: -0.7186\n",
            "Epoch 10/10\n",
            "10000/10000 [==============================] - 0s 36us/step - loss: -0.7310\n"
          ],
          "name": "stdout"
        }
      ]
    },
    {
      "cell_type": "code",
      "metadata": {
        "colab_type": "code",
        "id": "BZU3oHyOSpKa",
        "colab": {}
      },
      "source": [
        "x_test = get_data(10000, clusters=list('ab'))\n",
        "out_test = mdl.predict(x_test)"
      ],
      "execution_count": 0,
      "outputs": []
    },
    {
      "cell_type": "code",
      "metadata": {
        "colab_type": "code",
        "outputId": "b3a7aa5a-d9b4-49b6-d483-7b14070e1a81",
        "id": "WmUdGdE5SpKi",
        "colab": {
          "base_uri": "https://localhost:8080/",
          "height": 295
        }
      },
      "source": [
        "print(' '*10+'0'+' '*7+'1'+' '*7+'2'+' '*7+'3'+' '*7+'4'+' '*7+'5')\n",
        "for k in range(15):\n",
        "  sgn = '+' if x_test[k,0]>0 else '-'\n",
        "  print('{0} --> {1:1.5f} {2:1.5f} {3:1.5f} {4:1.5f} {5:1.5f} {6:1.5f}'\\\n",
        "        .format(sgn,out_test[k,0],out_test[k,1],out_test[k,2],out_test[k,3],out_test[k,4],out_test[k,5]))"
      ],
      "execution_count": 84,
      "outputs": [
        {
          "output_type": "stream",
          "text": [
            "          0       1       2       3       4       5\n",
            "- --> 0.00000 0.00000 0.00000 0.00000 0.00000 1.00000\n",
            "- --> 0.00000 0.00000 0.00001 0.00004 0.00000 0.99994\n",
            "+ --> 0.89638 0.02180 0.04221 0.03650 0.00304 0.00007\n",
            "- --> 0.00000 0.00000 0.00000 0.00000 0.00000 1.00000\n",
            "- --> 0.00000 0.00000 0.00001 0.00001 0.00000 0.99997\n",
            "+ --> 0.91004 0.02043 0.03828 0.02839 0.00280 0.00006\n",
            "+ --> 0.82636 0.03594 0.06565 0.06541 0.00640 0.00024\n",
            "- --> 0.00000 0.00000 0.00001 0.00004 0.00000 0.99994\n",
            "+ --> 0.67001 0.04715 0.09564 0.17713 0.00960 0.00048\n",
            "- --> 0.00003 0.00003 0.00012 0.00032 0.00005 0.99944\n",
            "- --> 0.00000 0.00000 0.00000 0.00000 0.00000 1.00000\n",
            "- --> 0.00000 0.00000 0.00000 0.00001 0.00000 0.99999\n",
            "- --> 0.00000 0.00000 0.00000 0.00000 0.00000 1.00000\n",
            "+ --> 0.76823 0.05059 0.08559 0.08409 0.01091 0.00059\n",
            "+ --> 0.29324 0.12850 0.18513 0.31751 0.06096 0.01466\n"
          ],
          "name": "stdout"
        }
      ]
    },
    {
      "cell_type": "code",
      "metadata": {
        "colab_type": "code",
        "outputId": "599b1e1e-4a19-4661-e5c1-dd2625745b3e",
        "id": "y-ekA5uLSpKv",
        "colab": {
          "base_uri": "https://localhost:8080/",
          "height": 374
        }
      },
      "source": [
        "plusses = x_test[:,0]>0\n",
        "\n",
        "fig, axs = plt.subplots(2,3)\n",
        "\n",
        "for k, ax in enumerate(axs.flatten()):\n",
        "  ax.hist(out_test[plusses,k], bins=np.linspace(0,1,50), label='+')\n",
        "  ax.hist(out_test[~plusses,k], bins=np.linspace(0,1,50), label='-', histtype='step')\n",
        "  if k == 1: ax.legend(loc='center right')\n",
        "\n",
        "fig.set_size_inches(12,6)\n",
        "plt.show()"
      ],
      "execution_count": 86,
      "outputs": [
        {
          "output_type": "display_data",
          "data": {
            "image/png": "[encoded data removed]",
            "text/plain": [
              "<Figure size 864x432 with 6 Axes>"
            ]
          },
          "metadata": {
            "tags": []
          }
        }
      ]
    },
    {
      "cell_type": "markdown",
      "metadata": {
        "id": "kQEoiGvJSz9m",
        "colab_type": "text"
      },
      "source": [
        "### Testing class proportion with extra classes"
      ]
    },
    {
      "cell_type": "markdown",
      "metadata": {
        "id": "uJ5btCGcb45H",
        "colab_type": "text"
      },
      "source": [
        "#### Attempt 1"
      ]
    },
    {
      "cell_type": "code",
      "metadata": {
        "id": "eLvjxrMGb8iO",
        "colab_type": "code",
        "colab": {}
      },
      "source": [
        "class ProportionCallback(Callback):\n",
        "  def __init__(self, valid_x, n_classes):\n",
        "    self.valid_x = valid_x\n",
        "    self.n_classes = n_classes\n",
        "    self.proportions = [[] for k in range(n_classes)]\n",
        "\n",
        "  def on_train_begin(self, logs={}):\n",
        "    out = self.model.predict(self.valid_x)\n",
        "    for k in range(self.n_classes):\n",
        "      self.proportions[k].append(out[:,k].mean())\n",
        "\n",
        "  def on_epoch_end(self, epoch, logs={}):\n",
        "    print('\\rEpoch: {}'.format(epoch), end='')\n",
        "    out = self.model.predict(self.valid_x)\n",
        "    for k in range(self.n_classes):\n",
        "      self.proportions[k].append(out[:,k].mean())"
      ],
      "execution_count": 0,
      "outputs": []
    },
    {
      "cell_type": "code",
      "metadata": {
        "colab_type": "code",
        "id": "4kI1HDHpdAfn",
        "colab": {}
      },
      "source": [
        "x = get_data(10000, clusters=list('ab'))\n",
        "y = np.zeros((10000,2))\n",
        "\n",
        "x_valid = get_data(10000, clusters=list('ab'))"
      ],
      "execution_count": 0,
      "outputs": []
    },
    {
      "cell_type": "code",
      "metadata": {
        "colab_type": "code",
        "id": "3a3qo2GfdAgU",
        "colab": {}
      },
      "source": [
        "inp_layer = Input(shape=(2,))\n",
        "h = Dense(5, activation='relu')(inp_layer)\n",
        "out=Dense(6, activation='softmax')(h)\n",
        "\n",
        "mdl = Model(inputs=[inp_layer], outputs=out)\n",
        "mdl.compile('sgd', loss=mixed_entropy_loss)"
      ],
      "execution_count": 0,
      "outputs": []
    },
    {
      "cell_type": "code",
      "metadata": {
        "id": "acwghZIDc5dA",
        "colab_type": "code",
        "colab": {
          "base_uri": "https://localhost:8080/",
          "height": 35
        },
        "outputId": "329d5fec-c42e-43f6-de91-5c1f7e459a5c"
      },
      "source": [
        "callback = ProportionCallback(x_valid, 6)\n",
        "hist = mdl.fit(x,y, epochs=300, verbose=0, callbacks=[callback])"
      ],
      "execution_count": 90,
      "outputs": [
        {
          "output_type": "stream",
          "text": [
            "Epoch: 299"
          ],
          "name": "stdout"
        }
      ]
    },
    {
      "cell_type": "code",
      "metadata": {
        "colab_type": "code",
        "id": "W9VBQ_NLnsAg",
        "colab": {}
      },
      "source": [
        "x_test = get_data(10000, clusters=list('ab'))\n",
        "out_test = mdl.predict(x_test)"
      ],
      "execution_count": 0,
      "outputs": []
    },
    {
      "cell_type": "code",
      "metadata": {
        "colab_type": "code",
        "outputId": "88d24072-8f7e-4a45-e2a5-38228a6ee05f",
        "id": "dt5oZXqxnsBA",
        "colab": {
          "base_uri": "https://localhost:8080/",
          "height": 295
        }
      },
      "source": [
        "print(' '*10+'0'+' '*7+'1'+' '*7+'2'+' '*7+'3'+' '*7+'4'+' '*7+'5')\n",
        "for k in range(15):\n",
        "  sgn = '+' if x_test[k,0]>0 else '-'\n",
        "  print('{0} --> {1:1.5f} {2:1.5f} {3:1.5f} {4:1.5f} {5:1.5f} {6:1.5f}'\\\n",
        "        .format(sgn,out_test[k,0],out_test[k,1],out_test[k,2],out_test[k,3],out_test[k,4],out_test[k,5]))"
      ],
      "execution_count": 92,
      "outputs": [
        {
          "output_type": "stream",
          "text": [
            "          0       1       2       3       4       5\n",
            "- --> 0.00000 0.00000 0.00000 0.00000 1.00000 0.00000\n",
            "+ --> 0.00000 0.00098 0.99902 0.00000 0.00000 0.00000\n",
            "- --> 0.00000 0.00000 0.00000 0.00000 0.00000 1.00000\n",
            "- --> 0.00000 0.00000 0.00000 0.00000 0.00000 1.00000\n",
            "+ --> 0.00000 0.00012 0.99988 0.00000 0.00000 0.00000\n",
            "+ --> 0.00000 0.00000 1.00000 0.00000 0.00000 0.00000\n",
            "+ --> 0.00000 0.00000 0.99999 0.00000 0.00000 0.00000\n",
            "+ --> 0.00000 1.00000 0.00000 0.00000 0.00000 0.00000\n",
            "+ --> 0.00000 0.99999 0.00001 0.00000 0.00000 0.00000\n",
            "+ --> 0.00000 0.00000 0.99997 0.00000 0.00003 0.00000\n",
            "- --> 0.00000 0.00000 0.00000 0.00000 0.00000 1.00000\n",
            "- --> 0.00000 0.00000 0.00000 0.00000 1.00000 0.00000\n",
            "- --> 0.00000 0.00000 0.00000 0.00000 0.00221 0.99779\n",
            "+ --> 0.00000 1.00000 0.00000 0.00000 0.00000 0.00000\n",
            "+ --> 0.00000 1.00000 0.00000 0.00000 0.00000 0.00000\n"
          ],
          "name": "stdout"
        }
      ]
    },
    {
      "cell_type": "code",
      "metadata": {
        "colab_type": "code",
        "outputId": "beb971cb-8dd6-4a80-d865-f82aa5475ff3",
        "id": "HUPZl-gQoFoU",
        "colab": {
          "base_uri": "https://localhost:8080/",
          "height": 374
        }
      },
      "source": [
        "plusses = x_test[:,0]>0\n",
        "\n",
        "fig, axs = plt.subplots(2,3)\n",
        "\n",
        "for k, ax in enumerate(axs.flatten()):\n",
        "  ax.hist(out_test[plusses,k], bins=np.linspace(0,1,50), label='+')\n",
        "  ax.hist(out_test[~plusses,k], bins=np.linspace(0,1,50), label='-', histtype='step')\n",
        "  if k == 1: ax.legend(loc='upper center')\n",
        "\n",
        "fig.set_size_inches(12,6)\n",
        "plt.show()"
      ],
      "execution_count": 95,
      "outputs": [
        {
          "output_type": "display_data",
          "data": {
            "image/png": "[encoded data removed]",
            "text/plain": [
              "<Figure size 864x432 with 6 Axes>"
            ]
          },
          "metadata": {
            "tags": []
          }
        }
      ]
    },
    {
      "cell_type": "code",
      "metadata": {
        "id": "OT-gBzgjdcYy",
        "colab_type": "code",
        "colab": {
          "base_uri": "https://localhost:8080/",
          "height": 267
        },
        "outputId": "c9e7739a-c39d-42ef-deeb-77e0b2a32903"
      },
      "source": [
        "plt.plot(np.arange(300), hist.history['loss'])\n",
        "plt.show()"
      ],
      "execution_count": 96,
      "outputs": [
        {
          "output_type": "display_data",
          "data": {
            "image/png": "[encoded data removed]",
            "text/plain": [
              "<Figure size 432x288 with 1 Axes>"
            ]
          },
          "metadata": {
            "tags": []
          }
        }
      ]
    },
    {
      "cell_type": "code",
      "metadata": {
        "id": "uP_PMDVeoaf3",
        "colab_type": "code",
        "colab": {
          "base_uri": "https://localhost:8080/",
          "height": 428
        },
        "outputId": "a163deba-e439-4c3b-a513-fc4f32a06e4d"
      },
      "source": [
        "fig, ax = plt.subplots()\n",
        "for k in range(callback.n_classes):\n",
        "  ax.plot(np.arange(len(callback.proportions[k])), callback.proportions[k], label='{}'.format(k))\n",
        "\n",
        "fig.set_size_inches(10,7)\n",
        "plt.legend()\n",
        "plt.show()"
      ],
      "execution_count": 98,
      "outputs": [
        {
          "output_type": "display_data",
          "data": {
            "image/png": "[encoded data removed]",
            "text/plain": [
              "<Figure size 720x504 with 1 Axes>"
            ]
          },
          "metadata": {
            "tags": []
          }
        }
      ]
    },
    {
      "cell_type": "markdown",
      "metadata": {
        "colab_type": "text",
        "id": "HEads3GypHOd"
      },
      "source": [
        "#### Attempt 2"
      ]
    },
    {
      "cell_type": "code",
      "metadata": {
        "colab_type": "code",
        "id": "MzNw5PAYpHO1",
        "colab": {}
      },
      "source": [
        "x = get_data(10000, clusters=list('ab'))\n",
        "y = np.zeros((10000,2))\n",
        "\n",
        "x_valid = get_data(10000, clusters=list('ab'))"
      ],
      "execution_count": 0,
      "outputs": []
    },
    {
      "cell_type": "code",
      "metadata": {
        "colab_type": "code",
        "id": "ZqOsSn17pHPC",
        "colab": {}
      },
      "source": [
        "inp_layer = Input(shape=(2,))\n",
        "h = Dense(5, activation='relu')(inp_layer)\n",
        "out=Dense(6, activation='softmax')(h)\n",
        "\n",
        "mdl = Model(inputs=[inp_layer], outputs=out)\n",
        "mdl.compile('sgd', loss=mixed_entropy_loss)"
      ],
      "execution_count": 0,
      "outputs": []
    },
    {
      "cell_type": "code",
      "metadata": {
        "colab_type": "code",
        "outputId": "6657d6a6-249f-41a3-9c9b-4bdc1ee9ea06",
        "id": "UslqBPw7pHPP",
        "colab": {
          "base_uri": "https://localhost:8080/",
          "height": 35
        }
      },
      "source": [
        "callback = ProportionCallback(x_valid, 6)\n",
        "hist = mdl.fit(x,y, epochs=300, verbose=0, callbacks=[callback])"
      ],
      "execution_count": 101,
      "outputs": [
        {
          "output_type": "stream",
          "text": [
            "Epoch: 299"
          ],
          "name": "stdout"
        }
      ]
    },
    {
      "cell_type": "code",
      "metadata": {
        "colab_type": "code",
        "id": "ofkA7_kLpHPh",
        "colab": {}
      },
      "source": [
        "x_test = get_data(10000, clusters=list('ab'))\n",
        "out_test = mdl.predict(x_test)"
      ],
      "execution_count": 0,
      "outputs": []
    },
    {
      "cell_type": "code",
      "metadata": {
        "colab_type": "code",
        "outputId": "602f51fb-925a-4ea7-f535-9c44c68bb1b2",
        "id": "Ie7juCaRpHPs",
        "colab": {
          "base_uri": "https://localhost:8080/",
          "height": 295
        }
      },
      "source": [
        "print(' '*10+'0'+' '*7+'1'+' '*7+'2'+' '*7+'3'+' '*7+'4'+' '*7+'5')\n",
        "for k in range(15):\n",
        "  sgn = '+' if x_test[k,0]>0 else '-'\n",
        "  print('{0} --> {1:1.5f} {2:1.5f} {3:1.5f} {4:1.5f} {5:1.5f} {6:1.5f}'\\\n",
        "        .format(sgn,out_test[k,0],out_test[k,1],out_test[k,2],out_test[k,3],out_test[k,4],out_test[k,5]))"
      ],
      "execution_count": 103,
      "outputs": [
        {
          "output_type": "stream",
          "text": [
            "          0       1       2       3       4       5\n",
            "- --> 0.00000 0.00000 0.99996 0.00004 0.00000 0.00000\n",
            "+ --> 0.00006 0.00000 0.00000 0.00000 0.00000 0.99994\n",
            "- --> 0.00000 0.00000 0.99993 0.00007 0.00000 0.00000\n",
            "- --> 0.00000 0.00000 1.00000 0.00000 0.00000 0.00000\n",
            "+ --> 0.00000 0.98812 0.00000 0.00004 0.01185 0.00000\n",
            "+ --> 0.00000 0.00000 0.00000 0.00000 1.00000 0.00000\n",
            "- --> 0.00000 0.00000 0.00000 1.00000 0.00000 0.00000\n",
            "+ --> 0.00000 1.00000 0.00000 0.00000 0.00000 0.00000\n",
            "- --> 0.00000 0.00000 0.00000 1.00000 0.00000 0.00000\n",
            "- --> 0.00000 0.00000 1.00000 0.00000 0.00000 0.00000\n",
            "- --> 0.00000 0.00000 1.00000 0.00000 0.00000 0.00000\n",
            "+ --> 0.00003 0.00000 0.00000 0.00000 0.00000 0.99997\n",
            "- --> 0.00000 0.00000 0.99998 0.00002 0.00000 0.00000\n",
            "- --> 0.00000 0.00000 1.00000 0.00000 0.00000 0.00000\n",
            "- --> 0.00000 0.00000 0.00001 0.99999 0.00000 0.00000\n"
          ],
          "name": "stdout"
        }
      ]
    },
    {
      "cell_type": "code",
      "metadata": {
        "colab_type": "code",
        "outputId": "6deeabdc-4b78-440e-b8e2-ed6e8d5d358b",
        "id": "ZVPK0HHKpHP8",
        "colab": {
          "base_uri": "https://localhost:8080/",
          "height": 374
        }
      },
      "source": [
        "plusses = x_test[:,0]>0\n",
        "\n",
        "fig, axs = plt.subplots(2,3)\n",
        "\n",
        "for k, ax in enumerate(axs.flatten()):\n",
        "  ax.hist(out_test[plusses,k], bins=np.linspace(0,1,50), label='+')\n",
        "  ax.hist(out_test[~plusses,k], bins=np.linspace(0,1,50), label='-', histtype='step')\n",
        "  if k == 1: ax.legend(loc='upper center')\n",
        "\n",
        "fig.set_size_inches(12,6)\n",
        "plt.show()"
      ],
      "execution_count": 104,
      "outputs": [
        {
          "output_type": "display_data",
          "data": {
            "image/png": "[encoded data removed]",
            "text/plain": [
              "<Figure size 864x432 with 6 Axes>"
            ]
          },
          "metadata": {
            "tags": []
          }
        }
      ]
    },
    {
      "cell_type": "code",
      "metadata": {
        "colab_type": "code",
        "outputId": "d6812075-95ed-4cbf-e64f-bde9b1195cbc",
        "id": "D07mz4RbpHQL",
        "colab": {
          "base_uri": "https://localhost:8080/",
          "height": 265
        }
      },
      "source": [
        "plt.plot(np.arange(300), hist.history['loss'])\n",
        "plt.show()"
      ],
      "execution_count": 105,
      "outputs": [
        {
          "output_type": "display_data",
          "data": {
            "image/png": "[encoded data removed]",
            "text/plain": [
              "<Figure size 432x288 with 1 Axes>"
            ]
          },
          "metadata": {
            "tags": []
          }
        }
      ]
    },
    {
      "cell_type": "code",
      "metadata": {
        "colab_type": "code",
        "outputId": "24823846-94e6-4e71-b761-9d1aae2a6d8c",
        "id": "uucM6eP-pHQT",
        "colab": {
          "base_uri": "https://localhost:8080/",
          "height": 428
        }
      },
      "source": [
        "fig, ax = plt.subplots()\n",
        "for k in range(callback.n_classes):\n",
        "  ax.plot(np.arange(len(callback.proportions[k])), callback.proportions[k], label='{}'.format(k))\n",
        "\n",
        "fig.set_size_inches(10,7)\n",
        "plt.legend()\n",
        "plt.show()"
      ],
      "execution_count": 106,
      "outputs": [
        {
          "output_type": "display_data",
          "data": {
            "image/png": "[encoded data removed]",
            "text/plain": [
              "<Figure size 720x504 with 1 Axes>"
            ]
          },
          "metadata": {
            "tags": []
          }
        }
      ]
    },
    {
      "cell_type": "markdown",
      "metadata": {
        "colab_type": "text",
        "id": "_g7t77WHpQxu"
      },
      "source": [
        "#### Attempt 3"
      ]
    },
    {
      "cell_type": "code",
      "metadata": {
        "colab_type": "code",
        "id": "61cMkIMmpQx-",
        "colab": {}
      },
      "source": [
        "x = get_data(10000, clusters=list('ab'))\n",
        "y = np.zeros((10000,2))\n",
        "\n",
        "x_valid = get_data(10000, clusters=list('ab'))"
      ],
      "execution_count": 0,
      "outputs": []
    },
    {
      "cell_type": "code",
      "metadata": {
        "colab_type": "code",
        "id": "M3teRS2bpQyN",
        "colab": {}
      },
      "source": [
        "inp_layer = Input(shape=(2,))\n",
        "h = Dense(5, activation='relu')(inp_layer)\n",
        "out=Dense(6, activation='softmax')(h)\n",
        "\n",
        "mdl = Model(inputs=[inp_layer], outputs=out)\n",
        "mdl.compile('sgd', loss=mixed_entropy_loss)"
      ],
      "execution_count": 0,
      "outputs": []
    },
    {
      "cell_type": "code",
      "metadata": {
        "colab_type": "code",
        "outputId": "e0b06ff9-bc8d-446b-db5f-92b22589d6f7",
        "id": "I2EUX8JOpQyc",
        "colab": {
          "base_uri": "https://localhost:8080/",
          "height": 35
        }
      },
      "source": [
        "callback = ProportionCallback(x_valid, 6)\n",
        "hist = mdl.fit(x,y, epochs=300, verbose=0, callbacks=[callback])"
      ],
      "execution_count": 109,
      "outputs": [
        {
          "output_type": "stream",
          "text": [
            "Epoch: 299"
          ],
          "name": "stdout"
        }
      ]
    },
    {
      "cell_type": "code",
      "metadata": {
        "colab_type": "code",
        "id": "eUEVSO2fpQyu",
        "colab": {}
      },
      "source": [
        "x_test = get_data(10000, clusters=list('ab'))\n",
        "out_test = mdl.predict(x_test)"
      ],
      "execution_count": 0,
      "outputs": []
    },
    {
      "cell_type": "code",
      "metadata": {
        "colab_type": "code",
        "outputId": "4de93543-7f11-4a54-e48c-9899d27e4c70",
        "id": "J_MUOvq6pQy5",
        "colab": {
          "base_uri": "https://localhost:8080/",
          "height": 295
        }
      },
      "source": [
        "print(' '*10+'0'+' '*7+'1'+' '*7+'2'+' '*7+'3'+' '*7+'4'+' '*7+'5')\n",
        "for k in range(15):\n",
        "  sgn = '+' if x_test[k,0]>0 else '-'\n",
        "  print('{0} --> {1:1.5f} {2:1.5f} {3:1.5f} {4:1.5f} {5:1.5f} {6:1.5f}'\\\n",
        "        .format(sgn,out_test[k,0],out_test[k,1],out_test[k,2],out_test[k,3],out_test[k,4],out_test[k,5]))"
      ],
      "execution_count": 111,
      "outputs": [
        {
          "output_type": "stream",
          "text": [
            "          0       1       2       3       4       5\n",
            "+ --> 1.00000 0.00000 0.00000 0.00000 0.00000 0.00000\n",
            "+ --> 1.00000 0.00000 0.00000 0.00000 0.00000 0.00000\n",
            "+ --> 0.00000 0.00000 0.00000 0.00000 0.00000 1.00000\n",
            "+ --> 0.00000 0.00000 0.00000 0.00000 0.00000 1.00000\n",
            "- --> 1.00000 0.00000 0.00000 0.00000 0.00000 0.00000\n",
            "- --> 0.00000 0.00000 1.00000 0.00000 0.00000 0.00000\n",
            "+ --> 0.00000 0.00000 0.00000 0.99986 0.00000 0.00014\n",
            "+ --> 0.68344 0.00000 0.00000 0.00000 0.00000 0.31656\n",
            "+ --> 0.00000 0.00000 0.00000 0.00000 0.00000 1.00000\n",
            "+ --> 0.00000 0.00000 0.00000 0.99957 0.00000 0.00043\n",
            "+ --> 0.00000 0.00000 0.00000 0.00166 0.00000 0.99834\n",
            "+ --> 0.00000 0.00000 0.00000 0.99997 0.00000 0.00003\n",
            "+ --> 0.00000 0.00000 0.00000 1.00000 0.00000 0.00000\n",
            "+ --> 0.00007 0.00000 0.00000 0.00000 0.00000 0.99993\n",
            "- --> 0.00000 0.90643 0.09357 0.00000 0.00000 0.00000\n"
          ],
          "name": "stdout"
        }
      ]
    },
    {
      "cell_type": "code",
      "metadata": {
        "colab_type": "code",
        "outputId": "9486713b-219b-4ca0-cbd5-546bde6744ec",
        "id": "dPmUc2ZwpQzF",
        "colab": {
          "base_uri": "https://localhost:8080/",
          "height": 374
        }
      },
      "source": [
        "plusses = x_test[:,0]>0\n",
        "\n",
        "fig, axs = plt.subplots(2,3)\n",
        "\n",
        "for k, ax in enumerate(axs.flatten()):\n",
        "  ax.hist(out_test[plusses,k], bins=np.linspace(0,1,50), label='+')\n",
        "  ax.hist(out_test[~plusses,k], bins=np.linspace(0,1,50), label='-', histtype='step')\n",
        "  if k == 1: ax.legend(loc='upper center')\n",
        "\n",
        "fig.set_size_inches(12,6)\n",
        "plt.show()"
      ],
      "execution_count": 112,
      "outputs": [
        {
          "output_type": "display_data",
          "data": {
            "image/png": "[encoded data removed]",
            "text/plain": [
              "<Figure size 864x432 with 6 Axes>"
            ]
          },
          "metadata": {
            "tags": []
          }
        }
      ]
    },
    {
      "cell_type": "code",
      "metadata": {
        "colab_type": "code",
        "outputId": "e9a16062-7483-4c81-9872-c0c5ba0dc0e9",
        "id": "UZGTfHIlpQzM",
        "colab": {
          "base_uri": "https://localhost:8080/",
          "height": 265
        }
      },
      "source": [
        "plt.plot(np.arange(300), hist.history['loss'])\n",
        "plt.show()"
      ],
      "execution_count": 113,
      "outputs": [
        {
          "output_type": "display_data",
          "data": {
            "image/png": "[encoded data removed]",
            "text/plain": [
              "<Figure size 432x288 with 1 Axes>"
            ]
          },
          "metadata": {
            "tags": []
          }
        }
      ]
    },
    {
      "cell_type": "code",
      "metadata": {
        "colab_type": "code",
        "outputId": "83456be9-c792-4409-cda6-c6fb82b9d6b2",
        "id": "FYM8rt8LpQzV",
        "colab": {
          "base_uri": "https://localhost:8080/",
          "height": 428
        }
      },
      "source": [
        "fig, ax = plt.subplots()\n",
        "for k in range(callback.n_classes):\n",
        "  ax.plot(np.arange(len(callback.proportions[k])), callback.proportions[k], label='{}'.format(k))\n",
        "\n",
        "fig.set_size_inches(10,7)\n",
        "plt.legend()\n",
        "plt.show()"
      ],
      "execution_count": 114,
      "outputs": [
        {
          "output_type": "display_data",
          "data": {
            "image/png": "[encoded data removed]",
            "text/plain": [
              "<Figure size 720x504 with 1 Axes>"
            ]
          },
          "metadata": {
            "tags": []
          }
        }
      ]
    },
    {
      "cell_type": "markdown",
      "metadata": {
        "id": "IvKGbAIToxkc",
        "colab_type": "text"
      },
      "source": [
        "### Cluster counting"
      ]
    },
    {
      "cell_type": "code",
      "metadata": {
        "id": "KF77lQ0bpi1B",
        "colab_type": "code",
        "colab": {}
      },
      "source": [
        "class SimpleCallback(Callback):\n",
        "  def __init__(self):\n",
        "    pass\n",
        "  \n",
        "  def on_epoch_end(self, epoch, logs={}):\n",
        "    print('\\rEpoch: {}'.format(epoch), end='')"
      ],
      "execution_count": 0,
      "outputs": []
    },
    {
      "cell_type": "code",
      "metadata": {
        "id": "iXmCCPzPpzyd",
        "colab_type": "code",
        "colab": {
          "base_uri": "https://localhost:8080/",
          "height": 265
        },
        "outputId": "2fd3424b-d4e0-45f0-9049-403c4b97d9de"
      },
      "source": [
        "x = get_data(10000, clusters=list('abcde'), dist=10)\n",
        "\n",
        "plt.scatter(x[:,0], x[:,1])\n",
        "plt.show()"
      ],
      "execution_count": 116,
      "outputs": [
        {
          "output_type": "display_data",
          "data": {
            "image/png": "[encoded data removed]",
            "text/plain": [
              "<Figure size 432x288 with 1 Axes>"
            ]
          },
          "metadata": {
            "tags": []
          }
        }
      ]
    },
    {
      "cell_type": "code",
      "metadata": {
        "id": "RT49hDATqflk",
        "colab_type": "code",
        "colab": {}
      },
      "source": [
        "#offsetting original loss to work with homoscedastic uncertainty \n",
        "def mixed_entropy_loss(y_true, y_pred):\n",
        "  eps = 1e-10\n",
        "\n",
        "  mean = K.mean(y_pred, axis=0)\n",
        "  c = K.ones_like(mean)\n",
        "  c = c/K.sum(c)\n",
        "  max_entropy = -K.sum(c*K.log(c+eps))\n",
        "\n",
        "  nentropy_mean = K.mean(K.sum(y_pred*K.log(y_pred+eps), axis=1))\n",
        "  mean_nentropy = K.sum(mean*K.log(mean+eps))\n",
        "\n",
        "  return mean_nentropy - nentropy_mean + max_entropy"
      ],
      "execution_count": 0,
      "outputs": []
    },
    {
      "cell_type": "code",
      "metadata": {
        "id": "knnU4vD9qA88",
        "colab_type": "code",
        "colab": {}
      },
      "source": [
        "inp = Input(shape=(2,))\n",
        "h = Dense(45, activation='relu')(inp)\n",
        "outs = [Dense(k+2, activation='softmax')(h) for k in range(9)]\n",
        "sigs = [ConstSqLayer()(out) for out in outs]\n",
        "mdl = Model(inputs=[inp], outputs=outs+sigs)"
      ],
      "execution_count": 0,
      "outputs": []
    },
    {
      "cell_type": "code",
      "metadata": {
        "id": "_FmjfsGtrX3R",
        "colab_type": "code",
        "colab": {}
      },
      "source": [
        "mdl.compile('sgd', loss=[noise_loss_factory(sigs[k], mixed_entropy_loss) for k in range(9)]+[None]*9)"
      ],
      "execution_count": 0,
      "outputs": []
    },
    {
      "cell_type": "code",
      "metadata": {
        "id": "9ObQ6rvlsBrV",
        "colab_type": "code",
        "colab": {
          "base_uri": "https://localhost:8080/",
          "height": 35
        },
        "outputId": "1ac62659-216a-42e1-e3fe-d22f3aea9d87"
      },
      "source": [
        "mdl.fit(x, [np.zeros((10000,k+2)) for k in range(9)], epochs=200, verbose=0, callbacks=[SimpleCallback()])"
      ],
      "execution_count": 120,
      "outputs": [
        {
          "output_type": "stream",
          "text": [
            "Epoch: 199"
          ],
          "name": "stdout"
        },
        {
          "output_type": "execute_result",
          "data": {
            "text/plain": [
              "<keras.callbacks.History at 0x7fccb555f4e0>"
            ]
          },
          "metadata": {
            "tags": []
          },
          "execution_count": 120
        }
      ]
    },
    {
      "cell_type": "code",
      "metadata": {
        "id": "4Qa9_K1VsR3P",
        "colab_type": "code",
        "colab": {
          "base_uri": "https://localhost:8080/",
          "height": 173
        },
        "outputId": "143b6631-1910-4ec6-ca42-ee62d36256a7"
      },
      "source": [
        "x_try = get_data(1, clusters=list('abcde'))\n",
        "preds = mdl.predict(x_try)\n",
        "\n",
        "for k, sig2 in enumerate([preds[k+9][0][0] for k in range(9)]):\n",
        "  print('{0} {1:1.4f}'.format(k+2, np.sqrt(sig2)))"
      ],
      "execution_count": 121,
      "outputs": [
        {
          "output_type": "stream",
          "text": [
            "2 94.7458\n",
            "3 0.3454\n",
            "4 0.6253\n",
            "5 5246.6406\n",
            "6 0.7330\n",
            "7 0.5813\n",
            "8 0.7345\n",
            "9 0.6858\n",
            "10 1.0045\n"
          ],
          "name": "stdout"
        }
      ]
    },
    {
      "cell_type": "code",
      "metadata": {
        "id": "5oCCZj41tB0I",
        "colab_type": "code",
        "colab": {
          "base_uri": "https://localhost:8080/",
          "height": 173
        },
        "outputId": "49238a4d-edcc-4b42-da56-f1aacefb7674"
      },
      "source": [
        "x_test = get_data(10000, clusters=list('abcde'), dist=10)\n",
        "preds= mdl.predict(x_test)\n",
        "\n",
        "for out in [preds[k] for k in range(9)]:\n",
        "  print(['{0:1.3f}'.format(p) for p in out.mean(axis=0)])"
      ],
      "execution_count": 122,
      "outputs": [
        {
          "output_type": "stream",
          "text": [
            "['0.401', '0.599']\n",
            "['0.205', '0.196', '0.599']\n",
            "['0.100', '0.596', '0.198', '0.106']\n",
            "['0.198', '0.198', '0.193', '0.206', '0.205']\n",
            "['0.000', '0.195', '0.401', '0.000', '0.206', '0.198']\n",
            "['0.196', '0.000', '0.078', '0.121', '0.206', '0.205', '0.195']\n",
            "['0.000', '0.198', '0.000', '0.205', '0.195', '0.000', '0.196', '0.206']\n",
            "['0.198', '0.000', '0.195', '0.205', '0.206', '0.070', '0.067', '0.000', '0.059']\n",
            "['0.000', '0.401', '0.205', '0.000', '0.198', '0.000', '0.000', '0.000', '0.000', '0.196']\n"
          ],
          "name": "stdout"
        }
      ]
    },
    {
      "cell_type": "code",
      "metadata": {
        "id": "aCvIX2V5tsqe",
        "colab_type": "code",
        "colab": {
          "base_uri": "https://localhost:8080/",
          "height": 173
        },
        "outputId": "f57d9f85-d34e-48e0-b650-1771a3fec44a"
      },
      "source": [
        "for k, out in enumerate([preds[k] for k in range(9)]):\n",
        "  p = out.mean(axis=0)\n",
        "  ent = (-p*np.log(p)).sum()\n",
        "  print('{0} {1:1.4f} {2:1.4f} {3:1.4f}'.format(k+2, ent, np.log(k+2), np.log(k+2)-ent))"
      ],
      "execution_count": 128,
      "outputs": [
        {
          "output_type": "stream",
          "text": [
            "2 0.6734 0.6931 0.0198\n",
            "3 0.9513 1.0986 0.1474\n",
            "4 1.0976 1.3863 0.2887\n",
            "5 1.6091 1.6094 0.0003\n",
            "6 1.3313 1.7918 0.4604\n",
            "7 1.7421 1.9459 0.2038\n",
            "8 1.6092 2.0794 0.4703\n",
            "9 1.8239 2.1972 0.3734\n",
            "10 1.3314 2.3026 0.9711\n"
          ],
          "name": "stdout"
        }
      ]
    },
    {
      "cell_type": "markdown",
      "metadata": {
        "id": "kklsq4vYue97",
        "colab_type": "text"
      },
      "source": [
        "#### Monitor clustering entropies over time"
      ]
    },
    {
      "cell_type": "code",
      "metadata": {
        "id": "xB5oJcDv6Fzl",
        "colab_type": "code",
        "colab": {}
      },
      "source": [
        "class ClusteringEntropyCallback(Callback):\n",
        "  def __init__(self, valid_x, n_clusters):\n",
        "    self.valid_x = valid_x\n",
        "    self.n_clusters = n_clusters\n",
        "    self.clustering_entropy = [[] for k in range(n_clusters-1)]\n",
        "\n",
        "  def get_cluster_entropies(self):\n",
        "    out = self.model.predict(self.valid_x)\n",
        "\n",
        "    clustering_entropies = []\n",
        "    for k in range(self.n_clusters-1):\n",
        "      p = out[k].mean(axis=0)\n",
        "      ent = (-p*np.log(p)).sum()\n",
        "      clustering_entropies.append(np.log(k+2)-ent)\n",
        "\n",
        "    return clustering_entropies\n",
        "    \n",
        "  def on_train_begin(self, logs={}):\n",
        "    for k, ce in enumerate(self.get_cluster_entropies()):\n",
        "      self.clustering_entropy[k].append(ce)\n",
        "\n",
        "  def on_epoch_end(self, epoch, logs={}):\n",
        "    print('\\rEpoch: {}'.format(epoch), end='')\n",
        "    for k, ce in enumerate(self.get_cluster_entropies()):\n",
        "      self.clustering_entropy[k].append(ce)"
      ],
      "execution_count": 0,
      "outputs": []
    },
    {
      "cell_type": "code",
      "metadata": {
        "colab_type": "code",
        "outputId": "81debe6d-c5bc-44a6-d8f3-bfb9163e3db4",
        "id": "y8-5xz-s4BJ6",
        "colab": {
          "base_uri": "https://localhost:8080/",
          "height": 265
        }
      },
      "source": [
        "x = get_data(10000, clusters=list('abcde'), dist=10)\n",
        "\n",
        "plt.scatter(x[:,0], x[:,1])\n",
        "plt.show()"
      ],
      "execution_count": 7,
      "outputs": [
        {
          "output_type": "display_data",
          "data": {
            "image/png": "[encoded data removed]",
            "text/plain": [
              "<Figure size 432x288 with 1 Axes>"
            ]
          },
          "metadata": {
            "tags": []
          }
        }
      ]
    },
    {
      "cell_type": "code",
      "metadata": {
        "colab_type": "code",
        "id": "_EG7ZOhp4BKt",
        "colab": {}
      },
      "source": [
        "K.clear_session()\n",
        "\n",
        "inp = Input(shape=(2,))\n",
        "h = Dense(45, activation='relu')(inp)\n",
        "outs = [Dense(k+2, activation='softmax')(h) for k in range(9)]\n",
        "sigs = [ConstSqLayer()(out) for out in outs]\n",
        "mdl = Model(inputs=[inp], outputs=outs+sigs)"
      ],
      "execution_count": 0,
      "outputs": []
    },
    {
      "cell_type": "code",
      "metadata": {
        "colab_type": "code",
        "id": "Q0Zg4CGF4BK0",
        "colab": {}
      },
      "source": [
        "mdl.compile('sgd', loss=[noise_loss_factory(sigs[k], mixed_entropy_loss) for k in range(9)]+[None]*9)"
      ],
      "execution_count": 0,
      "outputs": []
    },
    {
      "cell_type": "code",
      "metadata": {
        "colab_type": "code",
        "outputId": "cc153dd0-ddc7-46ae-fb2c-1e2334c54779",
        "id": "GfehZko64BK7",
        "colab": {
          "base_uri": "https://localhost:8080/",
          "height": 35
        }
      },
      "source": [
        "callback = ClusteringEntropyCallback(get_data(10000, clusters=list('abcde')), n_clusters=10)\n",
        "mdl.fit(x, [np.zeros((10000,k+2)) for k in range(9)], epochs=200, verbose=0, callbacks=[callback])"
      ],
      "execution_count": 23,
      "outputs": [
        {
          "output_type": "stream",
          "text": [
            "Epoch: 199"
          ],
          "name": "stdout"
        },
        {
          "output_type": "execute_result",
          "data": {
            "text/plain": [
              "<keras.callbacks.History at 0x7f22f78eb278>"
            ]
          },
          "metadata": {
            "tags": []
          },
          "execution_count": 23
        }
      ]
    },
    {
      "cell_type": "code",
      "metadata": {
        "colab_type": "code",
        "outputId": "8dfb2913-9aeb-4fe8-d80c-0d52f8cf7d1e",
        "id": "4QqoeTz84BLK",
        "colab": {
          "base_uri": "https://localhost:8080/",
          "height": 173
        }
      },
      "source": [
        "x_try = get_data(1, clusters=list('abcde'))\n",
        "preds = mdl.predict(x_try)\n",
        "\n",
        "for k, sig2 in enumerate([preds[k+9][0][0] for k in range(9)]):\n",
        "  print('{0} {1:1.4f}'.format(k+2, np.sqrt(sig2)))"
      ],
      "execution_count": 24,
      "outputs": [
        {
          "output_type": "stream",
          "text": [
            "2 0.4982\n",
            "3 53.8385\n",
            "4 0.3890\n",
            "5 0.5610\n",
            "6 0.5168\n",
            "7 0.6405\n",
            "8 0.5642\n",
            "9 0.8094\n",
            "10 0.8713\n"
          ],
          "name": "stdout"
        }
      ]
    },
    {
      "cell_type": "code",
      "metadata": {
        "colab_type": "code",
        "outputId": "88aec6ec-ffad-4cc0-d1d8-316324070c40",
        "id": "GI7IODIu4BLS",
        "colab": {
          "base_uri": "https://localhost:8080/",
          "height": 173
        }
      },
      "source": [
        "x_test = get_data(10000, clusters=list('abcde'), dist=10)\n",
        "preds= mdl.predict(x_test)\n",
        "\n",
        "for out in [preds[k] for k in range(9)]:\n",
        "  print(['{0:1.3f}'.format(p) for p in out.mean(axis=0)])"
      ],
      "execution_count": 25,
      "outputs": [
        {
          "output_type": "stream",
          "text": [
            "['0.797', '0.203']\n",
            "['0.394', '0.404', '0.202']\n",
            "['0.202', '0.203', '0.200', '0.394']\n",
            "['0.203', '0.405', '0.000', '0.200', '0.191']\n",
            "['0.203', '0.203', '0.191', '0.202', '0.200', '0.000']\n",
            "['0.202', '0.000', '0.200', '0.203', '0.000', '0.191', '0.203']\n",
            "['0.068', '0.203', '0.063', '0.200', '0.203', '0.060', '0.000', '0.202']\n",
            "['0.200', '0.203', '0.000', '0.000', '0.000', '0.202', '0.191', '0.000', '0.203']\n",
            "['0.000', '0.202', '0.000', '0.000', '0.191', '0.000', '0.203', '0.203', '0.200', '0.000']\n"
          ],
          "name": "stdout"
        }
      ]
    },
    {
      "cell_type": "code",
      "metadata": {
        "colab_type": "code",
        "outputId": "2439a776-3f91-4533-d2f3-16de2c3b36d6",
        "id": "L3EiYH3P4BLZ",
        "colab": {
          "base_uri": "https://localhost:8080/",
          "height": 173
        }
      },
      "source": [
        "for k, out in enumerate([preds[k] for k in range(9)]):\n",
        "  p = out.mean(axis=0)\n",
        "  ent = (-p*np.log(p)).sum()\n",
        "  print('{0} {1:1.4f} {2:1.4f} {3:1.4f}'.format(k+2, ent, np.log(k+2), np.log(k+2)-ent))"
      ],
      "execution_count": 26,
      "outputs": [
        {
          "output_type": "stream",
          "text": [
            "2 0.5051 0.6931 0.1881\n",
            "3 1.0563 1.0986 0.0423\n",
            "4 1.3361 1.3863 0.0502\n",
            "5 1.3283 1.6094 0.2811\n",
            "6 1.6092 1.7918 0.1826\n",
            "7 1.6092 1.9459 0.3367\n",
            "8 1.8188 2.0794 0.2606\n",
            "9 1.6092 2.1972 0.5880\n",
            "10 1.6092 2.3026 0.6934\n"
          ],
          "name": "stdout"
        }
      ]
    },
    {
      "cell_type": "code",
      "metadata": {
        "id": "6GvwpQjX30n3",
        "colab_type": "code",
        "colab": {
          "base_uri": "https://localhost:8080/",
          "height": 442
        },
        "outputId": "a173ce83-27d1-4ba8-836c-c4e554dae1ed"
      },
      "source": [
        "fig, ax = plt.subplots()\n",
        "\n",
        "for k in range(9):\n",
        "  ax.plot(np.arange(201), callback.clustering_entropy[k], label='{}'.format(k+2))\n",
        "\n",
        "fig.set_size_inches(10,7)\n",
        "ax.set_xlabel('epoch')\n",
        "ax.set_ylabel('KL-Divergence from uniform')\n",
        "plt.legend()\n",
        "plt.show()"
      ],
      "execution_count": 27,
      "outputs": [
        {
          "output_type": "display_data",
          "data": {
            "image/png": "[encoded data removed]",
            "text/plain": [
              "<Figure size 720x504 with 1 Axes>"
            ]
          },
          "metadata": {
            "tags": []
          }
        }
      ]
    },
    {
      "cell_type": "code",
      "metadata": {
        "id": "6yEq4qsI6ZJX",
        "colab_type": "code",
        "colab": {}
      },
      "source": [
        ""
      ],
      "execution_count": 0,
      "outputs": []
    }
  ]
}