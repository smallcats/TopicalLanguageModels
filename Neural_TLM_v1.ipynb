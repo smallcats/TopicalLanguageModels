{
  "nbformat": 4,
  "nbformat_minor": 0,
  "metadata": {
    "colab": {
      "name": "Neural_TLM_v1.ipynb",
      "provenance": [],
      "include_colab_link": true
    },
    "kernelspec": {
      "name": "python3",
      "display_name": "Python 3"
    }
  },
  "cells": [
    {
      "cell_type": "markdown",
      "metadata": {
        "id": "view-in-github",
        "colab_type": "text"
      },
      "source": [
        "<a href=\"https://colab.research.google.com/github/smallcats/TopicalLanguageModels/blob/master/Neural_TLM_v1.ipynb\" target=\"_parent\"><img src=\"https://colab.research.google.com/assets/colab-badge.svg\" alt=\"Open In Colab\"/></a>"
      ]
    },
    {
      "cell_type": "code",
      "metadata": {
        "id": "gFAvBLHfcmrD",
        "colab_type": "code",
        "colab": {}
      },
      "source": [
        "import numpy as np\n",
        "\n",
        "import nltk\n",
        "import re\n",
        "\n",
        "from keras.layers import Input, Embedding, LSTM, Dense, Flatten, Lambda, Concatenate, Reshape, Dot\n",
        "from keras.models import Model\n",
        "import keras.backend as K\n",
        "\n",
        "from gensim.models import FastText\n",
        "from gensim.test.utils import common_corpus\n",
        "\n",
        "from matplotlib import pyplot as plt"
      ],
      "execution_count": 0,
      "outputs": []
    },
    {
      "cell_type": "code",
      "metadata": {
        "id": "GjRlyo009h4g",
        "colab_type": "code",
        "colab": {
          "base_uri": "https://localhost:8080/",
          "height": 69
        },
        "outputId": "538c7c57-d368-4308-eafa-3288fe12bc08"
      },
      "source": [
        "nltk.download('brown')"
      ],
      "execution_count": 28,
      "outputs": [
        {
          "output_type": "stream",
          "text": [
            "[nltk_data] Downloading package brown to /root/nltk_data...\n",
            "[nltk_data]   Unzipping corpora/brown.zip.\n"
          ],
          "name": "stdout"
        },
        {
          "output_type": "execute_result",
          "data": {
            "text/plain": [
              "True"
            ]
          },
          "metadata": {
            "tags": []
          },
          "execution_count": 28
        }
      ]
    },
    {
      "cell_type": "code",
      "metadata": {
        "id": "-04uRZH79iY5",
        "colab_type": "code",
        "colab": {}
      },
      "source": [
        "emb = FastText(nltk.corpus.brown.sents()[:1000])"
      ],
      "execution_count": 0,
      "outputs": []
    },
    {
      "cell_type": "code",
      "metadata": {
        "id": "EQN8KBSq-AnY",
        "colab_type": "code",
        "colab": {}
      },
      "source": [
        ""
      ],
      "execution_count": 0,
      "outputs": []
    },
    {
      "cell_type": "code",
      "metadata": {
        "id": "wNRLjhxP-Ai3",
        "colab_type": "code",
        "colab": {}
      },
      "source": [
        ""
      ],
      "execution_count": 0,
      "outputs": []
    },
    {
      "cell_type": "code",
      "metadata": {
        "id": "kDP5oF9D-AeS",
        "colab_type": "code",
        "colab": {}
      },
      "source": [
        ""
      ],
      "execution_count": 0,
      "outputs": []
    },
    {
      "cell_type": "code",
      "metadata": {
        "id": "3Ye93C1mdrQR",
        "colab_type": "code",
        "colab": {}
      },
      "source": [
        "def multiples(it, n):\n",
        "  for k in range(len(it)-n+1):\n",
        "    yield it[k:k+n]\n",
        "\n",
        "class TopicalLanguageModel:\n",
        "  \"\"\"\n",
        "  Neural Topical Language Model.\n",
        "  \"\"\"\n",
        "  def __init__(self, num_topics, word_embedding, lm_length=30, tokens='abcdefghijklmnopqrstuvwxyz '):\n",
        "    self.num_topics = num_topics\n",
        "    self.word_embedding = word_embedding\n",
        "    self.lm_length = lm_length\n",
        "\n",
        "    token_idx = [(t, k+3) for k,t in enumerate(list(tokens))]\n",
        "    self.token2idx = {t:k for k,t in token_idx}\n",
        "    self.idx2token = {k:t for k,t in token_idx}\n",
        "\n",
        "    self.num_tokens = len(tokens)+3\n",
        "\n",
        "  def generate_train_data(self, documents, batch_size=20):\n",
        "    while True:\n",
        "      doc_idxs = np.random.randint(0, len(documents), batch_size)\n",
        "      docs = [documents[k] for k in doc_idxs]\n",
        "      finish_idxs = [np.random.randint(0, len(d)+1) for d in documents]\n",
        "      \n",
        "      emb = lambda x: self.word_embedding.get(x, np.zeros(self.word_embedding.vector_size))\n",
        "      x_topic = np.array([np.array([emb(w) for w in d]).mean(axis=0) for d in docs])\n",
        "\n",
        "      joined_docs = [' '.join(d) for d in docs]\n",
        "      joined_docs = [d[max(i-self.lm_length,0):i] for i, d in zip(finish_idxs, joined_docs)]\n",
        "      x_lm = np.array([[0]*(self.lm_length - len(d))+[self.token2idx.get(t,2) for t in d] for d in joined_docs])\n",
        "\n",
        "      y = [self.token2idx[d[i]] if i != len(d) else 1 for i,d in zip(start_idxs, joined_docs)]\n",
        "\n",
        "      yield [x_topic, x_lm], y\n",
        "\n",
        "  def fit(self, documents, verbose=0):\n",
        "    \"\"\"\n",
        "    fit(self, documents)\n",
        "\n",
        "    documents should be a list of sentences, and a sentence a list of words.\n",
        "    \"\"\"\n",
        "    x_topic = Input(shape=(self.word_embedding.vector_size,))\n",
        "    h_topic = Dense(self.word_embedding.vector_size, activation='relu')(x_topic)\n",
        "    out_topic = Dense(self.num_topics, activation='softmax')(h_topic)\n",
        "    self.topic_model = Model(inputs=[x_topic], outputs=out_topic)\n",
        "    \n",
        "    self.language_models = []\n",
        "    for k in range(self.num_topics):\n",
        "      x_lm = Input(shape=(self.lm_length,), dtype='int32')\n",
        "      h_lm = Embedding(input_dim=self.num_tokens, output_dim=self.num_tokens//2, input_length=self.lm_length)(x_lm)\n",
        "      h_lm = LSTM(self.num_tokens)(h_lm)\n",
        "      out_lm = Dense(self.num_tokens, activation='softmax')(h_lm)\n",
        "      lm = Model(inputs=[x_lm], outputs=out_lm)\n",
        "      self.language_models.append(lm)\n",
        "\n",
        "    train_topic_input = Input(shape=(self.word_embedding.vector_size,))\n",
        "    train_lm_input = Input(shape=(self.lm_length,), dtype='int32')\n",
        "\n",
        "    lm_outputs = [Reshape(target_shape=(self.num_tokens, 1))(lm(train_lm_input)) for lm in self.language_models]\n",
        "    lm_outputs = Concatenate(axis=2)(lm_outputs)\n",
        "    topic_mix = self.topic_model(train_topic_input)\n",
        "\n",
        "    out = Dot(axes=(2, 1))([lm_outputs, topic_mix])\n",
        "\n",
        "    self.train_model = Model(inputs=[train_topic_input, train_lm_input], outputs=out)\n",
        "    self.train_model.compile(???)\n",
        "\n",
        "  def predict(self, init_doc, topic, method='sample'):\n",
        "    pad_doc = ['<start>']*(self.window-1) + init_doc\n",
        "    key = ' '.join(pad_doc[-self.window+1:])\n",
        "    if method == 'sample':\n",
        "      return np.random.choice([w for w,p in self.ngram_probs[topic][key]],\n",
        "                              p=[p for w,p in self.ngram_probs[topic][key]])\n",
        "    elif method == 'max':\n",
        "      return self.ngram_probs[topic][key][np.argmax([p for w,p in self.ngram_probs[topic][key]])][0]\n",
        "\n",
        "    elif method == 'distribution':\n",
        "      return self.ngram_probs[topic][key]\n",
        "\n",
        "    else:\n",
        "      raise ValueError('Unknown method.')\n",
        "\n",
        "  def rollout(self, init_doc, topic, method='monte-carlo', maxlen=100):\n",
        "    pred_method = 'sample' if method=='monte-carlo' else 'max' if method=='greedy' else ''\n",
        "    \n",
        "    for k in range(maxlen-len(init_doc)):\n",
        "      predicted = self.predict(init_doc, topic, pred_method)\n",
        "      if predicted == '<end>': break\n",
        "      init_doc.append(predicted)\n",
        "\n",
        "    return init_doc\n",
        "\n",
        "  def get_topics(self, doc):\n",
        "    cleaned = self.clean([doc])[0]\n",
        "    bow = self.topic_model.id2word.doc2bow(cleaned)\n",
        "    return [dict(self.topic_model[bow]).get(k,0) for k in range(self.num_topics)]"
      ],
      "execution_count": 0,
      "outputs": []
    },
    {
      "cell_type": "code",
      "metadata": {
        "id": "rDPnHh3nYEuE",
        "colab_type": "code",
        "colab": {
          "base_uri": "https://localhost:8080/",
          "height": 35
        },
        "outputId": "3dbd1f12-11e1-4fde-f0b4-93a2cc0f1ef5"
      },
      "source": [
        "a = [0,1,2,3,4]\n",
        "a[2:4]"
      ],
      "execution_count": 3,
      "outputs": [
        {
          "output_type": "execute_result",
          "data": {
            "text/plain": [
              "[2, 3]"
            ]
          },
          "metadata": {
            "tags": []
          },
          "execution_count": 3
        }
      ]
    },
    {
      "cell_type": "code",
      "metadata": {
        "id": "Oe9T25-V28G-",
        "colab_type": "code",
        "colab": {}
      },
      "source": [
        "K.clear_session()\n",
        "\n",
        "a = Input(shape=(2,3))\n",
        "b = Input(shape=(3,))\n",
        "c = Dot(axes=(2,1))([a,b])\n",
        "\n",
        "mdl = Model(inputs=[a, b], outputs=c)"
      ],
      "execution_count": 0,
      "outputs": []
    },
    {
      "cell_type": "code",
      "metadata": {
        "id": "AXHlHu_m6ilQ",
        "colab_type": "code",
        "colab": {
          "base_uri": "https://localhost:8080/",
          "height": 69
        },
        "outputId": "a6e64527-bbe2-48ab-a5fb-cd84fa98e03e"
      },
      "source": [
        "a = np.random.randn(1,2,3)\n",
        "b = np.array([[1,1,-1]])\n",
        "a, mdl.predict([a,b])"
      ],
      "execution_count": 42,
      "outputs": [
        {
          "output_type": "execute_result",
          "data": {
            "text/plain": [
              "(array([[[-0.70201563, -1.36185487, -1.35750768],\n",
              "         [-1.0031747 , -0.02161372,  0.03331503]]]),\n",
              " array([[-0.7063627, -1.0581034]], dtype=float32))"
            ]
          },
          "metadata": {
            "tags": []
          },
          "execution_count": 42
        }
      ]
    },
    {
      "cell_type": "code",
      "metadata": {
        "id": "PG_p8J4O6omM",
        "colab_type": "code",
        "colab": {}
      },
      "source": [
        ""
      ],
      "execution_count": 0,
      "outputs": []
    }
  ]
}