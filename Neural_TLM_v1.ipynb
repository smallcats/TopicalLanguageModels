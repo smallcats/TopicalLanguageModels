{
  "nbformat": 4,
  "nbformat_minor": 0,
  "metadata": {
    "colab": {
      "name": "Neural_TLM_v1.ipynb",
      "provenance": [],
      "include_colab_link": true
    },
    "kernelspec": {
      "name": "python3",
      "display_name": "Python 3"
    }
  },
  "cells": [
    {
      "cell_type": "markdown",
      "metadata": {
        "id": "view-in-github",
        "colab_type": "text"
      },
      "source": [
        "<a href=\"https://colab.research.google.com/github/smallcats/TopicalLanguageModels/blob/master/Neural_TLM_v1.ipynb\" target=\"_parent\"><img src=\"https://colab.research.google.com/assets/colab-badge.svg\" alt=\"Open In Colab\"/></a>"
      ]
    },
    {
      "cell_type": "code",
      "metadata": {
        "id": "gFAvBLHfcmrD",
        "colab_type": "code",
        "outputId": "2c41fa71-f8da-44b4-e183-02157d664cfa",
        "colab": {
          "base_uri": "https://localhost:8080/",
          "height": 35
        }
      },
      "source": [
        "import numpy as np\n",
        "\n",
        "import nltk\n",
        "import re\n",
        "\n",
        "from keras.layers import Input, Embedding, LSTM, Dense\n",
        "from keras.models import Model\n",
        "\n",
        "from matplotlib import pyplot as plt"
      ],
      "execution_count": 1,
      "outputs": [
        {
          "output_type": "stream",
          "text": [
            "Using TensorFlow backend.\n"
          ],
          "name": "stderr"
        }
      ]
    },
    {
      "cell_type": "code",
      "metadata": {
        "id": "3Ye93C1mdrQR",
        "colab_type": "code",
        "colab": {}
      },
      "source": [
        "def multiples(it, n):\n",
        "  for k in range(len(it)-n+1):\n",
        "    yield it[k:k+n]\n",
        "\n",
        "class TopicalLanguageModel:\n",
        "  \"\"\"\n",
        "  Neural Topical Language Model.\n",
        "  \"\"\"\n",
        "  def __init__(self, num_topics, doc_length=20, filter_stopwords=False, \n",
        "               stopwords=None, filter_nonalpha=True, lower=True):\n",
        "    self.num_topics = num_topics\n",
        "    self.window = window\n",
        "    self.filter_stopwords = filter_stopwords\n",
        "    self.filter_nonalpha = filter_nonalpha\n",
        "    self.doc_length = doc_length\n",
        "    self.lower = lower\n",
        "    if stopwords is None:\n",
        "      self.stopwords = {'a', 'about', 'above', 'after', 'again', 'against', \n",
        "                        'ain', 'all', 'am', 'an', 'and', 'any', 'are', 'aren', \n",
        "                        \"aren't\", 'as', 'at', 'be', 'because', 'been', 'before', \n",
        "                        'being', 'below', 'between', 'both', 'but', 'by', 'can', \n",
        "                        'couldn', \"couldn't\", 'd', 'did', 'didn', \"didn't\", \n",
        "                        'do', 'does', 'doesn', \"doesn't\", 'doing', 'don', \n",
        "                        \"don't\", 'down', 'during', 'each', 'few', 'for', 'from', \n",
        "                        'further', 'had', 'hadn', \"hadn't\", 'has', 'hasn', \n",
        "                        \"hasn't\", 'have', 'haven', \"haven't\", 'having', 'he', \n",
        "                        'her', 'here', 'hers', 'herself', 'him', 'himself', \n",
        "                        'his', 'how', 'i', 'if', 'in', 'into', 'is', 'isn', \n",
        "                        \"isn't\", 'it', \"it's\", 'its', 'itself', 'just', 'll', \n",
        "                        'm', 'ma', 'me', 'mightn', \"mightn't\", 'more', 'most', \n",
        "                        'mustn', \"mustn't\", 'my', 'myself', 'needn', \"needn't\", \n",
        "                        'no', 'nor', 'not', 'now', 'o', 'of', 'off', 'on', \n",
        "                        'once', 'only', 'or', 'other', 'our', 'ours', \n",
        "                        'ourselves', 'out', 'over', 'own', 're', 's', 'same', \n",
        "                        'shan', \"shan't\", 'she', \"she's\", 'should', \"should've\", \n",
        "                        'shouldn', \"shouldn't\", 'so', 'some', 'such', 't', \n",
        "                        'than', 'that', \"that'll\", 'the', 'their', 'theirs', \n",
        "                        'them', 'themselves', 'then', 'there', 'these', 'they', \n",
        "                        'this', 'those', 'through', 'to', 'too', 'under', \n",
        "                        'until', 'up', 've', 'very', 'was', 'wasn', \"wasn't\", \n",
        "                        'we', 'were', 'weren', \"weren't\", 'what', 'when', \n",
        "                        'where', 'which', 'while', 'who', 'whom', 'why', 'will', \n",
        "                        'with', 'won', \"won't\", 'wouldn', \"wouldn't\", 'y', \n",
        "                        'you', \"you'd\", \"you'll\", \"you're\", \"you've\", 'your', \n",
        "                        'yours', 'yourself', 'yourselves'}\n",
        "    else:\n",
        "      self.stopwords = stopwords\n",
        "\n",
        "  def clean(self, documents):\n",
        "    cleaned_docs = [d for d in documents]\n",
        "\n",
        "    if self.filter_nonalpha:\n",
        "      cleaned_docs = [[w for w in d if re.match(r'^[a-z]+$',w)] for d in cleaned_docs]\n",
        "    if self.filter_stopwords:\n",
        "      cleaned_docs = [[w for w in d if w not in self.stopwords] for d in cleaned_docs]\n",
        "    if self.lower:\n",
        "      cleaned_docs = [[w.lower() for w in d] for d in cleaned_docs]\n",
        "\n",
        "    return cleaned_docs\n",
        "\n",
        "\n",
        "  def fit(self, documents, verbose=0):\n",
        "    \"\"\"\n",
        "    fit(self, documents)\n",
        "\n",
        "    documents should be a list of sentences, and a sentence a list of words.\n",
        "    \"\"\"\n",
        "    self.vocab = {w for s in documents for w in s}\n",
        "    word_idx = [(k+2, w) for k,w in enumerate(self.vocab)]+[(0,'<start>'), (1, '<end>')]\n",
        "    self.word2idx = {w:k for k, w in word_idx}\n",
        "    self.idx2word = {k:w for k, w in word_idx}\n",
        "\n",
        "    def generate_data(documents, batch_size=20):\n",
        "      while True:\n",
        "        doc_idxs = np.random.randint(0, len(documents), batch_size)\n",
        "        docs = [documents[k] for k in doc_idxs]\n",
        "        start_idxs = [np.random.randint(0, len(d)) for d in documents]\n",
        "        \n",
        "        topic_docs = []\n",
        "        for d in docs:\n",
        "          if len(d) < self.doc_length:\n",
        "            topic_docs.append(['<start>']*(self.doc_length - len(d))+d)\n",
        "          elif len(d) == self.doc_length:\n",
        "            topic_docs.append(d)\n",
        "          else:\n",
        "            topic_docs.append(d[:self.doc_length//2] + d[-self.doc_length//2:])\n",
        "        x_topic = np.array([[self.word2idx(w) for w in d] for d in topic_docs])\n",
        "\n",
        "        lm_docs = [['<start>']*(self.doc_length-len(d)+i)+d[i:] if len(d)-i<self.doc_length else d[i:]]\n",
        "        yield [x_topic, x_lm], y\n",
        "\n",
        "  def predict(self, init_doc, topic, method='sample'):\n",
        "    pad_doc = ['<start>']*(self.window-1) + init_doc\n",
        "    key = ' '.join(pad_doc[-self.window+1:])\n",
        "    if method == 'sample':\n",
        "      return np.random.choice([w for w,p in self.ngram_probs[topic][key]],\n",
        "                              p=[p for w,p in self.ngram_probs[topic][key]])\n",
        "    elif method == 'max':\n",
        "      return self.ngram_probs[topic][key][np.argmax([p for w,p in self.ngram_probs[topic][key]])][0]\n",
        "\n",
        "    elif method == 'distribution':\n",
        "      return self.ngram_probs[topic][key]\n",
        "\n",
        "    else:\n",
        "      raise ValueError('Unknown method.')\n",
        "\n",
        "  def rollout(self, init_doc, topic, method='monte-carlo', maxlen=100):\n",
        "    pred_method = 'sample' if method=='monte-carlo' else 'max' if method=='greedy' else ''\n",
        "    \n",
        "    for k in range(maxlen-len(init_doc)):\n",
        "      predicted = self.predict(init_doc, topic, pred_method)\n",
        "      if predicted == '<end>': break\n",
        "      init_doc.append(predicted)\n",
        "\n",
        "    return init_doc\n",
        "\n",
        "  def get_topics(self, doc):\n",
        "    cleaned = self.clean([doc])[0]\n",
        "    bow = self.topic_model.id2word.doc2bow(cleaned)\n",
        "    return [dict(self.topic_model[bow]).get(k,0) for k in range(self.num_topics)]"
      ],
      "execution_count": 0,
      "outputs": []
    },
    {
      "cell_type": "code",
      "metadata": {
        "id": "4hK6zuRTOjv8",
        "colab_type": "code",
        "colab": {
          "base_uri": "https://localhost:8080/",
          "height": 35
        },
        "outputId": "b09433e8-1b30-4a4a-be65-5ed302e4ee21"
      },
      "source": [
        "a = [0,1,2,3,4]\n",
        "len(a), len(a[2:])"
      ],
      "execution_count": 3,
      "outputs": [
        {
          "output_type": "execute_result",
          "data": {
            "text/plain": [
              "(5, 3)"
            ]
          },
          "metadata": {
            "tags": []
          },
          "execution_count": 3
        }
      ]
    },
    {
      "cell_type": "code",
      "metadata": {
        "id": "rDPnHh3nYEuE",
        "colab_type": "code",
        "colab": {}
      },
      "source": [
        ""
      ],
      "execution_count": 0,
      "outputs": []
    }
  ]
}