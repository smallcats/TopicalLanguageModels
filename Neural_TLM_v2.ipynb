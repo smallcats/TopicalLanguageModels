{
  "nbformat": 4,
  "nbformat_minor": 0,
  "metadata": {
    "colab": {
      "name": "Neural_TLM_v1.ipynb",
      "provenance": [],
      "include_colab_link": true
    },
    "kernelspec": {
      "name": "python3",
      "display_name": "Python 3"
    }
  },
  "cells": [
    {
      "cell_type": "markdown",
      "metadata": {
        "id": "view-in-github",
        "colab_type": "text"
      },
      "source": [
        "<a href=\"https://colab.research.google.com/github/smallcats/TopicalLanguageModels/blob/master/Neural_TLM_v2.ipynb\" target=\"_parent\"><img src=\"https://colab.research.google.com/assets/colab-badge.svg\" alt=\"Open In Colab\"/></a>"
      ]
    },
    {
      "cell_type": "code",
      "metadata": {
        "id": "gFAvBLHfcmrD",
        "colab_type": "code",
        "colab": {}
      },
      "source": [
        "%tensorflow_version 1.x\n",
        "\n",
        "import numpy as np\n",
        "import pandas as pd\n",
        "\n",
        "import nltk\n",
        "from nltk.corpus import stopwords\n",
        "import re\n",
        "\n",
        "from keras.layers import Input, Embedding, LSTM, Dense, Flatten, Lambda, Concatenate, Reshape, Dot\n",
        "from keras.models import Model\n",
        "import keras.backend as K\n",
        "from keras.callbacks import Callback\n",
        "\n",
        "from gensim.models import Word2Vec\n",
        "\n",
        "from matplotlib import pyplot as plt"
      ],
      "execution_count": 0,
      "outputs": []
    },
    {
      "cell_type": "code",
      "metadata": {
        "id": "GjRlyo009h4g",
        "colab_type": "code",
        "outputId": "5139a1ab-11b9-4293-ae83-077425ab4b86",
        "colab": {
          "base_uri": "https://localhost:8080/",
          "height": 121
        }
      },
      "source": [
        "nltk.download('gutenberg')\n",
        "nltk.download('punkt')\n",
        "nltk.download('stopwords')\n",
        "\n",
        "stopwords = stopwords.words('english')"
      ],
      "execution_count": 0,
      "outputs": [
        {
          "output_type": "stream",
          "text": [
            "[nltk_data] Downloading package gutenberg to /root/nltk_data...\n",
            "[nltk_data]   Package gutenberg is already up-to-date!\n",
            "[nltk_data] Downloading package punkt to /root/nltk_data...\n",
            "[nltk_data]   Package punkt is already up-to-date!\n",
            "[nltk_data] Downloading package stopwords to /root/nltk_data...\n",
            "[nltk_data]   Package stopwords is already up-to-date!\n"
          ],
          "name": "stdout"
        }
      ]
    },
    {
      "cell_type": "code",
      "metadata": {
        "id": "-04uRZH79iY5",
        "colab_type": "code",
        "outputId": "deb68f1c-22d8-4f77-dcf4-e3310737f015",
        "colab": {
          "base_uri": "https://localhost:8080/",
          "height": 35
        }
      },
      "source": [
        "thurs = nltk.corpus.gutenberg.raw('chesterton-thursday.txt')\n",
        "len(thurs)"
      ],
      "execution_count": 0,
      "outputs": [
        {
          "output_type": "execute_result",
          "data": {
            "text/plain": [
              "320525"
            ]
          },
          "metadata": {
            "tags": []
          },
          "execution_count": 108
        }
      ]
    },
    {
      "cell_type": "code",
      "metadata": {
        "id": "EQN8KBSq-AnY",
        "colab_type": "code",
        "outputId": "8a7c2540-a56b-4cad-e34c-5961a0024cbb",
        "colab": {
          "base_uri": "https://localhost:8080/",
          "height": 35
        }
      },
      "source": [
        "thurs = thurs.split('\\n\\n')\n",
        "len(thurs)"
      ],
      "execution_count": 0,
      "outputs": [
        {
          "output_type": "execute_result",
          "data": {
            "text/plain": [
              "1304"
            ]
          },
          "metadata": {
            "tags": []
          },
          "execution_count": 109
        }
      ]
    },
    {
      "cell_type": "code",
      "metadata": {
        "colab_type": "code",
        "outputId": "f653df5e-f911-4032-dce0-665e532cfe14",
        "id": "TuZus5wfdL35",
        "colab": {
          "base_uri": "https://localhost:8080/",
          "height": 265
        }
      },
      "source": [
        "plt.hist([len(d) for d in thurs], bins=20)\n",
        "plt.show()"
      ],
      "execution_count": 0,
      "outputs": [
        {
          "output_type": "display_data",
          "data": {
            "image/png": "[encoded data removed]",
            "text/plain": [
              "<Figure size 432x288 with 1 Axes>"
            ]
          },
          "metadata": {
            "tags": []
          }
        }
      ]
    },
    {
      "cell_type": "code",
      "metadata": {
        "id": "wNRLjhxP-Ai3",
        "colab_type": "code",
        "outputId": "205fda1b-30fd-49e9-c015-0d2632d050e0",
        "colab": {
          "base_uri": "https://localhost:8080/",
          "height": 265
        }
      },
      "source": [
        "plt.hist([len(d) for d in thurs if len(d)<200], bins=20)\n",
        "plt.show()"
      ],
      "execution_count": 0,
      "outputs": [
        {
          "output_type": "display_data",
          "data": {
            "image/png": "[encoded data removed]",
            "text/plain": [
              "<Figure size 432x288 with 1 Axes>"
            ]
          },
          "metadata": {
            "tags": []
          }
        }
      ]
    },
    {
      "cell_type": "code",
      "metadata": {
        "id": "kDP5oF9D-AeS",
        "colab_type": "code",
        "outputId": "6e20b212-3421-420e-aa9d-7e09c9a24f64",
        "colab": {
          "base_uri": "https://localhost:8080/",
          "height": 35
        }
      },
      "source": [
        "len([d for d in thurs if len(d)>75])"
      ],
      "execution_count": 0,
      "outputs": [
        {
          "output_type": "execute_result",
          "data": {
            "text/plain": [
              "876"
            ]
          },
          "metadata": {
            "tags": []
          },
          "execution_count": 112
        }
      ]
    },
    {
      "cell_type": "code",
      "metadata": {
        "id": "KoJra3Vad-O_",
        "colab_type": "code",
        "colab": {}
      },
      "source": [
        "thurs = [d for d in thurs if len(d)>75]"
      ],
      "execution_count": 0,
      "outputs": []
    },
    {
      "cell_type": "code",
      "metadata": {
        "id": "C_5mQk_Wd9-D",
        "colab_type": "code",
        "colab": {}
      },
      "source": [
        "thurs = [' '.join(d.split()) for d in thurs]"
      ],
      "execution_count": 0,
      "outputs": []
    },
    {
      "cell_type": "code",
      "metadata": {
        "id": "irGTcbyGd9r_",
        "colab_type": "code",
        "outputId": "cc94f71e-6814-4313-b53d-2ca57c4e8ea5",
        "colab": {
          "base_uri": "https://localhost:8080/",
          "height": 55
        }
      },
      "source": [
        "thurs[10]"
      ],
      "execution_count": 0,
      "outputs": [
        {
          "output_type": "execute_result",
          "data": {
            "text/plain": [
              "'\"Nonsense!\" said Gregory, who was very rational when anyone else attempted paradox. \"Why do all the clerks and navvies in the railway trains look so sad and tired, so very sad and tired? I will tell you. It is because they know that the train is going right. It is because they know that whatever place they have taken a ticket for that place they will reach. It is because after they have passed Sloane Square they know that the next station must be Victoria, and nothing but Victoria. Oh, their wild rapture! oh, their eyes like stars and their souls again in Eden, if the next station were unaccountably Baker Street!\"'"
            ]
          },
          "metadata": {
            "tags": []
          },
          "execution_count": 115
        }
      ]
    },
    {
      "cell_type": "code",
      "metadata": {
        "id": "krbyOqDQbUXl",
        "colab_type": "code",
        "colab": {}
      },
      "source": [
        "thurs_sent = '\\n'.join(thurs)\n",
        "thurs_sent = nltk.tokenize.sent_tokenize(thurs_sent)"
      ],
      "execution_count": 0,
      "outputs": []
    },
    {
      "cell_type": "code",
      "metadata": {
        "id": "kBfZrNBFbO1s",
        "colab_type": "code",
        "colab": {}
      },
      "source": [
        "def doc2words(doc):\n",
        "  words = nltk.tokenize.word_tokenize(doc)\n",
        "  words = [w.lower() for w in words if w.isalpha()]\n",
        "  words = [w for w in words if (len(w)>1) and (w not in stopwords)]\n",
        "  return words"
      ],
      "execution_count": 0,
      "outputs": []
    },
    {
      "cell_type": "code",
      "metadata": {
        "id": "jw7qG968d4Im",
        "colab_type": "code",
        "colab": {}
      },
      "source": [
        "thurs_sent = [doc2words(s) for s in thurs_sent]"
      ],
      "execution_count": 0,
      "outputs": []
    },
    {
      "cell_type": "code",
      "metadata": {
        "id": "pI1pCVKGaXdx",
        "colab_type": "code",
        "colab": {}
      },
      "source": [
        "emb = Word2Vec(thurs_sent)"
      ],
      "execution_count": 0,
      "outputs": []
    },
    {
      "cell_type": "code",
      "metadata": {
        "id": "0OjwJPY8ahTl",
        "colab_type": "code",
        "outputId": "22e8fb82-8010-4493-97fe-6f9853d90b7d",
        "colab": {
          "base_uri": "https://localhost:8080/",
          "height": 245
        }
      },
      "source": [
        "emb.wv.similar_by_word('door')"
      ],
      "execution_count": 0,
      "outputs": [
        {
          "output_type": "stream",
          "text": [
            "/usr/local/lib/python3.6/dist-packages/gensim/matutils.py:737: FutureWarning: Conversion of the second argument of issubdtype from `int` to `np.signedinteger` is deprecated. In future, it will be treated as `np.int64 == np.dtype(int).type`.\n",
            "  if np.issubdtype(vec.dtype, np.int):\n"
          ],
          "name": "stderr"
        },
        {
          "output_type": "execute_result",
          "data": {
            "text/plain": [
              "[('face', 0.9969711899757385),\n",
              " ('found', 0.9969350695610046),\n",
              " ('syme', 0.9968661069869995),\n",
              " ('street', 0.9968335628509521),\n",
              " ('began', 0.996825098991394),\n",
              " ('professor', 0.9968061447143555),\n",
              " ('see', 0.9967728853225708),\n",
              " ('good', 0.9967683553695679),\n",
              " ('sunday', 0.9967629313468933),\n",
              " ('two', 0.9967553019523621)]"
            ]
          },
          "metadata": {
            "tags": []
          },
          "execution_count": 120
        }
      ]
    },
    {
      "cell_type": "code",
      "metadata": {
        "id": "tMHtfDD6adq5",
        "colab_type": "code",
        "colab": {}
      },
      "source": [
        "we = {w:emb.wv.get_vector(w) for w in emb.wv.vocab}\n",
        "vec_size = emb.vector_size"
      ],
      "execution_count": 0,
      "outputs": []
    },
    {
      "cell_type": "code",
      "metadata": {
        "id": "3Ye93C1mdrQR",
        "colab_type": "code",
        "colab": {}
      },
      "source": [
        "def multiples(it, n):\n",
        "  for k in range(len(it)-n+1):\n",
        "    yield it[k:k+n]\n",
        "\n",
        "class TLMDataGen:\n",
        "  def __init__(self, documents, word_embedding, doc2words, lm_length, token2idx, \n",
        "               valid_num=None, valid_frac=None, batch_size=20, valid_batch_size=100):\n",
        "    if valid_num is None and valid_frac is None:\n",
        "      if len(documents) < 1000:\n",
        "        valid_num = int(0.1*len(documents))\n",
        "      else:\n",
        "        valid_num = 100\n",
        "    elif valid_num is None:\n",
        "      valid_num = int(valid_frac*len(documents))\n",
        "\n",
        "    perm = np.random.permutation(len(documents))\n",
        "    self.train_idxs = perm[:valid_num]\n",
        "    self.valid_idxs = perm[valid_num:]\n",
        "\n",
        "    self.documents = documents\n",
        "    self.batch_size = batch_size\n",
        "    self.valid_batch_size = valid_batch_size\n",
        "    self.word_embedding = word_embedding\n",
        "    self.doc2words = doc2words\n",
        "    self.lm_length = lm_length\n",
        "    self.token2idx = token2idx\n",
        "\n",
        "  def get_train_batch(self):\n",
        "    doc_idxs = np.random.choice(self.train_idxs, size=self.batch_size)\n",
        "    docs = [self.documents[k] for k in doc_idxs]\n",
        "    finish_idxs = [np.random.randint(0, len(d)+1) for d in docs]\n",
        "    \n",
        "    x_topic = np.array([np.array([self.word_embedding[w] for w in self.doc2words(d) if w in self.word_embedding]).mean(axis=0) for d in docs])\n",
        "\n",
        "    lm_docs = [d[max(i-self.lm_length,0):i] for i, d in zip(finish_idxs, docs)]\n",
        "    x_lm = np.array([[0]*(self.lm_length - len(d))+[self.token2idx.get(t,2) for t in d] for d in lm_docs])\n",
        "\n",
        "    y = np.array([self.token2idx.get(d[i],2) if i != len(d) else 1 for i,d in zip(finish_idxs, docs)])\n",
        "    \n",
        "    return [x_topic, x_lm], y\n",
        "\n",
        "  def get_valid_batch(self):\n",
        "    doc_idxs = np.random.choice(self.valid_idxs, size=self.valid_batch_size)\n",
        "    docs = [self.documents[k] for k in doc_idxs]\n",
        "    finish_idxs = [np.random.randint(0, len(d)+1) for d in docs]\n",
        "    \n",
        "    x_topic = np.array([np.array([self.word_embedding[w] for w in self.doc2words(d) if w in self.word_embedding]).mean(axis=0) for d in docs])\n",
        "\n",
        "    lm_docs = [d[max(i-self.lm_length,0):i] for i, d in zip(finish_idxs, docs)]\n",
        "    x_lm = np.array([[0]*(self.lm_length - len(d))+[self.token2idx.get(t,2) for t in d] for d in lm_docs])\n",
        "\n",
        "    y = np.array([self.token2idx.get(d[i],2) if i != len(d) else 1 for i,d in zip(finish_idxs, docs)])\n",
        "    \n",
        "    return [x_topic, x_lm], y\n",
        "\n",
        "\n",
        "\n",
        "class TopicalLanguageModel:\n",
        "  \"\"\"\n",
        "  Neural Topical Language Model.\n",
        "\n",
        "  attributes:\n",
        "  num_topics :: int : number of topics\n",
        "  doc2words :: function : takes a document as a string and returns words\n",
        "  word_embedding :: dict : keys are words, values are vectors\n",
        "  vector_size :: int : the dimension of embedding vectors\n",
        "  lm_length :: int : length of tokens taken into account for character-level language models \n",
        "  \"\"\"\n",
        "  def __init__(self, num_topics, word_embedding, vector_size, doc2words, lm_length=30, tokens='abcdefghijklmnopqrstuvwxyz '):\n",
        "    self.num_topics = num_topics\n",
        "    self.doc2words = doc2words\n",
        "    self.word_embedding = word_embedding\n",
        "    self.vector_size = vector_size\n",
        "    self.lm_length = lm_length\n",
        "\n",
        "    self.tokens = ['<', '>', '*'] + list(tokens)\n",
        "    token_idx = [(t, k+3) for k,t in enumerate(list(tokens))] # 0 = start, 1 = end, 2 = unknown\n",
        "    self.token2idx = {t:k for t,k in token_idx}\n",
        "    self.idx2token = {k:t for t,k in token_idx}\n",
        "\n",
        "    self.num_tokens = len(tokens)+3\n",
        "\n",
        "  def fit(self, documents, batch_size=20, epochs=10, verbose=0, examples_per_epoch=5, example_epoch_skip=1, num_validation_samples=5):\n",
        "    \"\"\"\n",
        "    fit(self, documents)\n",
        "\n",
        "    documents should be a list of sentences, and a sentence a list of words.\n",
        "    \"\"\"\n",
        "    x_topic = Input(shape=(self.vector_size,))\n",
        "    h_topic = Dense(self.vector_size, activation='relu')(x_topic)\n",
        "    out_topic = Dense(self.num_topics, activation='softmax')(h_topic)\n",
        "    self.topic_model = Model(inputs=[x_topic], outputs=out_topic)\n",
        "    \n",
        "    self.language_models = []\n",
        "    for k in range(self.num_topics):\n",
        "      x_lm = Input(shape=(self.lm_length,), dtype='int32')\n",
        "      h_lm = Embedding(input_dim=self.num_tokens, output_dim=self.num_tokens//2, input_length=self.lm_length)(x_lm)\n",
        "      h_lm = LSTM(self.num_tokens)(h_lm)\n",
        "      out_lm = Dense(self.num_tokens, activation='softmax')(h_lm)\n",
        "      lm = Model(inputs=[x_lm], outputs=out_lm)\n",
        "      self.language_models.append(lm)\n",
        "\n",
        "    train_topic_input = Input(shape=(self.vector_size,))\n",
        "    train_lm_input = Input(shape=(self.lm_length,), dtype='int32')\n",
        "\n",
        "    lm_outputs = [Reshape(target_shape=(self.num_tokens, 1))(lm(train_lm_input)) for lm in self.language_models]\n",
        "    lm_outputs = Concatenate(axis=2)(lm_outputs)\n",
        "    topic_mix = self.topic_model(train_topic_input)\n",
        "\n",
        "    out = Dot(axes=(2, 1))([lm_outputs, topic_mix])\n",
        "\n",
        "    self.train_model = Model(inputs=[train_topic_input, train_lm_input], outputs=out)\n",
        "    self.train_model.compile('adam', 'sparse_categorical_crossentropy')\n",
        "\n",
        "    data_generator = TLMDataGen(documents, word_embedding=self.word_embedding, \n",
        "                                doc2words=self.doc2words, \n",
        "                                lm_length=self.lm_length, \n",
        "                                token2idx=self.token2idx,\n",
        "                                batch_size = batch_size)\n",
        "\n",
        "    steps_per_epoch = len(documents)//batch_size\n",
        "    self.logs = {'examples':[], 'val_loss':[], 'topic_fraction':[], 'topic_entropy':[]}\n",
        "    for epoch in range(epochs+1):\n",
        "\n",
        "      #examples\n",
        "      if epoch%example_epoch_skip == 0:\n",
        "        if verbose>1:\n",
        "          print('Getting examples')\n",
        "        for t in range(self.num_topics):\n",
        "          for k in range(examples_per_epoch):\n",
        "            self.logs['examples'].append((self.rollout('', topic=t, maxlen=100), t, epoch))\n",
        "\n",
        "      #validation loss\n",
        "      if verbose>1:\n",
        "        print('Running validation loss')\n",
        "      losses = [self.train_model.test_on_batch(*(data_generator.get_valid_batch())) for k in range(num_validation_samples)]\n",
        "      self.logs['val_loss'].append(losses)\n",
        "\n",
        "      #topics\n",
        "      if verbose>1:\n",
        "        print('Getting topic distributions')\n",
        "      xs, y = data_generator.get_valid_batch()\n",
        "      x = xs[0]\n",
        "      topics = self.topic_model.predict(x)\n",
        "      entropies = (-topics*np.log(topics)).sum(axis=1)\n",
        "      mean_entropy = entropies.mean(axis=0)\n",
        "      std_entropy = entropies.std(axis=0)\n",
        "      mean_topics = topics.mean(axis=0)\n",
        "      self.logs['topic_fraction'].append(mean_topics)\n",
        "      self.logs['topic_entropy'].append((mean_entropy, std_entropy))\n",
        "\n",
        "      if epoch<epochs:\n",
        "        #train\n",
        "        if verbose>1:\n",
        "          print('Training')\n",
        "        avg_loss = 0\n",
        "        for step in range(steps_per_epoch):\n",
        "          xs, y = data_generator.get_train_batch()\n",
        "          avg_loss = (step/(step+1))*avg_loss + self.train_model.train_on_batch(xs, y)/(step+1)\n",
        "        #print\n",
        "        if verbose > 0:\n",
        "          print('Epoch {0} - Avg train loss: {1}'.format(epoch, avg_loss))\n",
        "      \n",
        "  def predict(self, init_doc, topic, method='sample'):\n",
        "    idx_doc = [self.token2idx.get(c,2) for c in init_doc]\n",
        "    dlen = len(idx_doc)\n",
        "    if dlen < self.lm_length:\n",
        "      idx_doc = [0]*(self.lm_length-dlen)+idx_doc\n",
        "    elif dlen > self.lm_length:\n",
        "      idx_doc = idx_doc[-self.lm_length:]\n",
        "\n",
        "    probs = self.language_models[topic].predict(np.array(idx_doc).reshape((1,-1)))[0]\n",
        "\n",
        "    if method == 'sample':\n",
        "      return np.random.choice(self.tokens, p=probs)\n",
        "\n",
        "    elif method == 'max':\n",
        "      return self.tokens[np.argmax(probs)]\n",
        "\n",
        "    elif method == 'distribution':\n",
        "      return probs\n",
        "\n",
        "    else:\n",
        "      raise ValueError('Unknown method.')\n",
        "\n",
        "  def rollout(self, init_doc, topic, method='monte-carlo', maxlen=100):\n",
        "    pred_method = 'sample' if method=='monte-carlo' else 'max' if method=='greedy' else ''\n",
        "    \n",
        "    for k in range(maxlen-len(init_doc)):\n",
        "      predicted = self.predict(init_doc, topic, pred_method)\n",
        "      if predicted == '>': break\n",
        "      init_doc = init_doc + predicted\n",
        "\n",
        "    return init_doc\n",
        "\n",
        "  def get_topics(self, doc):\n",
        "    words = self.doc2words(doc)\n",
        "    embedding = np.array([self.word_embedding[w] for w in words if w in self.word_embedding]).mean(axis=0)\n",
        "    return self.topic_model.predict(embedding.reshape((-1,1)))[0]"
      ],
      "execution_count": 0,
      "outputs": []
    },
    {
      "cell_type": "code",
      "metadata": {
        "id": "LcTAymOvfDSi",
        "colab_type": "code",
        "colab": {}
      },
      "source": [
        "tlm = TopicalLanguageModel(num_topics=2, word_embedding=emb, vector_size=vec_size, doc2words=doc2words)"
      ],
      "execution_count": 0,
      "outputs": []
    },
    {
      "cell_type": "code",
      "metadata": {
        "id": "H65lttW6g8ye",
        "colab_type": "code",
        "outputId": "cbe98c94-4e72-4932-e1c4-7272b554d3a0",
        "colab": {
          "base_uri": "https://localhost:8080/",
          "height": 1000
        }
      },
      "source": [
        "tlm.fit(thurs, epochs=100, verbose=1, example_epoch_skip=10)"
      ],
      "execution_count": 0,
      "outputs": [
        {
          "output_type": "stream",
          "text": [
            "/usr/local/lib/python3.6/dist-packages/ipykernel_launcher.py:47: DeprecationWarning: Call to deprecated `__contains__` (Method will be removed in 4.0.0, use self.wv.__contains__() instead).\n",
            "/usr/local/lib/python3.6/dist-packages/ipykernel_launcher.py:47: DeprecationWarning: Call to deprecated `__getitem__` (Method will be removed in 4.0.0, use self.wv.__getitem__() instead).\n",
            "/usr/local/lib/python3.6/dist-packages/ipykernel_launcher.py:33: DeprecationWarning: Call to deprecated `__contains__` (Method will be removed in 4.0.0, use self.wv.__contains__() instead).\n",
            "/usr/local/lib/python3.6/dist-packages/ipykernel_launcher.py:33: DeprecationWarning: Call to deprecated `__getitem__` (Method will be removed in 4.0.0, use self.wv.__getitem__() instead).\n",
            "/usr/local/lib/python3.6/dist-packages/ipykernel_launcher.py:33: DeprecationWarning: Call to deprecated `__contains__` (Method will be removed in 4.0.0, use self.wv.__contains__() instead).\n",
            "/usr/local/lib/python3.6/dist-packages/ipykernel_launcher.py:33: DeprecationWarning: Call to deprecated `__getitem__` (Method will be removed in 4.0.0, use self.wv.__getitem__() instead).\n"
          ],
          "name": "stderr"
        },
        {
          "output_type": "stream",
          "text": [
            "Epoch 0 - Avg train loss: 3.3058412296827435\n"
          ],
          "name": "stdout"
        },
        {
          "output_type": "stream",
          "text": [
            "/usr/local/lib/python3.6/dist-packages/ipykernel_launcher.py:47: DeprecationWarning: Call to deprecated `__contains__` (Method will be removed in 4.0.0, use self.wv.__contains__() instead).\n",
            "/usr/local/lib/python3.6/dist-packages/ipykernel_launcher.py:47: DeprecationWarning: Call to deprecated `__getitem__` (Method will be removed in 4.0.0, use self.wv.__getitem__() instead).\n"
          ],
          "name": "stderr"
        },
        {
          "output_type": "stream",
          "text": [
            "Epoch 1 - Avg train loss: 2.9425457799157435\n",
            "Epoch 2 - Avg train loss: 2.9424513827922727\n",
            "Epoch 3 - Avg train loss: 2.8691119149673825\n",
            "Epoch 4 - Avg train loss: 2.9170321697412516\n",
            "Epoch 5 - Avg train loss: 2.8854052466015485\n",
            "Epoch 6 - Avg train loss: 2.95758575062419\n",
            "Epoch 7 - Avg train loss: 2.8629996832026987\n",
            "Epoch 8 - Avg train loss: 2.8784987205682797\n",
            "Epoch 9 - Avg train loss: 2.8165580283763805\n",
            "Epoch 10 - Avg train loss: 2.8350121864052706\n",
            "Epoch 11 - Avg train loss: 2.8141221667444993\n",
            "Epoch 12 - Avg train loss: 2.737226996310922\n",
            "Epoch 13 - Avg train loss: 2.6685792679010425\n",
            "Epoch 14 - Avg train loss: 2.7002792358398438\n",
            "Epoch 15 - Avg train loss: 2.5846986992414607\n",
            "Epoch 16 - Avg train loss: 2.608069483623947\n",
            "Epoch 17 - Avg train loss: 2.548862468364627\n",
            "Epoch 18 - Avg train loss: 2.5305784413980876\n",
            "Epoch 19 - Avg train loss: 2.4827486747919134\n",
            "Epoch 20 - Avg train loss: 2.5120730871377983\n",
            "Epoch 21 - Avg train loss: 2.4751588217047753\n",
            "Epoch 22 - Avg train loss: 2.518752497296001\n",
            "Epoch 23 - Avg train loss: 2.4294153895489\n",
            "Epoch 24 - Avg train loss: 2.3811756483344135\n",
            "Epoch 25 - Avg train loss: 2.380079022673673\n",
            "Epoch 26 - Avg train loss: 2.4784532951754197\n",
            "Epoch 27 - Avg train loss: 2.437882143397664\n",
            "Epoch 28 - Avg train loss: 2.471987474796383\n",
            "Epoch 29 - Avg train loss: 2.4593407608741944\n",
            "Epoch 30 - Avg train loss: 2.3789502742678623\n",
            "Epoch 31 - Avg train loss: 2.3823340798533237\n",
            "Epoch 32 - Avg train loss: 2.301406508268311\n",
            "Epoch 33 - Avg train loss: 2.4245344539021336\n",
            "Epoch 34 - Avg train loss: 2.4767303716304685\n",
            "Epoch 35 - Avg train loss: 2.389133359110633\n",
            "Epoch 36 - Avg train loss: 2.3603325527767813\n",
            "Epoch 37 - Avg train loss: 2.3892759278763163\n",
            "Epoch 38 - Avg train loss: 2.34988646451817\n",
            "Epoch 39 - Avg train loss: 2.2735771218011553\n",
            "Epoch 40 - Avg train loss: 2.3222683889921334\n",
            "Epoch 41 - Avg train loss: 2.3536015915316204\n",
            "Epoch 42 - Avg train loss: 2.329010564227437\n",
            "Epoch 43 - Avg train loss: 2.3620316150576555\n",
            "Epoch 44 - Avg train loss: 2.3102298780929207\n",
            "Epoch 45 - Avg train loss: 2.3337599621262664\n",
            "Epoch 46 - Avg train loss: 2.3276796812234926\n",
            "Epoch 47 - Avg train loss: 2.3589301857837413\n",
            "Epoch 48 - Avg train loss: 2.2564478419547864\n",
            "Epoch 49 - Avg train loss: 2.3227792285209476\n",
            "Epoch 50 - Avg train loss: 2.338818688725317\n",
            "Epoch 51 - Avg train loss: 2.3073692654454443\n",
            "Epoch 52 - Avg train loss: 2.353049766185671\n",
            "Epoch 53 - Avg train loss: 2.3287244979725337\n",
            "Epoch 54 - Avg train loss: 2.3216924611912226\n",
            "Epoch 55 - Avg train loss: 2.2871093140092005\n",
            "Epoch 56 - Avg train loss: 2.20895753350369\n",
            "Epoch 57 - Avg train loss: 2.259045010389284\n",
            "Epoch 58 - Avg train loss: 2.29910804504572\n",
            "Epoch 59 - Avg train loss: 2.2359212387439813\n",
            "Epoch 60 - Avg train loss: 2.308354946069939\n",
            "Epoch 61 - Avg train loss: 2.27681332687999\n",
            "Epoch 62 - Avg train loss: 2.313971663630286\n",
            "Epoch 63 - Avg train loss: 2.2625814149546066\n",
            "Epoch 64 - Avg train loss: 2.2449671750844917\n",
            "Epoch 65 - Avg train loss: 2.2657509349113285\n",
            "Epoch 66 - Avg train loss: 2.3019898187282464\n",
            "Epoch 67 - Avg train loss: 2.226644418960394\n",
            "Epoch 68 - Avg train loss: 2.207177652869114\n",
            "Epoch 69 - Avg train loss: 2.2041492489881285\n",
            "Epoch 70 - Avg train loss: 2.114578050236369\n",
            "Epoch 71 - Avg train loss: 2.2380998605905567\n",
            "Epoch 72 - Avg train loss: 2.2931166083313697\n",
            "Epoch 73 - Avg train loss: 2.245427098385123\n",
            "Epoch 74 - Avg train loss: 2.262982382330784\n",
            "Epoch 75 - Avg train loss: 2.271804183028466\n",
            "Epoch 76 - Avg train loss: 2.2771596049153535\n",
            "Epoch 77 - Avg train loss: 2.205999856771424\n",
            "Epoch 78 - Avg train loss: 2.272413794384445\n",
            "Epoch 79 - Avg train loss: 2.250543757926585\n",
            "Epoch 80 - Avg train loss: 2.2463921696640727\n",
            "Epoch 81 - Avg train loss: 2.241595628649689\n",
            "Epoch 82 - Avg train loss: 2.2046375357827483\n",
            "Epoch 83 - Avg train loss: 2.1669221284777618\n",
            "Epoch 84 - Avg train loss: 2.193205467490263\n",
            "Epoch 85 - Avg train loss: 2.2141395530035317\n",
            "Epoch 86 - Avg train loss: 2.2453600556351403\n",
            "Epoch 87 - Avg train loss: 2.1886367936466997\n",
            "Epoch 88 - Avg train loss: 2.1762974567191544\n",
            "Epoch 89 - Avg train loss: 2.237997662189395\n",
            "Epoch 90 - Avg train loss: 2.1764399922171305\n",
            "Epoch 91 - Avg train loss: 2.2020983280137525\n",
            "Epoch 92 - Avg train loss: 2.2039048311322236\n",
            "Epoch 93 - Avg train loss: 2.239154327747434\n",
            "Epoch 94 - Avg train loss: 2.206607081169306\n",
            "Epoch 95 - Avg train loss: 2.1569451925366425\n",
            "Epoch 96 - Avg train loss: 2.2177688521008156\n",
            "Epoch 97 - Avg train loss: 2.2211198252300886\n",
            "Epoch 98 - Avg train loss: 2.1791392675665935\n",
            "Epoch 99 - Avg train loss: 2.1473002378330674\n"
          ],
          "name": "stdout"
        }
      ]
    },
    {
      "cell_type": "code",
      "metadata": {
        "id": "zXs4GlflUjm5",
        "colab_type": "code",
        "outputId": "346d56fc-751c-45ab-fc78-bcb1c6a24532",
        "colab": {
          "base_uri": "https://localhost:8080/",
          "height": 35
        }
      },
      "source": [
        "tlm.logs.keys()"
      ],
      "execution_count": 0,
      "outputs": [
        {
          "output_type": "execute_result",
          "data": {
            "text/plain": [
              "dict_keys(['examples', 'val_loss', 'topic_fraction', 'topic_entropy'])"
            ]
          },
          "metadata": {
            "tags": []
          },
          "execution_count": 153
        }
      ]
    },
    {
      "cell_type": "code",
      "metadata": {
        "id": "jk37zL7wyFMR",
        "colab_type": "code",
        "outputId": "9809668f-ee01-42d6-e6f4-45d93e986112",
        "colab": {
          "base_uri": "https://localhost:8080/",
          "height": 355
        }
      },
      "source": [
        "pd.set_option('display.max_colwidth', -1)\n",
        "ex = pd.DataFrame(columns=['example', 'topic_num', 'epoch'], data=tlm.logs['examples'])\n",
        "ex.sample(10).sort_values('epoch')"
      ],
      "execution_count": 0,
      "outputs": [
        {
          "output_type": "execute_result",
          "data": {
            "text/html": [
              "<div>\n",
              "<style scoped>\n",
              "    .dataframe tbody tr th:only-of-type {\n",
              "        vertical-align: middle;\n",
              "    }\n",
              "\n",
              "    .dataframe tbody tr th {\n",
              "        vertical-align: top;\n",
              "    }\n",
              "\n",
              "    .dataframe thead th {\n",
              "        text-align: right;\n",
              "    }\n",
              "</style>\n",
              "<table border=\"1\" class=\"dataframe\">\n",
              "  <thead>\n",
              "    <tr style=\"text-align: right;\">\n",
              "      <th></th>\n",
              "      <th>example</th>\n",
              "      <th>topic_num</th>\n",
              "      <th>epoch</th>\n",
              "    </tr>\n",
              "  </thead>\n",
              "  <tbody>\n",
              "    <tr>\n",
              "      <th>19</th>\n",
              "      <td>o*t a*rolath*  rrrl  kgdf aisan*chqe arpidle  bncai m e yotieieast *a eipbhgest uih tne  qg *a a m a</td>\n",
              "      <td>1</td>\n",
              "      <td>10</td>\n",
              "    </tr>\n",
              "    <tr>\n",
              "      <th>17</th>\n",
              "      <td>tytd ne  je rusltee*stcye  o  braeaath sh tp  tehemhh*r**hnhhy oh teeffh  uavseasrnoheseis r*ao*m*h</td>\n",
              "      <td>1</td>\n",
              "      <td>10</td>\n",
              "    </tr>\n",
              "    <tr>\n",
              "      <th>11</th>\n",
              "      <td>nrh hri nu  id iahdeeohaontote dtemik ohom omal*ooso hdii*woctodiph*qderdoo  nndhud mp*o* lebo h hmu</td>\n",
              "      <td>0</td>\n",
              "      <td>10</td>\n",
              "    </tr>\n",
              "    <tr>\n",
              "      <th>32</th>\n",
              "      <td>meukf** osordhen narthinde* d* anr*</td>\n",
              "      <td>0</td>\n",
              "      <td>30</td>\n",
              "    </tr>\n",
              "    <tr>\n",
              "      <th>38</th>\n",
              "      <td>*afplcese ori otgls *rr bere* uce tumt ar taln ce *ve tfr ces afeile bttela fhe ary ln lpslplte re h</td>\n",
              "      <td>1</td>\n",
              "      <td>30</td>\n",
              "    </tr>\n",
              "    <tr>\n",
              "      <th>37</th>\n",
              "      <td>behe rbere* * *aransee urel mce *ka ban bhe aon tuwtft t lre *re cef tre faduiptchate tt fteea nfr *</td>\n",
              "      <td>1</td>\n",
              "      <td>30</td>\n",
              "    </tr>\n",
              "    <tr>\n",
              "      <th>44</th>\n",
              "      <td>** do ud honrt annliidt he hin videng*** ind ppaes pawhey* ort esonme*n</td>\n",
              "      <td>0</td>\n",
              "      <td>40</td>\n",
              "    </tr>\n",
              "    <tr>\n",
              "      <th>54</th>\n",
              "      <td>shanind he thayd iry* hinu*t pome* soros*** nhand ide mipad battso kot tho cheninmety ins vot thast</td>\n",
              "      <td>0</td>\n",
              "      <td>50</td>\n",
              "    </tr>\n",
              "    <tr>\n",
              "      <th>51</th>\n",
              "      <td>*** ppyansshicaypermthink higw towhis*og and had avoags ath iryh it his tomr and ouh ound let pidy*</td>\n",
              "      <td>0</td>\n",
              "      <td>50</td>\n",
              "    </tr>\n",
              "    <tr>\n",
              "      <th>74</th>\n",
              "      <td>** canyt samth* and *amt**</td>\n",
              "      <td>0</td>\n",
              "      <td>70</td>\n",
              "    </tr>\n",
              "  </tbody>\n",
              "</table>\n",
              "</div>"
            ],
            "text/plain": [
              "                                                                                                 example  ...  epoch\n",
              "19  o*t a*rolath*  rrrl  kgdf aisan*chqe arpidle  bncai m e yotieieast *a eipbhgest uih tne  qg *a a m a  ...  10   \n",
              "17  tytd ne  je rusltee*stcye  o  braeaath sh tp  tehemhh*r**hnhhy oh teeffh  uavseasrnoheseis r*ao*m*h   ...  10   \n",
              "11  nrh hri nu  id iahdeeohaontote dtemik ohom omal*ooso hdii*woctodiph*qderdoo  nndhud mp*o* lebo h hmu  ...  10   \n",
              "32  meukf** osordhen narthinde* d* anr*                                                                   ...  30   \n",
              "38  *afplcese ori otgls *rr bere* uce tumt ar taln ce *ve tfr ces afeile bttela fhe ary ln lpslplte re h  ...  30   \n",
              "37  behe rbere* * *aransee urel mce *ka ban bhe aon tuwtft t lre *re cef tre faduiptchate tt fteea nfr *  ...  30   \n",
              "44  ** do ud honrt annliidt he hin videng*** ind ppaes pawhey* ort esonme*n                               ...  40   \n",
              "54   shanind he thayd iry* hinu*t pome* soros*** nhand ide mipad battso kot tho cheninmety ins vot thast  ...  50   \n",
              "51  *** ppyansshicaypermthink higw towhis*og and had avoags ath iryh it his tomr and ouh ound let pidy*   ...  50   \n",
              "74  ** canyt samth* and *amt**                                                                            ...  70   \n",
              "\n",
              "[10 rows x 3 columns]"
            ]
          },
          "metadata": {
            "tags": []
          },
          "execution_count": 154
        }
      ]
    },
    {
      "cell_type": "code",
      "metadata": {
        "id": "yoli8F9QEWFc",
        "colab_type": "code",
        "outputId": "849cd187-9c54-402c-9186-1e1a170aacda",
        "colab": {
          "base_uri": "https://localhost:8080/",
          "height": 404
        }
      },
      "source": [
        "mean_losses = [np.array(v).mean() for v in tlm.logs['val_loss']]\n",
        "max_losses = [np.array(v).max() for v in tlm.logs['val_loss']]\n",
        "min_losses = [np.array(v).min() for v in tlm.logs['val_loss']]\n",
        "epoch = np.arange(len(mean_losses))\n",
        "\n",
        "fig, ax = plt.subplots()\n",
        "ax.plot(epoch, mean_losses, color='b')\n",
        "ax.fill_between(epoch, max_losses, min_losses, color='b', alpha=0.3)\n",
        "ax.set_xlabel('Epoch')\n",
        "ax.set_ylabel('Loss')\n",
        "\n",
        "fig.set_size_inches(12,6)\n",
        "plt.title('validation loss - max, mean, min')\n",
        "\n",
        "plt.show()"
      ],
      "execution_count": 0,
      "outputs": [
        {
          "output_type": "display_data",
          "data": {
            "image/png": "[encoded data removed]",
            "text/plain": [
              "<Figure size 864x432 with 1 Axes>"
            ]
          },
          "metadata": {
            "tags": []
          }
        }
      ]
    },
    {
      "cell_type": "code",
      "metadata": {
        "colab_type": "code",
        "outputId": "55877807-edd7-4c34-bf86-b37b91abb380",
        "id": "6eshB0TVN7EB",
        "colab": {
          "base_uri": "https://localhost:8080/",
          "height": 457
        }
      },
      "source": [
        "epoch = np.arange(len(tlm.logs['topic_entropy']))\n",
        "\n",
        "fig, ax_mean = plt.subplots()\n",
        "ax_mean.stackplot(epoch, np.array(tlm.logs['topic_fraction']).T)\n",
        "ax_mean.set_xlabel('Epoch')\n",
        "ax_mean.set_ylabel('Topic Balance')\n",
        "\n",
        "ax_ent = ax_mean.twinx()\n",
        "topic_entropy = [e[0] for e in tlm.logs['topic_entropy']]\n",
        "max_topic_entropy = [(-p*np.log(p)).sum() for p in tlm.logs['topic_fraction']]\n",
        "frac_topic_entropy = [e/m for e,m in zip(topic_entropy, max_topic_entropy)]\n",
        "ax_ent.plot(epoch, frac_topic_entropy, color='k')\n",
        "ax_ent.set_ylabel('Topic entropy/max topic entropy (for given topic balance)')\n",
        "ax_ent.set_ylim(0,1.05)\n",
        "\n",
        "fig.set_size_inches(12,6)\n",
        "fig.tight_layout()\n",
        "plt.title('topic balance estimates - max, mean, min')\n",
        "\n",
        "plt.show()"
      ],
      "execution_count": 0,
      "outputs": [
        {
          "output_type": "display_data",
          "data": {
            "image/png": "[encoded data removed]",
            "text/plain": [
              "<Figure size 864x432 with 2 Axes>"
            ]
          },
          "metadata": {
            "tags": []
          }
        }
      ]
    },
    {
      "cell_type": "code",
      "metadata": {
        "id": "aKq2LTGmHT75",
        "colab_type": "code",
        "outputId": "1fc933fc-56e4-447d-a7f1-9e66bae2d6a2",
        "colab": {
          "base_uri": "https://localhost:8080/",
          "height": 1000
        }
      },
      "source": [
        "tlm.logs['topic_entropy']"
      ],
      "execution_count": 0,
      "outputs": [
        {
          "output_type": "execute_result",
          "data": {
            "text/plain": [
              "[(0.68955266, 0.0017217952),\n",
              " (0.38591203, 0.07646486),\n",
              " (0.4578724, 0.06147521),\n",
              " (0.47416934, 0.058861084),\n",
              " (0.48409832, 0.05722094),\n",
              " (0.42930135, 0.067985274),\n",
              " (0.5368773, 0.050912954),\n",
              " (0.50532603, 0.053238306),\n",
              " (0.48772725, 0.051488932),\n",
              " (0.4987886, 0.05262982),\n",
              " (0.5254823, 0.049665008),\n",
              " (0.6008255, 0.027924955),\n",
              " (0.62013656, 0.020574616),\n",
              " (0.6547322, 0.014196348),\n",
              " (0.6805907, 0.0030307455),\n",
              " (0.69298303, 1.9308958e-05),\n",
              " (0.6927298, 5.959799e-05),\n",
              " (0.6929777, 5.633437e-06),\n",
              " (0.6926596, 1.1250239e-05),\n",
              " (0.69205576, 3.6079284e-05),\n",
              " (0.6903935, 0.00023009774),\n",
              " (0.6894937, 0.00033303566),\n",
              " (0.68171495, 0.0016824896),\n",
              " (0.6777128, 0.0025792145),\n",
              " (0.6768548, 0.002960642),\n",
              " (0.6727418, 0.0038168796),\n",
              " (0.66326654, 0.0065445313),\n",
              " (0.6642511, 0.0053688493),\n",
              " (0.64935666, 0.014519419),\n",
              " (0.6624683, 0.005689453),\n",
              " (0.65736246, 0.009880883),\n",
              " (0.6602642, 0.006912502),\n",
              " (0.6406902, 0.011487922),\n",
              " (0.6423857, 0.011287411),\n",
              " (0.63698506, 0.011556741),\n",
              " (0.63366556, 0.012838392),\n",
              " (0.6304136, 0.014217807),\n",
              " (0.6353993, 0.015840288),\n",
              " (0.6327006, 0.0135739865),\n",
              " (0.63461095, 0.014120666),\n",
              " (0.6286303, 0.013716375),\n",
              " (0.61863965, 0.016274827),\n",
              " (0.63947713, 0.012278296),\n",
              " (0.61893433, 0.017042989),\n",
              " (0.6388243, 0.011428304),\n",
              " (0.6398615, 0.013030351),\n",
              " (0.6234962, 0.0161256),\n",
              " (0.61898875, 0.01270823),\n",
              " (0.6305427, 0.015641665),\n",
              " (0.6122336, 0.015595101),\n",
              " (0.6118763, 0.018686926),\n",
              " (0.62245077, 0.012835829),\n",
              " (0.61511284, 0.013487355),\n",
              " (0.6133172, 0.017351402),\n",
              " (0.61930287, 0.015175401),\n",
              " (0.6389948, 0.013287959),\n",
              " (0.6400223, 0.010903261),\n",
              " (0.6333593, 0.010733152),\n",
              " (0.633783, 0.011264679),\n",
              " (0.63468814, 0.015281182),\n",
              " (0.6205723, 0.017331922),\n",
              " (0.624395, 0.014700636),\n",
              " (0.6336785, 0.01245429),\n",
              " (0.6311149, 0.01111297),\n",
              " (0.63310796, 0.012033203),\n",
              " (0.63084924, 0.011540649),\n",
              " (0.61924875, 0.019401511),\n",
              " (0.6160602, 0.013638565),\n",
              " (0.6240811, 0.016673017),\n",
              " (0.63007295, 0.012573123),\n",
              " (0.6186544, 0.012793517),\n",
              " (0.61614996, 0.016673237),\n",
              " (0.62303865, 0.012339866),\n",
              " (0.6288976, 0.012392607),\n",
              " (0.6364805, 0.012666984),\n",
              " (0.6346009, 0.010837835),\n",
              " (0.6280166, 0.013705945),\n",
              " (0.63321245, 0.009968459),\n",
              " (0.6224658, 0.014774826),\n",
              " (0.62775046, 0.012351211),\n",
              " (0.6327561, 0.011481583),\n",
              " (0.6306762, 0.010410457),\n",
              " (0.6186439, 0.013194428),\n",
              " (0.61399317, 0.014943209),\n",
              " (0.61427146, 0.012906862),\n",
              " (0.61767966, 0.015508455),\n",
              " (0.62782186, 0.0128714265),\n",
              " (0.62892675, 0.010729065),\n",
              " (0.63645893, 0.009627157),\n",
              " (0.6339566, 0.01210094),\n",
              " (0.6234599, 0.013088113),\n",
              " (0.6186276, 0.014187899),\n",
              " (0.61229324, 0.016317487),\n",
              " (0.6193438, 0.01507152),\n",
              " (0.6157631, 0.0158995),\n",
              " (0.61741436, 0.01455419),\n",
              " (0.62532157, 0.013038363),\n",
              " (0.62287337, 0.012636644),\n",
              " (0.62183243, 0.011497838),\n",
              " (0.6359292, 0.010019805),\n",
              " (0.62315655, 0.012464011)]"
            ]
          },
          "metadata": {
            "tags": []
          },
          "execution_count": 157
        }
      ]
    },
    {
      "cell_type": "code",
      "metadata": {
        "id": "cpZ6pPUwSr2X",
        "colab_type": "code",
        "colab": {}
      },
      "source": [
        ""
      ],
      "execution_count": 0,
      "outputs": []
    }
  ]
}