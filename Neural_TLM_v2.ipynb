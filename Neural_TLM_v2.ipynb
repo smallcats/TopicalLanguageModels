{
  "nbformat": 4,
  "nbformat_minor": 0,
  "metadata": {
    "colab": {
      "name": "Neural_TLM_v2.ipynb",
      "provenance": [],
      "collapsed_sections": [],
      "include_colab_link": true
    },
    "kernelspec": {
      "name": "python3",
      "display_name": "Python 3"
    }
  },
  "cells": [
    {
      "cell_type": "markdown",
      "metadata": {
        "id": "view-in-github",
        "colab_type": "text"
      },
      "source": [
        "<a href=\"https://colab.research.google.com/github/smallcats/TopicalLanguageModels/blob/master/Neural_TLM_v2.ipynb\" target=\"_parent\"><img src=\"https://colab.research.google.com/assets/colab-badge.svg\" alt=\"Open In Colab\"/></a>"
      ]
    },
    {
      "cell_type": "code",
      "metadata": {
        "id": "nTWYvbXC68CH",
        "colab_type": "code",
        "colab": {}
      },
      "source": [
        "%tensorflow_version 2.x\n",
        "\n",
        "import numpy as np\n",
        "import pandas as pd\n",
        "import warnings\n",
        "\n",
        "import nltk\n",
        "from nltk.corpus import stopwords\n",
        "import re\n",
        "\n",
        "from tensorflow.keras.layers import Input, Embedding, LSTM, Dense, Flatten, Lambda, Concatenate, Reshape, Dot, TimeDistributed\n",
        "from tensorflow.keras.models import Model\n",
        "import tensorflow.keras.backend as K\n",
        "from tensorflow.keras.callbacks import Callback\n",
        "\n",
        "from gensim.models import Word2Vec\n",
        "\n",
        "from matplotlib import pyplot as plt"
      ],
      "execution_count": 0,
      "outputs": []
    },
    {
      "cell_type": "code",
      "metadata": {
        "id": "WP5TY8t97Gk1",
        "colab_type": "code",
        "outputId": "6742917d-b32c-48e1-d914-517bb1c5be41",
        "colab": {
          "base_uri": "https://localhost:8080/",
          "height": 121
        }
      },
      "source": [
        "nltk.download('gutenberg')\n",
        "nltk.download('punkt')\n",
        "nltk.download('stopwords')\n",
        "\n",
        "stopwords = stopwords.words('english')"
      ],
      "execution_count": 58,
      "outputs": [
        {
          "output_type": "stream",
          "text": [
            "[nltk_data] Downloading package gutenberg to /root/nltk_data...\n",
            "[nltk_data]   Package gutenberg is already up-to-date!\n",
            "[nltk_data] Downloading package punkt to /root/nltk_data...\n",
            "[nltk_data]   Package punkt is already up-to-date!\n",
            "[nltk_data] Downloading package stopwords to /root/nltk_data...\n",
            "[nltk_data]   Package stopwords is already up-to-date!\n"
          ],
          "name": "stdout"
        }
      ]
    },
    {
      "cell_type": "code",
      "metadata": {
        "id": "d4z-eaM57HjV",
        "colab_type": "code",
        "outputId": "62a4bece-8390-4377-a55b-500a9f51e37f",
        "colab": {
          "base_uri": "https://localhost:8080/",
          "height": 329
        }
      },
      "source": [
        "nltk.corpus.gutenberg.fileids()"
      ],
      "execution_count": 59,
      "outputs": [
        {
          "output_type": "execute_result",
          "data": {
            "text/plain": [
              "['austen-emma.txt',\n",
              " 'austen-persuasion.txt',\n",
              " 'austen-sense.txt',\n",
              " 'bible-kjv.txt',\n",
              " 'blake-poems.txt',\n",
              " 'bryant-stories.txt',\n",
              " 'burgess-busterbrown.txt',\n",
              " 'carroll-alice.txt',\n",
              " 'chesterton-ball.txt',\n",
              " 'chesterton-brown.txt',\n",
              " 'chesterton-thursday.txt',\n",
              " 'edgeworth-parents.txt',\n",
              " 'melville-moby_dick.txt',\n",
              " 'milton-paradise.txt',\n",
              " 'shakespeare-caesar.txt',\n",
              " 'shakespeare-hamlet.txt',\n",
              " 'shakespeare-macbeth.txt',\n",
              " 'whitman-leaves.txt']"
            ]
          },
          "metadata": {
            "tags": []
          },
          "execution_count": 59
        }
      ]
    },
    {
      "cell_type": "code",
      "metadata": {
        "id": "sq8Cw9Ct7MyJ",
        "colab_type": "code",
        "outputId": "b58622f0-e259-4195-ffd7-d2cac901da41",
        "colab": {
          "base_uri": "https://localhost:8080/",
          "height": 35
        }
      },
      "source": [
        "thurs = nltk.corpus.gutenberg.raw('chesterton-thursday.txt')\n",
        "leaves = nltk.corpus.gutenberg.raw('whitman-leaves.txt')\n",
        "len(thurs), len(leaves)"
      ],
      "execution_count": 60,
      "outputs": [
        {
          "output_type": "execute_result",
          "data": {
            "text/plain": [
              "(320525, 711215)"
            ]
          },
          "metadata": {
            "tags": []
          },
          "execution_count": 60
        }
      ]
    },
    {
      "cell_type": "code",
      "metadata": {
        "id": "RRgEYnfL8BYe",
        "colab_type": "code",
        "outputId": "b395a679-3043-433a-91f6-fe18dde49ce2",
        "colab": {
          "base_uri": "https://localhost:8080/",
          "height": 35
        }
      },
      "source": [
        "thurs = thurs.split('\\n\\n')\n",
        "leaves = leaves.split('\\n\\n')\n",
        "len(thurs), len(leaves)"
      ],
      "execution_count": 61,
      "outputs": [
        {
          "output_type": "execute_result",
          "data": {
            "text/plain": [
              "(1304, 2867)"
            ]
          },
          "metadata": {
            "tags": []
          },
          "execution_count": 61
        }
      ]
    },
    {
      "cell_type": "code",
      "metadata": {
        "id": "aTUUBp5F8JRe",
        "colab_type": "code",
        "outputId": "11217328-1426-4744-e8de-64b3e9072d3e",
        "colab": {
          "base_uri": "https://localhost:8080/",
          "height": 265
        }
      },
      "source": [
        "plt.hist([len(d) for d in thurs], bins=np.linspace(0,1000,20), histtype='step')\n",
        "plt.hist([len(d) for d in leaves], bins=np.linspace(0,1000,20), histtype='step')\n",
        "plt.show()"
      ],
      "execution_count": 62,
      "outputs": [
        {
          "output_type": "display_data",
          "data": {
            "image/png": "[encoded data removed]",
            "text/plain": [
              "<Figure size 432x288 with 1 Axes>"
            ]
          },
          "metadata": {
            "tags": []
          }
        }
      ]
    },
    {
      "cell_type": "code",
      "metadata": {
        "id": "OHMfhNO48MBV",
        "colab_type": "code",
        "outputId": "fa8bccc8-d66c-4475-b7fe-5dd36ffbce0f",
        "colab": {
          "base_uri": "https://localhost:8080/",
          "height": 265
        }
      },
      "source": [
        "plt.hist([len(d) for d in thurs if len(d)<200], bins=np.linspace(0,200,20), histtype='step')\n",
        "plt.hist([len(d) for d in leaves if len(d)<200], bins=np.linspace(0,200,20), histtype='step')\n",
        "plt.show()"
      ],
      "execution_count": 63,
      "outputs": [
        {
          "output_type": "display_data",
          "data": {
            "image/png": "[encoded data removed]",
            "text/plain": [
              "<Figure size 432x288 with 1 Axes>"
            ]
          },
          "metadata": {
            "tags": []
          }
        }
      ]
    },
    {
      "cell_type": "code",
      "metadata": {
        "id": "2te1F_gZ8QDo",
        "colab_type": "code",
        "outputId": "9b652b5e-2086-4aee-dfbb-d6bdf5690d72",
        "colab": {
          "base_uri": "https://localhost:8080/",
          "height": 35
        }
      },
      "source": [
        "len([d for d in thurs if len(d)>50]), len([d for d in leaves if len(d)>50])"
      ],
      "execution_count": 64,
      "outputs": [
        {
          "output_type": "execute_result",
          "data": {
            "text/plain": [
              "(1084, 2054)"
            ]
          },
          "metadata": {
            "tags": []
          },
          "execution_count": 64
        }
      ]
    },
    {
      "cell_type": "code",
      "metadata": {
        "id": "MsWKSbWc8TvV",
        "colab_type": "code",
        "colab": {}
      },
      "source": [
        "texts = [d for d in thurs if len(d)>50]+[d for d in leaves if len(d)>50]"
      ],
      "execution_count": 0,
      "outputs": []
    },
    {
      "cell_type": "code",
      "metadata": {
        "id": "RTaaGkuo8rIZ",
        "colab_type": "code",
        "colab": {}
      },
      "source": [
        "texts = [' '.join(d.split()) for d in texts]\n",
        "texts = [d for d in texts if len(d)>50]"
      ],
      "execution_count": 0,
      "outputs": []
    },
    {
      "cell_type": "code",
      "metadata": {
        "id": "5mrLnAlr8yPL",
        "colab_type": "code",
        "outputId": "86d90386-20af-4870-f428-6e1b3658196e",
        "colab": {
          "base_uri": "https://localhost:8080/",
          "height": 55
        }
      },
      "source": [
        "texts[10]"
      ],
      "execution_count": 67,
      "outputs": [
        {
          "output_type": "execute_result",
          "data": {
            "text/plain": [
              "\"The man with the meek blue eyes and the pale, pointed beard endured these thunders with a certain submissive solemnity. The third party of the group, Gregory's sister Rosamond, who had her brother's braids of red hair, but a kindlier face underneath them, laughed with such mixture of admiration and disapproval as she gave commonly to the family oracle.\""
            ]
          },
          "metadata": {
            "tags": []
          },
          "execution_count": 67
        }
      ]
    },
    {
      "cell_type": "code",
      "metadata": {
        "id": "r-TfLP3P84cQ",
        "colab_type": "code",
        "colab": {}
      },
      "source": [
        "sents = '\\n'.join(texts)\n",
        "sents = nltk.tokenize.sent_tokenize(sents)"
      ],
      "execution_count": 0,
      "outputs": []
    },
    {
      "cell_type": "code",
      "metadata": {
        "id": "4dMNjtnq85HH",
        "colab_type": "code",
        "colab": {}
      },
      "source": [
        "def doc2words(doc):\n",
        "  words = nltk.tokenize.word_tokenize(doc)\n",
        "  words = [w.lower() for w in words if w.isalpha()]\n",
        "  words = [w for w in words if (len(w)>1) and (w not in stopwords)]\n",
        "  return words"
      ],
      "execution_count": 0,
      "outputs": []
    },
    {
      "cell_type": "code",
      "metadata": {
        "id": "DXikDLMM87wU",
        "colab_type": "code",
        "colab": {}
      },
      "source": [
        "sents = [doc2words(s) for s in sents]\n",
        "sents = [s for s in sents if len(s)>0]"
      ],
      "execution_count": 0,
      "outputs": []
    },
    {
      "cell_type": "code",
      "metadata": {
        "id": "MCN8LPVL8_eP",
        "colab_type": "code",
        "colab": {}
      },
      "source": [
        "emb = Word2Vec(sents)"
      ],
      "execution_count": 0,
      "outputs": []
    },
    {
      "cell_type": "code",
      "metadata": {
        "id": "9aMbaP199B5e",
        "colab_type": "code",
        "outputId": "71815e3e-8d1e-40b4-ca8e-17af0895ed11",
        "colab": {
          "base_uri": "https://localhost:8080/",
          "height": 245
        }
      },
      "source": [
        "emb.wv.similar_by_word('door')"
      ],
      "execution_count": 72,
      "outputs": [
        {
          "output_type": "stream",
          "text": [
            "/usr/local/lib/python3.6/dist-packages/gensim/matutils.py:737: FutureWarning: Conversion of the second argument of issubdtype from `int` to `np.signedinteger` is deprecated. In future, it will be treated as `np.int64 == np.dtype(int).type`.\n",
            "  if np.issubdtype(vec.dtype, np.int):\n"
          ],
          "name": "stderr"
        },
        {
          "output_type": "execute_result",
          "data": {
            "text/plain": [
              "[('time', 0.9998369216918945),\n",
              " ('also', 0.9998355507850647),\n",
              " ('back', 0.9998297691345215),\n",
              " ('would', 0.9998278617858887),\n",
              " ('heart', 0.999823272228241),\n",
              " ('great', 0.9998228549957275),\n",
              " ('stand', 0.99982088804245),\n",
              " ('without', 0.9998207092285156),\n",
              " ('blood', 0.999820351600647),\n",
              " ('strong', 0.999820351600647)]"
            ]
          },
          "metadata": {
            "tags": []
          },
          "execution_count": 72
        }
      ]
    },
    {
      "cell_type": "code",
      "metadata": {
        "id": "jqI-Ylrx9GId",
        "colab_type": "code",
        "colab": {}
      },
      "source": [
        "we = {w:emb.wv.get_vector(w) for w in emb.wv.vocab}\n",
        "vec_size = emb.vector_size"
      ],
      "execution_count": 0,
      "outputs": []
    },
    {
      "cell_type": "code",
      "metadata": {
        "id": "qJjpboC_9JI6",
        "colab_type": "code",
        "colab": {}
      },
      "source": [
        "def multiples(it, n):\n",
        "  for k in range(len(it)-n+1):\n",
        "    yield it[k:k+n]\n",
        "\n",
        "class TLMDataGen:\n",
        "  def __init__(self, documents, word_embedding, doc2words, lm_length, token2idx, vector_size,\n",
        "               valid_num=None, valid_frac=None, batch_size=20, valid_batch_size=100):\n",
        "    if valid_num is None and valid_frac is None:\n",
        "      if len(documents) < 1000:\n",
        "        valid_num = int(0.1*len(documents))\n",
        "      else:\n",
        "        valid_num = 100\n",
        "    elif valid_num is None:\n",
        "      valid_num = int(valid_frac*len(documents))\n",
        "\n",
        "    perm = np.random.permutation(len(documents))\n",
        "    self.train_idxs = perm[:valid_num]\n",
        "    self.valid_idxs = perm[valid_num:]\n",
        "\n",
        "    rep = {'<':'*', '>':'*'}\n",
        "    rep = {re.escape(k):v for k,v in rep.items()}\n",
        "    pattern = re.compile('|'.join(rep.keys()))\n",
        "\n",
        "    self.documents = ['<'*lm_length+pattern.sub(lambda m: rep[re.escape(m.group(0))], d)+'>' for d in documents]\n",
        "    self.batch_size = batch_size\n",
        "    self.valid_batch_size = valid_batch_size\n",
        "    self.word_embedding = word_embedding\n",
        "    self.doc2words = doc2words\n",
        "    self.lm_length = lm_length\n",
        "    self.token2idx = token2idx\n",
        "    self.vector_size = vector_size\n",
        "\n",
        "  def get_train_batch(self):\n",
        "    doc_idxs = np.random.choice(self.train_idxs, size=self.batch_size)\n",
        "    docs = [self.documents[k] for k in doc_idxs]\n",
        "    finish_idxs = [np.random.randint(self.lm_length+1, len(d)) for d in docs]\n",
        "    \n",
        "    x_topic = [np.array([self.word_embedding[w] for w in self.doc2words(d) if w in self.word_embedding]) for d in docs]\n",
        "    x_topic = [d if d.shape != (0,) else np.zeros((1, self.vector_size)) for d in x_topic]\n",
        "    x_topic = [d.mean(axis=0) for d in x_topic]\n",
        "    x_topic = np.array(x_topic)\n",
        "\n",
        "    lm_docs = [d[i-self.lm_length-1:i] for i, d in zip(finish_idxs, docs)]\n",
        "    lm_docs = np.array([[self.token2idx.get(t,2) for t in d] for d in lm_docs])\n",
        "\n",
        "    return [x_topic, lm_docs[:,:-1]], lm_docs[:,1:]\n",
        "\n",
        "  def get_valid_batch(self):\n",
        "    doc_idxs = np.random.choice(self.valid_idxs, size=self.valid_batch_size)\n",
        "    docs = [self.documents[k] for k in doc_idxs]\n",
        "    finish_idxs = [np.random.randint(self.lm_length+1, len(d)) for d in docs]\n",
        "    \n",
        "    x_topic = [np.array([self.word_embedding[w] for w in self.doc2words(d) if w in self.word_embedding]) for d in docs]\n",
        "    x_topic = [d if d.shape != (0,) else np.zeros((1, self.vector_size)) for d in x_topic]\n",
        "    x_topic = [d.mean(axis=0) for d in x_topic]\n",
        "    x_topic = np.array(x_topic)\n",
        "\n",
        "    lm_docs = [d[i-self.lm_length-1:i] for i, d in zip(finish_idxs, docs)]\n",
        "    lm_docs = np.array([[self.token2idx.get(t,2) for t in d] for d in lm_docs])\n",
        "\n",
        "    return [x_topic, lm_docs[:,:-1]], lm_docs[:,1:]\n",
        "\n",
        "\n",
        "class TopicalLanguageModel:\n",
        "  \"\"\"\n",
        "  Neural Topical Language Model.\n",
        "\n",
        "  attributes:\n",
        "  num_topics :: int : number of topics\n",
        "  doc2words :: function : takes a document as a string and returns words\n",
        "  word_embedding :: dict : keys are words, values are vectors\n",
        "  vector_size :: int : the dimension of embedding vectors\n",
        "  lm_length :: int : length of tokens taken into account for character-level language models \n",
        "  \"\"\"\n",
        "  def __init__(self, num_topics, word_embedding, vector_size, doc2words, lm_length=30, tokens='abcdefghijklmnopqrstuvwxyz '):\n",
        "    self.num_topics = num_topics\n",
        "    self.doc2words = doc2words\n",
        "    self.word_embedding = word_embedding\n",
        "    self.vector_size = vector_size\n",
        "    self.lm_length = lm_length\n",
        "\n",
        "    self.tokens = ['<', '>', '*'] + list(tokens)\n",
        "    token_idx = [(t, k+3) for k,t in enumerate(list(tokens))]+[('<',0),('>',1),('*',2)]\n",
        "    self.token2idx = {t:k for t,k in token_idx}\n",
        "    self.idx2token = {k:t for t,k in token_idx}\n",
        "\n",
        "    self.num_tokens = len(tokens)+3\n",
        "\n",
        "  def fit(self, documents, batch_size=20, epochs=10, verbose=0, examples_per_epoch=5, example_epoch_skip=1, num_validation_samples=5):\n",
        "    \"\"\"\n",
        "    fit(self, documents)\n",
        "\n",
        "    documents should be a list of sentences, and a sentence a list of words.\n",
        "    \"\"\"\n",
        "    x_topic = Input(shape=(self.vector_size,))\n",
        "    h_topic = Dense(self.vector_size, activation='relu')(x_topic)\n",
        "    out_topic = Dense(self.num_topics, activation='softmax')(h_topic)\n",
        "    self.topic_model = Model(inputs=[x_topic], outputs=out_topic)\n",
        "    \n",
        "    self.language_models = []\n",
        "    for k in range(self.num_topics):\n",
        "      x_lm = Input(shape=(self.lm_length,), dtype='int32')\n",
        "      h_lm = Embedding(input_dim=self.num_tokens, output_dim=self.num_tokens//2, input_length=self.lm_length)(x_lm)\n",
        "      h_lm = LSTM(self.num_tokens, return_sequences=True)(h_lm)\n",
        "      h_lm = LSTM(self.num_tokens, return_sequences=True)(h_lm)\n",
        "      out_lm = TimeDistributed(Dense(self.num_tokens, activation='softmax'))(h_lm)\n",
        "      lm = Model(inputs=[x_lm], outputs=out_lm)\n",
        "      self.language_models.append(lm)\n",
        "\n",
        "    train_topic_input = Input(shape=(self.vector_size,))\n",
        "    train_lm_input = Input(shape=(self.lm_length,), dtype='int32')\n",
        "\n",
        "    lm_outputs = [Reshape(target_shape=(self.lm_length, self.num_tokens, 1))(lm(train_lm_input)) for lm in self.language_models]\n",
        "    lm_outputs = Concatenate(axis=3)(lm_outputs)\n",
        "    topic_mix = self.topic_model(train_topic_input)\n",
        "\n",
        "    out = Dot(axes=(3, 1), name='mixed_out')([lm_outputs, topic_mix])\n",
        "\n",
        "    self.train_model = Model(inputs=[train_topic_input, train_lm_input], outputs=[out, topic_mix])\n",
        "\n",
        "    def mix_loss(y_true, y_pred):\n",
        "      eps = 1e-10\n",
        "      mean = K.mean(y_pred, axis=0)\n",
        "\n",
        "      mean_nentropy = K.mean(K.sum(y_pred*K.log(y_pred+eps), axis=1))\n",
        "      nentropy_mean = K.sum(mean*K.log(mean+eps))\n",
        "      return nentropy_mean - mean_nentropy\n",
        "      \n",
        "\n",
        "    self.train_model.compile('adam', ['sparse_categorical_crossentropy', mix_loss])\n",
        "\n",
        "    data_generator = TLMDataGen(documents, word_embedding=self.word_embedding, \n",
        "                                doc2words=self.doc2words, \n",
        "                                lm_length=self.lm_length, \n",
        "                                token2idx=self.token2idx,\n",
        "                                vector_size=self.vector_size,\n",
        "                                batch_size = batch_size)\n",
        "\n",
        "    steps_per_epoch = len(documents)//batch_size\n",
        "    self.logs = {'examples':[], 'val_loss':[], 'topic_fraction':[], 'topic_entropy':[]}\n",
        "    for epoch in range(epochs+1):\n",
        "\n",
        "      #examples\n",
        "      if epoch%example_epoch_skip == 0:\n",
        "        if verbose>1:\n",
        "          print('Getting examples')\n",
        "        for t in range(self.num_topics):\n",
        "          for k in range(examples_per_epoch):\n",
        "            self.logs['examples'].append((self.rollout('', topic=t, maxlen=100), t, epoch))\n",
        "\n",
        "      #validation loss\n",
        "      if verbose>1:\n",
        "        print('Running validation loss')\n",
        "      xs, y = data_generator.get_valid_batch()\n",
        "      losses = [self.train_model.test_on_batch(xs, [y, np.zeros((y.shape[0], self.num_topics))]) for k in range(num_validation_samples)]\n",
        "      self.logs['val_loss'].append(losses)\n",
        "\n",
        "      #topics\n",
        "      if verbose>1:\n",
        "        print('Getting topic distributions')\n",
        "      xs, y = data_generator.get_valid_batch()\n",
        "      x = xs[0]\n",
        "      topics = self.topic_model.predict(x)\n",
        "      entropies = (-topics*np.log(topics)).sum(axis=1)\n",
        "      mean_entropy = entropies.mean(axis=0)\n",
        "      std_entropy = entropies.std(axis=0)\n",
        "      mean_topics = topics.mean(axis=0)\n",
        "      self.logs['topic_fraction'].append(mean_topics)\n",
        "      self.logs['topic_entropy'].append((mean_entropy, std_entropy))\n",
        "\n",
        "      if epoch<epochs:\n",
        "        #train\n",
        "        if verbose>1:\n",
        "          print('Training')\n",
        "        avg_loss = 0\n",
        "        for step in range(steps_per_epoch):\n",
        "          xs, y = data_generator.get_train_batch()\n",
        "          avg_loss = (step/(step+1))*avg_loss + self.train_model.train_on_batch(xs, [y, np.zeros((y.shape[0], self.num_topics))])[0]/(step+1)\n",
        "        #print\n",
        "        if verbose > 0:\n",
        "          if epoch%example_epoch_skip == 0:\n",
        "            print('Epoch {0} - Avg train loss: {1:1.5f} - Sample: {2}'.format(epoch, avg_loss, self.logs['examples'][-1][0][:self.lm_length]))\n",
        "          else:\n",
        "            print('Epoch {0} - Avg train loss: {1}'.format(epoch, avg_loss))\n",
        "      \n",
        "  def predict(self, init_doc, topic, method='sample'):\n",
        "    idx_doc = [self.token2idx.get(c,2) for c in init_doc]\n",
        "    dlen = len(idx_doc)\n",
        "    if dlen < self.lm_length:\n",
        "      idx_doc = [0]*(self.lm_length-dlen)+idx_doc\n",
        "    elif dlen > self.lm_length:\n",
        "      idx_doc = idx_doc[-self.lm_length:]\n",
        "\n",
        "    probs = self.language_models[topic].predict(np.array(idx_doc).reshape((1,-1)))[0,-1,:]\n",
        "\n",
        "    if method == 'sample':\n",
        "      return np.random.choice(self.tokens, p=probs)\n",
        "\n",
        "    elif method == 'max':\n",
        "      return self.tokens[np.argmax(probs)]\n",
        "\n",
        "    elif method == 'distribution':\n",
        "      return probs\n",
        "\n",
        "    else:\n",
        "      raise ValueError('Unknown method.')\n",
        "\n",
        "  def rollout(self, init_doc, topic, method='monte-carlo', maxlen=100):\n",
        "    pred_method = 'sample' if method=='monte-carlo' else 'max' if method=='greedy' else ''\n",
        "    \n",
        "    for k in range(maxlen-len(init_doc)):\n",
        "      predicted = self.predict(init_doc, topic, pred_method)\n",
        "      if predicted == '>': break\n",
        "      init_doc = init_doc + predicted\n",
        "\n",
        "    return init_doc\n",
        "\n",
        "  def get_topics(self, doc):\n",
        "    words = self.doc2words(doc)\n",
        "    embedding = np.array([self.word_embedding[w] for w in words if w in self.word_embedding]).mean(axis=0)\n",
        "    return self.topic_model.predict(embedding.reshape((-1,1)))[0]"
      ],
      "execution_count": 0,
      "outputs": []
    },
    {
      "cell_type": "code",
      "metadata": {
        "id": "Qp_HNWNg9fFF",
        "colab_type": "code",
        "colab": {}
      },
      "source": [
        "K.clear_session()\n",
        "tlm = TopicalLanguageModel(num_topics=2, word_embedding=we, vector_size=vec_size, doc2words=doc2words, lm_length=40)"
      ],
      "execution_count": 0,
      "outputs": []
    },
    {
      "cell_type": "code",
      "metadata": {
        "colab_type": "code",
        "outputId": "af0a6c75-0f32-4fdc-d976-b1717082889c",
        "id": "077DbzPFZlkS",
        "colab": {
          "base_uri": "https://localhost:8080/",
          "height": 1000
        }
      },
      "source": [
        "tlm.fit(texts, epochs=300, verbose=1, example_epoch_skip=1, examples_per_epoch=1)"
      ],
      "execution_count": 0,
      "outputs": [
        {
          "output_type": "stream",
          "text": [
            "Epoch 0 - Avg train loss: 2.85581 - Sample: ah<tepbk*zxthv<zvws*v\n",
            "Epoch 1 - Avg train loss: 2.53673 - Sample: <<<<<<<<<<<<<<<t<s<<a l da dhntoidtxri*i\n",
            "Epoch 2 - Avg train loss: 2.27183 - Sample: <<<<<<<<<<<<<<<< amvoesd  hsnrnibmt lcne\n",
            "Epoch 3 - Avg train loss: 2.02786 - Sample: <<<<<<<<<<*<ool rteae er rt neirroen yxt\n",
            "Epoch 4 - Avg train loss: 1.86551 - Sample: <<<<<<< ***o t th e teona\n",
            "Epoch 5 - Avg train loss: 1.72728 - Sample: <<<<  * e* *oosecrt *** keitlieraf rhe r\n",
            "Epoch 6 - Avg train loss: 1.67013 - Sample: <<<<<<<<<<<<<<<<<<<<<<<<<<<<<<<<<<<** s \n",
            "Epoch 7 - Avg train loss: 1.61294 - Sample: <<<<<<<<<<<<<* *y *rreas *kr* mhodoy iyn\n",
            "Epoch 8 - Avg train loss: 1.56757 - Sample: <<<<<<<<<<<<<<<<<<<<<<<<<<<<**etor byod \n",
            "Epoch 9 - Avg train loss: 1.52403 - Sample: <<<<<<<<<<<<<<<<<<<<<<** rad hl reiins* \n",
            "Epoch 10 - Avg train loss: 1.49257 - Sample: <<<<<<<<<<*oalut tot ot *ewanpite fhr ar\n",
            "Epoch 11 - Avg train loss: 1.48419 - Sample: <<< es meld noe to sared* *he ceneundf w\n",
            "Epoch 12 - Avg train loss: 1.44854 - Sample: <<<<<<<<<<<<<<<<*se yalne naf * jrithhat\n",
            "Epoch 13 - Avg train loss: 1.43150 - Sample: <<* *es nneser* do oagdelk seyure** fete\n",
            "Epoch 14 - Avg train loss: 1.41696 - Sample: <<<*or the hore* bonle* bo okd atokd in \n",
            "Epoch 15 - Avg train loss: 1.38648 - Sample: *fimh thed* ** sdere* neurs *ot soed * t\n",
            "Epoch 16 - Avg train loss: 1.36845 - Sample: <<<<* whanou rant* *hemy *ressiws nermon\n",
            "Epoch 17 - Avg train loss: 1.35535 - Sample: <* *f axio the ned peett* sifor* nathes \n",
            "Epoch 18 - Avg train loss: 1.34249 - Sample: *eaddtains* the vord photite ows heyisec\n",
            "Epoch 19 - Avg train loss: 1.32235 - Sample: <<<<<<<<<<<<<<<<<<<<<<hoid od tawkantoar\n",
            "Epoch 20 - Avg train loss: 1.33758 - Sample: <<<<<<<** arl dyol thoren** *hends thre \n",
            "Epoch 21 - Avg train loss: 1.31011 - Sample: <<<<<<<*oage tho thye ou the sinc clye h\n",
            "Epoch 22 - Avg train loss: 1.30016 - Sample: <*eave of nid the seacinkrat setled ifwe\n",
            "Epoch 23 - Avg train loss: 1.28053 - Sample: <<<<<<<<<<<<<* abe yue kyat bet on thle \n",
            "Epoch 24 - Avg train loss: 1.28161 - Sample: * * ** femar to th on theveu* *he wrasin\n"
          ],
          "name": "stdout"
        },
        {
          "output_type": "stream",
          "text": [
            "/usr/local/lib/python3.6/dist-packages/ipykernel_launcher.py:164: RuntimeWarning: divide by zero encountered in log\n",
            "/usr/local/lib/python3.6/dist-packages/ipykernel_launcher.py:164: RuntimeWarning: invalid value encountered in multiply\n"
          ],
          "name": "stderr"
        },
        {
          "output_type": "stream",
          "text": [
            "Epoch 25 - Avg train loss: 1.27773 - Sample: <<<*yud tteneverdle a oale* somen** *irn\n"
          ],
          "name": "stdout"
        },
        {
          "output_type": "stream",
          "text": [
            "/usr/local/lib/python3.6/dist-packages/ipykernel_launcher.py:164: RuntimeWarning: divide by zero encountered in log\n",
            "/usr/local/lib/python3.6/dist-packages/ipykernel_launcher.py:164: RuntimeWarning: invalid value encountered in multiply\n"
          ],
          "name": "stderr"
        },
        {
          "output_type": "stream",
          "text": [
            "Epoch 26 - Avg train loss: 1.26475 - Sample: * undion in the to pavlen ig an hrufen* \n",
            "Epoch 27 - Avg train loss: 1.22684 - Sample: <<<<<<<<<<<<<<<* * anter ttee bef of cai\n",
            "Epoch 28 - Avg train loss: 1.21991 - Sample: <* yoy wiso to gveeor te mit the murgooe\n"
          ],
          "name": "stdout"
        },
        {
          "output_type": "stream",
          "text": [
            "/usr/local/lib/python3.6/dist-packages/ipykernel_launcher.py:164: RuntimeWarning: divide by zero encountered in log\n",
            "/usr/local/lib/python3.6/dist-packages/ipykernel_launcher.py:164: RuntimeWarning: invalid value encountered in multiply\n"
          ],
          "name": "stderr"
        },
        {
          "output_type": "stream",
          "text": [
            "Epoch 29 - Avg train loss: 1.21289 - Sample: <<** deame aneul* om thit thiis *himg hi\n",
            "Epoch 30 - Avg train loss: 1.21374 - Sample: *ot * the te marss sony oxre tores undy \n",
            "Epoch 31 - Avg train loss: 1.20756 - Sample: <<<<<<<<<<<*houre af hol at ong the vrak\n",
            "Epoch 32 - Avg train loss: 1.19746 - Sample: <<<<*<e detrs hononl* lawhid the beack o\n",
            "Epoch 33 - Avg train loss: 1.17861 - Sample: <<*hoe terteam* fhe tte worg thalls toe \n",
            "Epoch 34 - Avg train loss: 1.17689 - Sample: *<nf usrye full bo falldd besy sorrttel*\n",
            "Epoch 35 - Avg train loss: 1.17118 - Sample: <<* *ay sale malrs hud and scisssor tho \n"
          ],
          "name": "stdout"
        },
        {
          "output_type": "stream",
          "text": [
            "/usr/local/lib/python3.6/dist-packages/ipykernel_launcher.py:164: RuntimeWarning: divide by zero encountered in log\n",
            "/usr/local/lib/python3.6/dist-packages/ipykernel_launcher.py:164: RuntimeWarning: invalid value encountered in multiply\n"
          ],
          "name": "stderr"
        },
        {
          "output_type": "stream",
          "text": [
            "Epoch 36 - Avg train loss: 1.15716 - Sample: <<<<** cheaw for it *hivautt sibe fuct *\n"
          ],
          "name": "stdout"
        },
        {
          "output_type": "stream",
          "text": [
            "/usr/local/lib/python3.6/dist-packages/ipykernel_launcher.py:164: RuntimeWarning: divide by zero encountered in log\n",
            "/usr/local/lib/python3.6/dist-packages/ipykernel_launcher.py:164: RuntimeWarning: invalid value encountered in multiply\n"
          ],
          "name": "stderr"
        },
        {
          "output_type": "stream",
          "text": [
            "Epoch 37 - Avg train loss: 1.14312 - Sample: **ouce me hald* net sho lmole* *ters rof\n"
          ],
          "name": "stdout"
        },
        {
          "output_type": "stream",
          "text": [
            "/usr/local/lib/python3.6/dist-packages/ipykernel_launcher.py:164: RuntimeWarning: divide by zero encountered in log\n",
            "/usr/local/lib/python3.6/dist-packages/ipykernel_launcher.py:164: RuntimeWarning: invalid value encountered in multiply\n"
          ],
          "name": "stderr"
        },
        {
          "output_type": "stream",
          "text": [
            "Epoch 38 - Avg train loss: 1.15621 - Sample: <<<<<* deeay whe in moird wile who tern \n"
          ],
          "name": "stdout"
        },
        {
          "output_type": "stream",
          "text": [
            "/usr/local/lib/python3.6/dist-packages/ipykernel_launcher.py:164: RuntimeWarning: divide by zero encountered in log\n",
            "/usr/local/lib/python3.6/dist-packages/ipykernel_launcher.py:164: RuntimeWarning: invalid value encountered in multiply\n"
          ],
          "name": "stderr"
        },
        {
          "output_type": "stream",
          "text": [
            "Epoch 39 - Avg train loss: 1.14055 - Sample: <<<<<<* onn* * elle iy ceke than wiy it \n"
          ],
          "name": "stdout"
        },
        {
          "output_type": "stream",
          "text": [
            "/usr/local/lib/python3.6/dist-packages/ipykernel_launcher.py:164: RuntimeWarning: divide by zero encountered in log\n",
            "/usr/local/lib/python3.6/dist-packages/ipykernel_launcher.py:164: RuntimeWarning: invalid value encountered in multiply\n"
          ],
          "name": "stderr"
        },
        {
          "output_type": "stream",
          "text": [
            "Epoch 40 - Avg train loss: 1.14178 - Sample: <*sauve whaive if com therest heis and f\n",
            "Epoch 41 - Avg train loss: 1.13000 - Sample: <<<*fsroe artht u enlear at there* as nv\n",
            "Epoch 42 - Avg train loss: 1.11089 - Sample: <*t* the remy*o ame osm polne* *ey ance \n",
            "Epoch 43 - Avg train loss: 1.10807 - Sample: <<*ty tallurt* neshe of heans k rach spi\n"
          ],
          "name": "stdout"
        },
        {
          "output_type": "stream",
          "text": [
            "/usr/local/lib/python3.6/dist-packages/ipykernel_launcher.py:164: RuntimeWarning: divide by zero encountered in log\n",
            "/usr/local/lib/python3.6/dist-packages/ipykernel_launcher.py:164: RuntimeWarning: invalid value encountered in multiply\n"
          ],
          "name": "stderr"
        },
        {
          "output_type": "stream",
          "text": [
            "Epoch 44 - Avg train loss: 1.12001 - Sample: <<* *ert the flours* * haws woitinc* * *\n"
          ],
          "name": "stdout"
        },
        {
          "output_type": "stream",
          "text": [
            "/usr/local/lib/python3.6/dist-packages/ipykernel_launcher.py:164: RuntimeWarning: divide by zero encountered in log\n",
            "/usr/local/lib/python3.6/dist-packages/ipykernel_launcher.py:164: RuntimeWarning: invalid value encountered in multiply\n"
          ],
          "name": "stderr"
        },
        {
          "output_type": "stream",
          "text": [
            "Epoch 45 - Avg train loss: 1.10973 - Sample: <<<<<<<<<<<<<<<<<<<<<<* deam * * is the \n",
            "Epoch 46 - Avg train loss: 1.10104 - Sample: <<<<<<<<<<<<<<<<<<<<<<<<<<<<<<<<<<<<<<<<\n"
          ],
          "name": "stdout"
        },
        {
          "output_type": "stream",
          "text": [
            "/usr/local/lib/python3.6/dist-packages/ipykernel_launcher.py:164: RuntimeWarning: divide by zero encountered in log\n",
            "/usr/local/lib/python3.6/dist-packages/ipykernel_launcher.py:164: RuntimeWarning: invalid value encountered in multiply\n"
          ],
          "name": "stderr"
        },
        {
          "output_type": "stream",
          "text": [
            "Epoch 47 - Avg train loss: 1.07437 - Sample: * yongearolqgill the gorcs to sho cealn*\n",
            "Epoch 48 - Avg train loss: 1.05975 - Sample: * heat ace mre whor who meds ying ay the\n"
          ],
          "name": "stdout"
        },
        {
          "output_type": "stream",
          "text": [
            "/usr/local/lib/python3.6/dist-packages/ipykernel_launcher.py:164: RuntimeWarning: divide by zero encountered in log\n",
            "/usr/local/lib/python3.6/dist-packages/ipykernel_launcher.py:164: RuntimeWarning: invalid value encountered in multiply\n"
          ],
          "name": "stderr"
        },
        {
          "output_type": "stream",
          "text": [
            "Epoch 49 - Avg train loss: 1.05259 - Sample: *ow ou we *is il the of thing that tyite\n"
          ],
          "name": "stdout"
        },
        {
          "output_type": "stream",
          "text": [
            "/usr/local/lib/python3.6/dist-packages/ipykernel_launcher.py:164: RuntimeWarning: divide by zero encountered in log\n",
            "/usr/local/lib/python3.6/dist-packages/ipykernel_launcher.py:164: RuntimeWarning: invalid value encountered in multiply\n"
          ],
          "name": "stderr"
        },
        {
          "output_type": "stream",
          "text": [
            "Epoch 50 - Avg train loss: 1.06156 - Sample: <<<<<<<<<<<<<<<<<<<<<<<<<<<<<<<<<<<<<<<<\n"
          ],
          "name": "stdout"
        },
        {
          "output_type": "stream",
          "text": [
            "/usr/local/lib/python3.6/dist-packages/ipykernel_launcher.py:164: RuntimeWarning: divide by zero encountered in log\n",
            "/usr/local/lib/python3.6/dist-packages/ipykernel_launcher.py:164: RuntimeWarning: invalid value encountered in multiply\n"
          ],
          "name": "stderr"
        },
        {
          "output_type": "stream",
          "text": [
            "Epoch 51 - Avg train loss: 1.03654 - Sample: <<<<<<<<<<<<<* it * of the soas* *e antu\n"
          ],
          "name": "stdout"
        },
        {
          "output_type": "stream",
          "text": [
            "/usr/local/lib/python3.6/dist-packages/ipykernel_launcher.py:164: RuntimeWarning: divide by zero encountered in log\n",
            "/usr/local/lib/python3.6/dist-packages/ipykernel_launcher.py:164: RuntimeWarning: invalid value encountered in multiply\n"
          ],
          "name": "stderr"
        },
        {
          "output_type": "stream",
          "text": [
            "Epoch 52 - Avg train loss: 1.03553 - Sample: <<<<<<<<<<* *aan *eyhi syeresdenttstevan\n"
          ],
          "name": "stdout"
        },
        {
          "output_type": "stream",
          "text": [
            "/usr/local/lib/python3.6/dist-packages/ipykernel_launcher.py:164: RuntimeWarning: divide by zero encountered in log\n",
            "/usr/local/lib/python3.6/dist-packages/ipykernel_launcher.py:164: RuntimeWarning: invalid value encountered in multiply\n"
          ],
          "name": "stderr"
        },
        {
          "output_type": "stream",
          "text": [
            "Epoch 53 - Avg train loss: 1.05686 - Sample: * ying *rur wur snomeying of thito wsees\n"
          ],
          "name": "stdout"
        },
        {
          "output_type": "stream",
          "text": [
            "/usr/local/lib/python3.6/dist-packages/ipykernel_launcher.py:164: RuntimeWarning: divide by zero encountered in log\n",
            "/usr/local/lib/python3.6/dist-packages/ipykernel_launcher.py:164: RuntimeWarning: invalid value encountered in multiply\n"
          ],
          "name": "stderr"
        },
        {
          "output_type": "stream",
          "text": [
            "Epoch 54 - Avg train loss: 1.01073 - Sample: <<<<<<* dim* *ilon* ** * lofms lallssray\n",
            "Epoch 55 - Avg train loss: 1.01184 - Sample: <<* they hear hesring difhentr hasting w\n"
          ],
          "name": "stdout"
        },
        {
          "output_type": "stream",
          "text": [
            "/usr/local/lib/python3.6/dist-packages/ipykernel_launcher.py:164: RuntimeWarning: divide by zero encountered in log\n",
            "/usr/local/lib/python3.6/dist-packages/ipykernel_launcher.py:164: RuntimeWarning: invalid value encountered in multiply\n"
          ],
          "name": "stderr"
        },
        {
          "output_type": "stream",
          "text": [
            "Epoch 56 - Avg train loss: 0.99891 - Sample: * * * this know day in tillisn* yay me*m\n"
          ],
          "name": "stdout"
        },
        {
          "output_type": "stream",
          "text": [
            "/usr/local/lib/python3.6/dist-packages/ipykernel_launcher.py:164: RuntimeWarning: divide by zero encountered in log\n",
            "/usr/local/lib/python3.6/dist-packages/ipykernel_launcher.py:164: RuntimeWarning: invalid value encountered in multiply\n"
          ],
          "name": "stderr"
        },
        {
          "output_type": "stream",
          "text": [
            "Epoch 57 - Avg train loss: 1.02307 - Sample: <<<*eato the mufsdiqou adiyest kromest e\n"
          ],
          "name": "stdout"
        },
        {
          "output_type": "stream",
          "text": [
            "/usr/local/lib/python3.6/dist-packages/ipykernel_launcher.py:164: RuntimeWarning: divide by zero encountered in log\n",
            "/usr/local/lib/python3.6/dist-packages/ipykernel_launcher.py:164: RuntimeWarning: invalid value encountered in multiply\n"
          ],
          "name": "stderr"
        },
        {
          "output_type": "stream",
          "text": [
            "Epoch 58 - Avg train loss: 1.01888 - Sample: <<** *or thing mere fromsober cen farere\n"
          ],
          "name": "stdout"
        },
        {
          "output_type": "stream",
          "text": [
            "/usr/local/lib/python3.6/dist-packages/ipykernel_launcher.py:164: RuntimeWarning: divide by zero encountered in log\n",
            "/usr/local/lib/python3.6/dist-packages/ipykernel_launcher.py:164: RuntimeWarning: invalid value encountered in multiply\n"
          ],
          "name": "stderr"
        },
        {
          "output_type": "stream",
          "text": [
            "Epoch 59 - Avg train loss: 1.00580 - Sample: <<<<* am the herests yide ourters osous*\n"
          ],
          "name": "stdout"
        },
        {
          "output_type": "stream",
          "text": [
            "/usr/local/lib/python3.6/dist-packages/ipykernel_launcher.py:164: RuntimeWarning: divide by zero encountered in log\n",
            "/usr/local/lib/python3.6/dist-packages/ipykernel_launcher.py:164: RuntimeWarning: invalid value encountered in multiply\n"
          ],
          "name": "stderr"
        },
        {
          "output_type": "stream",
          "text": [
            "Epoch 60 - Avg train loss: 0.98690 - Sample: <<<<<<<<<<<<<<<<<<<<<<<*s * * to sheae o\n"
          ],
          "name": "stdout"
        },
        {
          "output_type": "stream",
          "text": [
            "/usr/local/lib/python3.6/dist-packages/ipykernel_launcher.py:164: RuntimeWarning: divide by zero encountered in log\n",
            "/usr/local/lib/python3.6/dist-packages/ipykernel_launcher.py:164: RuntimeWarning: invalid value encountered in multiply\n"
          ],
          "name": "stderr"
        },
        {
          "output_type": "stream",
          "text": [
            "Epoch 61 - Avg train loss: 0.99073 - Sample: <* ans on whe geaes aly a lime* say a we\n"
          ],
          "name": "stdout"
        },
        {
          "output_type": "stream",
          "text": [
            "/usr/local/lib/python3.6/dist-packages/ipykernel_launcher.py:164: RuntimeWarning: divide by zero encountered in log\n",
            "/usr/local/lib/python3.6/dist-packages/ipykernel_launcher.py:164: RuntimeWarning: invalid value encountered in multiply\n"
          ],
          "name": "stderr"
        },
        {
          "output_type": "stream",
          "text": [
            "Epoch 62 - Avg train loss: 0.97963 - Sample: <<<<<<<<<* hear thone and had and thouve\n"
          ],
          "name": "stdout"
        },
        {
          "output_type": "stream",
          "text": [
            "/usr/local/lib/python3.6/dist-packages/ipykernel_launcher.py:164: RuntimeWarning: divide by zero encountered in log\n",
            "/usr/local/lib/python3.6/dist-packages/ipykernel_launcher.py:164: RuntimeWarning: invalid value encountered in multiply\n"
          ],
          "name": "stderr"
        },
        {
          "output_type": "stream",
          "text": [
            "Epoch 63 - Avg train loss: 0.98409 - Sample: * the whee old fans* of the gass as the \n"
          ],
          "name": "stdout"
        },
        {
          "output_type": "stream",
          "text": [
            "/usr/local/lib/python3.6/dist-packages/ipykernel_launcher.py:164: RuntimeWarning: divide by zero encountered in log\n",
            "/usr/local/lib/python3.6/dist-packages/ipykernel_launcher.py:164: RuntimeWarning: invalid value encountered in multiply\n"
          ],
          "name": "stderr"
        },
        {
          "output_type": "stream",
          "text": [
            "Epoch 64 - Avg train loss: 0.97391 - Sample: <* *he wheat *an time watrrets forents o\n"
          ],
          "name": "stdout"
        },
        {
          "output_type": "stream",
          "text": [
            "/usr/local/lib/python3.6/dist-packages/ipykernel_launcher.py:164: RuntimeWarning: divide by zero encountered in log\n",
            "/usr/local/lib/python3.6/dist-packages/ipykernel_launcher.py:164: RuntimeWarning: invalid value encountered in multiply\n"
          ],
          "name": "stderr"
        },
        {
          "output_type": "stream",
          "text": [
            "Epoch 65 - Avg train loss: 0.96091 - Sample: <<<<<<<*hy *e* * ve reacol* foin* *ae an\n"
          ],
          "name": "stdout"
        },
        {
          "output_type": "stream",
          "text": [
            "/usr/local/lib/python3.6/dist-packages/ipykernel_launcher.py:164: RuntimeWarning: divide by zero encountered in log\n",
            "/usr/local/lib/python3.6/dist-packages/ipykernel_launcher.py:164: RuntimeWarning: invalid value encountered in multiply\n"
          ],
          "name": "stderr"
        },
        {
          "output_type": "stream",
          "text": [
            "Epoch 66 - Avg train loss: 0.96727 - Sample: <<<<<* am one exriying* *a*d to frose al\n"
          ],
          "name": "stdout"
        },
        {
          "output_type": "stream",
          "text": [
            "/usr/local/lib/python3.6/dist-packages/ipykernel_launcher.py:164: RuntimeWarning: divide by zero encountered in log\n",
            "/usr/local/lib/python3.6/dist-packages/ipykernel_launcher.py:164: RuntimeWarning: invalid value encountered in multiply\n"
          ],
          "name": "stderr"
        },
        {
          "output_type": "stream",
          "text": [
            "Epoch 67 - Avg train loss: 0.95283 - Sample: * enming theterk of myte tte thote stiin\n"
          ],
          "name": "stdout"
        },
        {
          "output_type": "stream",
          "text": [
            "/usr/local/lib/python3.6/dist-packages/ipykernel_launcher.py:164: RuntimeWarning: divide by zero encountered in log\n",
            "/usr/local/lib/python3.6/dist-packages/ipykernel_launcher.py:164: RuntimeWarning: invalid value encountered in multiply\n"
          ],
          "name": "stderr"
        },
        {
          "output_type": "stream",
          "text": [
            "Epoch 68 - Avg train loss: 0.94102 - Sample: <<*ot * lew whee lome teteind of thine w\n"
          ],
          "name": "stdout"
        },
        {
          "output_type": "stream",
          "text": [
            "/usr/local/lib/python3.6/dist-packages/ipykernel_launcher.py:164: RuntimeWarning: divide by zero encountered in log\n",
            "/usr/local/lib/python3.6/dist-packages/ipykernel_launcher.py:164: RuntimeWarning: invalid value encountered in multiply\n"
          ],
          "name": "stderr"
        },
        {
          "output_type": "stream",
          "text": [
            "Epoch 69 - Avg train loss: 0.93402 - Sample: <<<** now the sathere mfing*d the scimfe\n"
          ],
          "name": "stdout"
        },
        {
          "output_type": "stream",
          "text": [
            "/usr/local/lib/python3.6/dist-packages/ipykernel_launcher.py:164: RuntimeWarning: divide by zero encountered in log\n",
            "/usr/local/lib/python3.6/dist-packages/ipykernel_launcher.py:164: RuntimeWarning: invalid value encountered in multiply\n"
          ],
          "name": "stderr"
        },
        {
          "output_type": "stream",
          "text": [
            "Epoch 70 - Avg train loss: 0.93030 - Sample: <<<<<<<*roling tre thine whirite they sa\n"
          ],
          "name": "stdout"
        },
        {
          "output_type": "stream",
          "text": [
            "/usr/local/lib/python3.6/dist-packages/ipykernel_launcher.py:164: RuntimeWarning: divide by zero encountered in log\n",
            "/usr/local/lib/python3.6/dist-packages/ipykernel_launcher.py:164: RuntimeWarning: invalid value encountered in multiply\n"
          ],
          "name": "stderr"
        },
        {
          "output_type": "stream",
          "text": [
            "Epoch 71 - Avg train loss: 0.92943 - Sample: **allonnoqee the ofing* tal to thy hanke\n",
            "Epoch 72 - Avg train loss: 0.91364 - Sample: <<<**ou thite**bon * any the birth othin\n"
          ],
          "name": "stdout"
        },
        {
          "output_type": "stream",
          "text": [
            "/usr/local/lib/python3.6/dist-packages/ipykernel_launcher.py:164: RuntimeWarning: divide by zero encountered in log\n",
            "/usr/local/lib/python3.6/dist-packages/ipykernel_launcher.py:164: RuntimeWarning: invalid value encountered in multiply\n"
          ],
          "name": "stderr"
        },
        {
          "output_type": "stream",
          "text": [
            "Epoch 73 - Avg train loss: 0.93655 - Sample: <<*ow oeld on ewtar thou sauss eevore an\n"
          ],
          "name": "stdout"
        },
        {
          "output_type": "stream",
          "text": [
            "/usr/local/lib/python3.6/dist-packages/ipykernel_launcher.py:164: RuntimeWarning: divide by zero encountered in log\n",
            "/usr/local/lib/python3.6/dist-packages/ipykernel_launcher.py:164: RuntimeWarning: invalid value encountered in multiply\n"
          ],
          "name": "stderr"
        },
        {
          "output_type": "stream",
          "text": [
            "Epoch 74 - Avg train loss: 0.92148 - Sample: <<<<**ope nkworing* *te tand of the gils\n"
          ],
          "name": "stdout"
        },
        {
          "output_type": "stream",
          "text": [
            "/usr/local/lib/python3.6/dist-packages/ipykernel_launcher.py:164: RuntimeWarning: divide by zero encountered in log\n",
            "/usr/local/lib/python3.6/dist-packages/ipykernel_launcher.py:164: RuntimeWarning: invalid value encountered in multiply\n"
          ],
          "name": "stderr"
        },
        {
          "output_type": "stream",
          "text": [
            "Epoch 75 - Avg train loss: 0.91464 - Sample: * *hauw* dar therr ying hair on band for\n"
          ],
          "name": "stdout"
        },
        {
          "output_type": "stream",
          "text": [
            "/usr/local/lib/python3.6/dist-packages/ipykernel_launcher.py:164: RuntimeWarning: divide by zero encountered in log\n",
            "/usr/local/lib/python3.6/dist-packages/ipykernel_launcher.py:164: RuntimeWarning: invalid value encountered in multiply\n"
          ],
          "name": "stderr"
        },
        {
          "output_type": "stream",
          "text": [
            "Epoch 76 - Avg train loss: 0.89888 - Sample: <<<<<<<<<**ledd you wit roawes all the g\n"
          ],
          "name": "stdout"
        },
        {
          "output_type": "stream",
          "text": [
            "/usr/local/lib/python3.6/dist-packages/ipykernel_launcher.py:164: RuntimeWarning: divide by zero encountered in log\n",
            "/usr/local/lib/python3.6/dist-packages/ipykernel_launcher.py:164: RuntimeWarning: invalid value encountered in multiply\n"
          ],
          "name": "stderr"
        }
      ]
    },
    {
      "cell_type": "code",
      "metadata": {
        "id": "z61FW4lD6tVz",
        "colab_type": "code",
        "colab": {}
      },
      "source": [
        "tlm.train_model.summary()"
      ],
      "execution_count": 0,
      "outputs": []
    },
    {
      "cell_type": "code",
      "metadata": {
        "id": "m45cd8An9lAi",
        "colab_type": "code",
        "colab": {}
      },
      "source": [
        "tlm.logs.keys()"
      ],
      "execution_count": 0,
      "outputs": []
    },
    {
      "cell_type": "code",
      "metadata": {
        "id": "SZYGuFeC9lUe",
        "colab_type": "code",
        "colab": {}
      },
      "source": [
        "pd.set_option('display.max_colwidth', -1)\n",
        "ex = pd.DataFrame(columns=['example', 'topic_num', 'epoch'], data=tlm.logs['examples'])\n",
        "ex.sample(50).sort_values('epoch')"
      ],
      "execution_count": 0,
      "outputs": []
    },
    {
      "cell_type": "code",
      "metadata": {
        "id": "aFXBO8SjcVK6",
        "colab_type": "code",
        "colab": {}
      },
      "source": [
        "len(tlm.logs['val_loss']), len(tlm.logs['val_loss'][0]), len(tlm.logs['val_loss'][0][0])"
      ],
      "execution_count": 0,
      "outputs": []
    },
    {
      "cell_type": "code",
      "metadata": {
        "id": "OgnBZEQg9l74",
        "colab_type": "code",
        "colab": {}
      },
      "source": [
        "mean_losses = [np.array(v).mean(axis=0) for v in tlm.logs['val_loss']]\n",
        "max_losses = [np.array(v).max(axis=0) for v in tlm.logs['val_loss']]\n",
        "min_losses = [np.array(v).min(axis=0) for v in tlm.logs['val_loss']]\n",
        "epoch = np.arange(len(mean_losses))\n",
        "\n",
        "fig, axs = plt.subplots(3)\n",
        "for k in range(3):\n",
        "  axs[k].plot(epoch, [m[k] for m in mean_losses], color='b')\n",
        "  axs[k].fill_between(epoch, [m[k] for m in max_losses], [m[k] for m in min_losses], color='b', alpha=0.3)\n",
        "  axs[k].set_xlabel('Epoch')\n",
        "  axs[k].set_ylabel('Loss: {}'.format(tlm.train_model.metrics_names[k]))\n",
        "\n",
        "fig.set_size_inches(12,12)\n",
        "plt.title('validation loss - max, mean, min')\n",
        "\n",
        "plt.show()"
      ],
      "execution_count": 0,
      "outputs": []
    },
    {
      "cell_type": "code",
      "metadata": {
        "id": "jIj0eHx79mLi",
        "colab_type": "code",
        "colab": {}
      },
      "source": [
        "epoch = np.arange(len(tlm.logs['topic_entropy']))\n",
        "\n",
        "fig, ax_mean = plt.subplots()\n",
        "ax_mean.stackplot(epoch, np.array(tlm.logs['topic_fraction']).T)\n",
        "ax_mean.set_xlabel('Epoch')\n",
        "ax_mean.set_ylabel('Topic Balance')\n",
        "\n",
        "ax_ent = ax_mean.twinx()\n",
        "topic_entropy = [e[0] for e in tlm.logs['topic_entropy']]\n",
        "max_topic_entropy = [(-p*np.log(p)).sum() for p in tlm.logs['topic_fraction']]\n",
        "frac_topic_entropy = [e/m for e,m in zip(topic_entropy, max_topic_entropy)]\n",
        "ax_ent.plot(epoch, frac_topic_entropy, color='k')\n",
        "ax_ent.set_ylabel('Topic entropy/max topic entropy (for given topic balance)')\n",
        "ax_ent.set_ylim(0,1.05)\n",
        "\n",
        "fig.set_size_inches(12,6)\n",
        "fig.tight_layout()\n",
        "plt.title('topic balance estimates - max, mean, min')\n",
        "\n",
        "plt.show()"
      ],
      "execution_count": 0,
      "outputs": []
    },
    {
      "cell_type": "code",
      "metadata": {
        "id": "D8mm7fWNhaCg",
        "colab_type": "code",
        "colab": {}
      },
      "source": [
        ""
      ],
      "execution_count": 0,
      "outputs": []
    }
  ]
}